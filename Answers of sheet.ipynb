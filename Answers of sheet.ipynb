{
 "cells": [
  {
   "cell_type": "markdown",
   "id": "5e7c398d",
   "metadata": {},
   "source": [
    "##  Exercise 5.8 "
   ]
  },
  {
   "cell_type": "markdown",
   "id": "c21d149f",
   "metadata": {},
   "source": [
    "### Write a function which takes a single argument which is a matrix. The function should return a matrix which is the same as the function argument but every odd number is doubled"
   ]
  },
  {
   "cell_type": "code",
   "execution_count": 1,
   "id": "f560faf5",
   "metadata": {
    "vscode": {
     "languageId": "r"
    }
   },
   "outputs": [
    {
     "name": "stdout",
     "output_type": "stream",
     "text": [
      "     [,1] [,2] [,3]\n",
      "[1,]    2    2    6\n",
      "[2,]   10    2    6\n",
      "[3,]   -2   -2   -6\n"
     ]
    }
   ],
   "source": [
    "\n",
    "vect_1 <- c(1,1,3 ,5,2,6, -2,-1,-3)\n",
    "\n",
    "Func <- function(vect_1){\n",
    "vect_2 <- numeric()\n",
    "\n",
    "for(num in vect_1) {\n",
    "    if( num %% 2 != 0){\n",
    "        vect_2 <- c(vect_2, num * 2)}else{\n",
    "        vect_2 <- c(vect_2, num )\n",
    "    }        \n",
    "}\n",
    "mt = matrix(vect_2,nrow = 3, byrow = T )\n",
    "    \n",
    "print(mt)\n",
    "}\n",
    "Func(vect_1)"
   ]
  },
  {
   "cell_type": "markdown",
   "id": "9ee32a6f",
   "metadata": {},
   "source": [
    "# Exercise 5.9"
   ]
  },
  {
   "cell_type": "markdown",
   "id": "00e498c6",
   "metadata": {},
   "source": [
    "### Read the file Table0.txt from http: // www. r-exercises.com/ wp-content/ uploads/ 2015/ 12/ Table0. txt. \n",
    "#### • Change the names of the columns to Name, Age, Height, Weight and Sex.\n",
    "#### • Change the row names so that they are the same as Name, and remove the variable Name"
   ]
  },
  {
   "cell_type": "code",
   "execution_count": 103,
   "id": "a53332d5",
   "metadata": {
    "vscode": {
     "languageId": "r"
    }
   },
   "outputs": [
    {
     "name": "stderr",
     "output_type": "stream",
     "text": [
      "── \u001b[1mAttaching core tidyverse packages\u001b[22m ──────────────────────────────────────────────────────────────── tidyverse 2.0.0 ──\n",
      "\u001b[32m✔\u001b[39m \u001b[34mdplyr    \u001b[39m 1.1.0     \u001b[32m✔\u001b[39m \u001b[34mreadr    \u001b[39m 2.1.4\n",
      "\u001b[32m✔\u001b[39m \u001b[34mforcats  \u001b[39m 1.0.0     \u001b[32m✔\u001b[39m \u001b[34mstringr  \u001b[39m 1.5.0\n",
      "\u001b[32m✔\u001b[39m \u001b[34mggplot2  \u001b[39m 3.4.1     \u001b[32m✔\u001b[39m \u001b[34mtibble   \u001b[39m 3.2.0\n",
      "\u001b[32m✔\u001b[39m \u001b[34mlubridate\u001b[39m 1.9.2     \u001b[32m✔\u001b[39m \u001b[34mtidyr    \u001b[39m 1.3.0\n",
      "\u001b[32m✔\u001b[39m \u001b[34mpurrr    \u001b[39m 1.0.1     \n",
      "── \u001b[1mConflicts\u001b[22m ────────────────────────────────────────────────────────────────────────────────── tidyverse_conflicts() ──\n",
      "\u001b[31m✖\u001b[39m \u001b[34mdplyr\u001b[39m::\u001b[32mfilter()\u001b[39m masks \u001b[34mstats\u001b[39m::filter()\n",
      "\u001b[31m✖\u001b[39m \u001b[34mdplyr\u001b[39m::\u001b[32mlag()\u001b[39m    masks \u001b[34mstats\u001b[39m::lag()\n",
      "\u001b[36mℹ\u001b[39m Use the conflicted package (\u001b[3m\u001b[34m<http://conflicted.r-lib.org/>\u001b[39m\u001b[23m) to force all conflicts to become errors\n"
     ]
    }
   ],
   "source": [
    "library(tidyverse)"
   ]
  },
  {
   "cell_type": "code",
   "execution_count": 2,
   "id": "e1ef9b31",
   "metadata": {
    "vscode": {
     "languageId": "r"
    }
   },
   "outputs": [],
   "source": [
    "data <- data.frame(\n",
    "  Name = c(\"Alex\", \"Lilly\", \"Mark\", \"Oliver\", \"Martha\", \"Lucas\", \"Caroline\"),\n",
    "  Age = c(25, 31, 23, 52, 76, 49, 26),\n",
    "  Height = c(177, 163, 190, 179, 163, 183, 164),\n",
    "  Weight = c(57, 69, 83, 75, 70, 83, 53),\n",
    "  Gender = c(\"F\", \"F\", \"M\", \"M\", \"F\", \"M\", \"F\")\n",
    ")\n",
    "\n",
    "write.csv(data, file = \"personal_info.csv\", row.names = FALSE)\n"
   ]
  },
  {
   "cell_type": "code",
   "execution_count": 3,
   "id": "68bc3cc3",
   "metadata": {
    "vscode": {
     "languageId": "r"
    }
   },
   "outputs": [
    {
     "data": {
      "text/html": [
       "<table class=\"dataframe\">\n",
       "<caption>A data.frame: 7 × 5</caption>\n",
       "<thead>\n",
       "\t<tr><th scope=col>Name</th><th scope=col>Age</th><th scope=col>Height</th><th scope=col>Weight</th><th scope=col>Gender</th></tr>\n",
       "\t<tr><th scope=col>&lt;chr&gt;</th><th scope=col>&lt;dbl&gt;</th><th scope=col>&lt;dbl&gt;</th><th scope=col>&lt;dbl&gt;</th><th scope=col>&lt;chr&gt;</th></tr>\n",
       "</thead>\n",
       "<tbody>\n",
       "\t<tr><td>Alex    </td><td>25</td><td>177</td><td>57</td><td>F</td></tr>\n",
       "\t<tr><td>Lilly   </td><td>31</td><td>163</td><td>69</td><td>F</td></tr>\n",
       "\t<tr><td>Mark    </td><td>23</td><td>190</td><td>83</td><td>M</td></tr>\n",
       "\t<tr><td>Oliver  </td><td>52</td><td>179</td><td>75</td><td>M</td></tr>\n",
       "\t<tr><td>Martha  </td><td>76</td><td>163</td><td>70</td><td>F</td></tr>\n",
       "\t<tr><td>Lucas   </td><td>49</td><td>183</td><td>83</td><td>M</td></tr>\n",
       "\t<tr><td>Caroline</td><td>26</td><td>164</td><td>53</td><td>F</td></tr>\n",
       "</tbody>\n",
       "</table>\n"
      ],
      "text/latex": [
       "A data.frame: 7 × 5\n",
       "\\begin{tabular}{lllll}\n",
       " Name & Age & Height & Weight & Gender\\\\\n",
       " <chr> & <dbl> & <dbl> & <dbl> & <chr>\\\\\n",
       "\\hline\n",
       "\t Alex     & 25 & 177 & 57 & F\\\\\n",
       "\t Lilly    & 31 & 163 & 69 & F\\\\\n",
       "\t Mark     & 23 & 190 & 83 & M\\\\\n",
       "\t Oliver   & 52 & 179 & 75 & M\\\\\n",
       "\t Martha   & 76 & 163 & 70 & F\\\\\n",
       "\t Lucas    & 49 & 183 & 83 & M\\\\\n",
       "\t Caroline & 26 & 164 & 53 & F\\\\\n",
       "\\end{tabular}\n"
      ],
      "text/markdown": [
       "\n",
       "A data.frame: 7 × 5\n",
       "\n",
       "| Name &lt;chr&gt; | Age &lt;dbl&gt; | Height &lt;dbl&gt; | Weight &lt;dbl&gt; | Gender &lt;chr&gt; |\n",
       "|---|---|---|---|---|\n",
       "| Alex     | 25 | 177 | 57 | F |\n",
       "| Lilly    | 31 | 163 | 69 | F |\n",
       "| Mark     | 23 | 190 | 83 | M |\n",
       "| Oliver   | 52 | 179 | 75 | M |\n",
       "| Martha   | 76 | 163 | 70 | F |\n",
       "| Lucas    | 49 | 183 | 83 | M |\n",
       "| Caroline | 26 | 164 | 53 | F |\n",
       "\n"
      ],
      "text/plain": [
       "  Name     Age Height Weight Gender\n",
       "1 Alex     25  177    57     F     \n",
       "2 Lilly    31  163    69     F     \n",
       "3 Mark     23  190    83     M     \n",
       "4 Oliver   52  179    75     M     \n",
       "5 Martha   76  163    70     F     \n",
       "6 Lucas    49  183    83     M     \n",
       "7 Caroline 26  164    53     F     "
      ]
     },
     "metadata": {},
     "output_type": "display_data"
    }
   ],
   "source": [
    "data"
   ]
  },
  {
   "cell_type": "code",
   "execution_count": 4,
   "id": "39936083",
   "metadata": {
    "vscode": {
     "languageId": "r"
    }
   },
   "outputs": [],
   "source": [
    "# Read data from file\n",
    "data <- read.table(\"http://www.r-exercises.com/wp-content/uploads/2015/12/Table0.txt\", header = TRUE)\n",
    "\n",
    "# Rename columns\n",
    "names(data) <- c(\"Name\", \"Age\", \"Height\", \"Weight\", \"Sex\")\n",
    "\n"
   ]
  },
  {
   "cell_type": "code",
   "execution_count": 5,
   "id": "9702a2f4",
   "metadata": {
    "vscode": {
     "languageId": "r"
    }
   },
   "outputs": [
    {
     "data": {
      "text/html": [
       "<table class=\"dataframe\">\n",
       "<caption>A data.frame: 6 × 5</caption>\n",
       "<thead>\n",
       "\t<tr><th scope=col>Name</th><th scope=col>Age</th><th scope=col>Height</th><th scope=col>Weight</th><th scope=col>Sex</th></tr>\n",
       "\t<tr><th scope=col>&lt;chr&gt;</th><th scope=col>&lt;int&gt;</th><th scope=col>&lt;int&gt;</th><th scope=col>&lt;int&gt;</th><th scope=col>&lt;chr&gt;</th></tr>\n",
       "</thead>\n",
       "<tbody>\n",
       "\t<tr><td>Lilly   </td><td>31</td><td>163</td><td>69</td><td>F</td></tr>\n",
       "\t<tr><td>Mark    </td><td>23</td><td>190</td><td>83</td><td>M</td></tr>\n",
       "\t<tr><td>Oliver  </td><td>52</td><td>179</td><td>75</td><td>M</td></tr>\n",
       "\t<tr><td>Martha  </td><td>76</td><td>163</td><td>70</td><td>F</td></tr>\n",
       "\t<tr><td>Lucas   </td><td>49</td><td>183</td><td>83</td><td>M</td></tr>\n",
       "\t<tr><td>Caroline</td><td>26</td><td>164</td><td>53</td><td>F</td></tr>\n",
       "</tbody>\n",
       "</table>\n"
      ],
      "text/latex": [
       "A data.frame: 6 × 5\n",
       "\\begin{tabular}{lllll}\n",
       " Name & Age & Height & Weight & Sex\\\\\n",
       " <chr> & <int> & <int> & <int> & <chr>\\\\\n",
       "\\hline\n",
       "\t Lilly    & 31 & 163 & 69 & F\\\\\n",
       "\t Mark     & 23 & 190 & 83 & M\\\\\n",
       "\t Oliver   & 52 & 179 & 75 & M\\\\\n",
       "\t Martha   & 76 & 163 & 70 & F\\\\\n",
       "\t Lucas    & 49 & 183 & 83 & M\\\\\n",
       "\t Caroline & 26 & 164 & 53 & F\\\\\n",
       "\\end{tabular}\n"
      ],
      "text/markdown": [
       "\n",
       "A data.frame: 6 × 5\n",
       "\n",
       "| Name &lt;chr&gt; | Age &lt;int&gt; | Height &lt;int&gt; | Weight &lt;int&gt; | Sex &lt;chr&gt; |\n",
       "|---|---|---|---|---|\n",
       "| Lilly    | 31 | 163 | 69 | F |\n",
       "| Mark     | 23 | 190 | 83 | M |\n",
       "| Oliver   | 52 | 179 | 75 | M |\n",
       "| Martha   | 76 | 163 | 70 | F |\n",
       "| Lucas    | 49 | 183 | 83 | M |\n",
       "| Caroline | 26 | 164 | 53 | F |\n",
       "\n"
      ],
      "text/plain": [
       "  Name     Age Height Weight Sex\n",
       "1 Lilly    31  163    69     F  \n",
       "2 Mark     23  190    83     M  \n",
       "3 Oliver   52  179    75     M  \n",
       "4 Martha   76  163    70     F  \n",
       "5 Lucas    49  183    83     M  \n",
       "6 Caroline 26  164    53     F  "
      ]
     },
     "metadata": {},
     "output_type": "display_data"
    }
   ],
   "source": [
    "data"
   ]
  },
  {
   "cell_type": "code",
   "execution_count": 4,
   "id": "d4f1eec2",
   "metadata": {
    "vscode": {
     "languageId": "r"
    }
   },
   "outputs": [],
   "source": [
    "\n",
    "# Set row names to Name column and remove Name column\n",
    "rownames(data) <- data$Name\n",
    "data$Name <- NULL"
   ]
  },
  {
   "cell_type": "code",
   "execution_count": 5,
   "id": "b1425443",
   "metadata": {
    "vscode": {
     "languageId": "r"
    }
   },
   "outputs": [
    {
     "data": {
      "text/html": [
       "<table class=\"dataframe\">\n",
       "<caption>A data.frame: 6 × 4</caption>\n",
       "<thead>\n",
       "\t<tr><th></th><th scope=col>Age</th><th scope=col>Height</th><th scope=col>Weight</th><th scope=col>Sex</th></tr>\n",
       "\t<tr><th></th><th scope=col>&lt;int&gt;</th><th scope=col>&lt;int&gt;</th><th scope=col>&lt;int&gt;</th><th scope=col>&lt;chr&gt;</th></tr>\n",
       "</thead>\n",
       "<tbody>\n",
       "\t<tr><th scope=row>Lilly</th><td>31</td><td>163</td><td>69</td><td>F</td></tr>\n",
       "\t<tr><th scope=row>Mark</th><td>23</td><td>190</td><td>83</td><td>M</td></tr>\n",
       "\t<tr><th scope=row>Oliver</th><td>52</td><td>179</td><td>75</td><td>M</td></tr>\n",
       "\t<tr><th scope=row>Martha</th><td>76</td><td>163</td><td>70</td><td>F</td></tr>\n",
       "\t<tr><th scope=row>Lucas</th><td>49</td><td>183</td><td>83</td><td>M</td></tr>\n",
       "\t<tr><th scope=row>Caroline</th><td>26</td><td>164</td><td>53</td><td>F</td></tr>\n",
       "</tbody>\n",
       "</table>\n"
      ],
      "text/latex": [
       "A data.frame: 6 × 4\n",
       "\\begin{tabular}{r|llll}\n",
       "  & Age & Height & Weight & Sex\\\\\n",
       "  & <int> & <int> & <int> & <chr>\\\\\n",
       "\\hline\n",
       "\tLilly & 31 & 163 & 69 & F\\\\\n",
       "\tMark & 23 & 190 & 83 & M\\\\\n",
       "\tOliver & 52 & 179 & 75 & M\\\\\n",
       "\tMartha & 76 & 163 & 70 & F\\\\\n",
       "\tLucas & 49 & 183 & 83 & M\\\\\n",
       "\tCaroline & 26 & 164 & 53 & F\\\\\n",
       "\\end{tabular}\n"
      ],
      "text/markdown": [
       "\n",
       "A data.frame: 6 × 4\n",
       "\n",
       "| <!--/--> | Age &lt;int&gt; | Height &lt;int&gt; | Weight &lt;int&gt; | Sex &lt;chr&gt; |\n",
       "|---|---|---|---|---|\n",
       "| Lilly | 31 | 163 | 69 | F |\n",
       "| Mark | 23 | 190 | 83 | M |\n",
       "| Oliver | 52 | 179 | 75 | M |\n",
       "| Martha | 76 | 163 | 70 | F |\n",
       "| Lucas | 49 | 183 | 83 | M |\n",
       "| Caroline | 26 | 164 | 53 | F |\n",
       "\n"
      ],
      "text/plain": [
       "         Age Height Weight Sex\n",
       "Lilly    31  163    69     F  \n",
       "Mark     23  190    83     M  \n",
       "Oliver   52  179    75     M  \n",
       "Martha   76  163    70     F  \n",
       "Lucas    49  183    83     M  \n",
       "Caroline 26  164    53     F  "
      ]
     },
     "metadata": {},
     "output_type": "display_data"
    }
   ],
   "source": [
    "data"
   ]
  },
  {
   "cell_type": "markdown",
   "id": "d2f7aa13",
   "metadata": {},
   "source": [
    "# Exercise 5.10 \n",
    "For this exercise, we’ll use the (built-in) dataset VADeaths.\n",
    "- Make sure the object is a data frame, if not change it to a data frame.\n",
    "- Create a new variable, named Total, which is the sum of each row.\n",
    "- Change the order of the columns so total is the first variable."
   ]
  },
  {
   "cell_type": "code",
   "execution_count": 8,
   "id": "5d484336",
   "metadata": {
    "vscode": {
     "languageId": "r"
    }
   },
   "outputs": [],
   "source": [
    "# Call the data VADeaths\n",
    "data(VADeaths)"
   ]
  },
  {
   "cell_type": "code",
   "execution_count": 9,
   "id": "9980446c",
   "metadata": {
    "vscode": {
     "languageId": "r"
    }
   },
   "outputs": [
    {
     "data": {
      "text/html": [
       "<table class=\"dataframe\">\n",
       "<caption>A matrix: 5 × 4 of type dbl</caption>\n",
       "<thead>\n",
       "\t<tr><th></th><th scope=col>Rural Male</th><th scope=col>Rural Female</th><th scope=col>Urban Male</th><th scope=col>Urban Female</th></tr>\n",
       "</thead>\n",
       "<tbody>\n",
       "\t<tr><th scope=row>50-54</th><td>11.7</td><td> 8.7</td><td>15.4</td><td> 8.4</td></tr>\n",
       "\t<tr><th scope=row>55-59</th><td>18.1</td><td>11.7</td><td>24.3</td><td>13.6</td></tr>\n",
       "\t<tr><th scope=row>60-64</th><td>26.9</td><td>20.3</td><td>37.0</td><td>19.3</td></tr>\n",
       "\t<tr><th scope=row>65-69</th><td>41.0</td><td>30.9</td><td>54.6</td><td>35.1</td></tr>\n",
       "\t<tr><th scope=row>70-74</th><td>66.0</td><td>54.3</td><td>71.1</td><td>50.0</td></tr>\n",
       "</tbody>\n",
       "</table>\n"
      ],
      "text/latex": [
       "A matrix: 5 × 4 of type dbl\n",
       "\\begin{tabular}{r|llll}\n",
       "  & Rural Male & Rural Female & Urban Male & Urban Female\\\\\n",
       "\\hline\n",
       "\t50-54 & 11.7 &  8.7 & 15.4 &  8.4\\\\\n",
       "\t55-59 & 18.1 & 11.7 & 24.3 & 13.6\\\\\n",
       "\t60-64 & 26.9 & 20.3 & 37.0 & 19.3\\\\\n",
       "\t65-69 & 41.0 & 30.9 & 54.6 & 35.1\\\\\n",
       "\t70-74 & 66.0 & 54.3 & 71.1 & 50.0\\\\\n",
       "\\end{tabular}\n"
      ],
      "text/markdown": [
       "\n",
       "A matrix: 5 × 4 of type dbl\n",
       "\n",
       "| <!--/--> | Rural Male | Rural Female | Urban Male | Urban Female |\n",
       "|---|---|---|---|---|\n",
       "| 50-54 | 11.7 |  8.7 | 15.4 |  8.4 |\n",
       "| 55-59 | 18.1 | 11.7 | 24.3 | 13.6 |\n",
       "| 60-64 | 26.9 | 20.3 | 37.0 | 19.3 |\n",
       "| 65-69 | 41.0 | 30.9 | 54.6 | 35.1 |\n",
       "| 70-74 | 66.0 | 54.3 | 71.1 | 50.0 |\n",
       "\n"
      ],
      "text/plain": [
       "      Rural Male Rural Female Urban Male Urban Female\n",
       "50-54 11.7        8.7         15.4        8.4        \n",
       "55-59 18.1       11.7         24.3       13.6        \n",
       "60-64 26.9       20.3         37.0       19.3        \n",
       "65-69 41.0       30.9         54.6       35.1        \n",
       "70-74 66.0       54.3         71.1       50.0        "
      ]
     },
     "metadata": {},
     "output_type": "display_data"
    }
   ],
   "source": [
    "#View columns data\n",
    "View(VADeaths)"
   ]
  },
  {
   "cell_type": "code",
   "execution_count": 11,
   "id": "52821a71",
   "metadata": {
    "vscode": {
     "languageId": "r"
    }
   },
   "outputs": [
    {
     "data": {
      "text/html": [
       "'data.frame'"
      ],
      "text/latex": [
       "'data.frame'"
      ],
      "text/markdown": [
       "'data.frame'"
      ],
      "text/plain": [
       "[1] \"data.frame\""
      ]
     },
     "metadata": {},
     "output_type": "display_data"
    }
   ],
   "source": [
    "# check type -class- of data\n",
    "class(VADeaths)"
   ]
  },
  {
   "cell_type": "code",
   "execution_count": 13,
   "id": "0659ff8b",
   "metadata": {
    "vscode": {
     "languageId": "r"
    }
   },
   "outputs": [
    {
     "data": {
      "text/html": [
       "<style>\n",
       ".list-inline {list-style: none; margin:0; padding: 0}\n",
       ".list-inline>li {display: inline-block}\n",
       ".list-inline>li:not(:last-child)::after {content: \"\\00b7\"; padding: 0 .5ex}\n",
       "</style>\n",
       "<ol class=list-inline><li>'Rural Male'</li><li>'Rural Female'</li><li>'Urban Male'</li><li>'Urban Female'</li></ol>\n"
      ],
      "text/latex": [
       "\\begin{enumerate*}\n",
       "\\item 'Rural Male'\n",
       "\\item 'Rural Female'\n",
       "\\item 'Urban Male'\n",
       "\\item 'Urban Female'\n",
       "\\end{enumerate*}\n"
      ],
      "text/markdown": [
       "1. 'Rural Male'\n",
       "2. 'Rural Female'\n",
       "3. 'Urban Male'\n",
       "4. 'Urban Female'\n",
       "\n",
       "\n"
      ],
      "text/plain": [
       "[1] \"Rural Male\"   \"Rural Female\" \"Urban Male\"   \"Urban Female\""
      ]
     },
     "metadata": {},
     "output_type": "display_data"
    }
   ],
   "source": [
    "# columns' name\n",
    "colnames(VADeaths)"
   ]
  },
  {
   "cell_type": "code",
   "execution_count": 27,
   "id": "ecaefad8",
   "metadata": {
    "vscode": {
     "languageId": "r"
    }
   },
   "outputs": [
    {
     "name": "stdout",
     "output_type": "stream",
     "text": [
      "[1] \"Data exits in frame\"\n"
     ]
    }
   ],
   "source": [
    "#data is in  frame, but we will check it\n",
    "\n",
    "if(!is.data.frame(VADeaths)){\n",
    "    VADeaths = as.data.frame(VADeaths)\n",
    "    print(\"Now, Data in frame\")\n",
    "}else{\n",
    "    print(\"Data exits in frame\")\n",
    "}"
   ]
  },
  {
   "cell_type": "code",
   "execution_count": 29,
   "id": "084e19d1",
   "metadata": {
    "vscode": {
     "languageId": "r"
    }
   },
   "outputs": [
    {
     "data": {
      "text/html": [
       "<strong>Total:</strong> 618.4"
      ],
      "text/latex": [
       "\\textbf{Total:} 618.4"
      ],
      "text/markdown": [
       "**Total:** 618.4"
      ],
      "text/plain": [
       "Total \n",
       "618.4 "
      ]
     },
     "metadata": {},
     "output_type": "display_data"
    }
   ],
   "source": [
    "# Check column sum function \n",
    "colSums(VADeaths[1])"
   ]
  },
  {
   "cell_type": "code",
   "execution_count": 21,
   "id": "c6035ecf",
   "metadata": {
    "vscode": {
     "languageId": "r"
    }
   },
   "outputs": [],
   "source": [
    "# Create now row named total \n",
    "VADeaths$Total <- rowSums(VADeaths)"
   ]
  },
  {
   "cell_type": "code",
   "execution_count": 22,
   "id": "8d20c3dd",
   "metadata": {
    "vscode": {
     "languageId": "r"
    }
   },
   "outputs": [
    {
     "data": {
      "text/html": [
       "<table class=\"dataframe\">\n",
       "<caption>A data.frame: 5 × 5</caption>\n",
       "<thead>\n",
       "\t<tr><th></th><th scope=col>Rural Male</th><th scope=col>Rural Female</th><th scope=col>Urban Male</th><th scope=col>Urban Female</th><th scope=col>Total</th></tr>\n",
       "\t<tr><th></th><th scope=col>&lt;dbl&gt;</th><th scope=col>&lt;dbl&gt;</th><th scope=col>&lt;dbl&gt;</th><th scope=col>&lt;dbl&gt;</th><th scope=col>&lt;dbl&gt;</th></tr>\n",
       "</thead>\n",
       "<tbody>\n",
       "\t<tr><th scope=row>50-54</th><td>11.7</td><td> 8.7</td><td>15.4</td><td> 8.4</td><td> 44.2</td></tr>\n",
       "\t<tr><th scope=row>55-59</th><td>18.1</td><td>11.7</td><td>24.3</td><td>13.6</td><td> 67.7</td></tr>\n",
       "\t<tr><th scope=row>60-64</th><td>26.9</td><td>20.3</td><td>37.0</td><td>19.3</td><td>103.5</td></tr>\n",
       "\t<tr><th scope=row>65-69</th><td>41.0</td><td>30.9</td><td>54.6</td><td>35.1</td><td>161.6</td></tr>\n",
       "\t<tr><th scope=row>70-74</th><td>66.0</td><td>54.3</td><td>71.1</td><td>50.0</td><td>241.4</td></tr>\n",
       "</tbody>\n",
       "</table>\n"
      ],
      "text/latex": [
       "A data.frame: 5 × 5\n",
       "\\begin{tabular}{r|lllll}\n",
       "  & Rural Male & Rural Female & Urban Male & Urban Female & Total\\\\\n",
       "  & <dbl> & <dbl> & <dbl> & <dbl> & <dbl>\\\\\n",
       "\\hline\n",
       "\t50-54 & 11.7 &  8.7 & 15.4 &  8.4 &  44.2\\\\\n",
       "\t55-59 & 18.1 & 11.7 & 24.3 & 13.6 &  67.7\\\\\n",
       "\t60-64 & 26.9 & 20.3 & 37.0 & 19.3 & 103.5\\\\\n",
       "\t65-69 & 41.0 & 30.9 & 54.6 & 35.1 & 161.6\\\\\n",
       "\t70-74 & 66.0 & 54.3 & 71.1 & 50.0 & 241.4\\\\\n",
       "\\end{tabular}\n"
      ],
      "text/markdown": [
       "\n",
       "A data.frame: 5 × 5\n",
       "\n",
       "| <!--/--> | Rural Male &lt;dbl&gt; | Rural Female &lt;dbl&gt; | Urban Male &lt;dbl&gt; | Urban Female &lt;dbl&gt; | Total &lt;dbl&gt; |\n",
       "|---|---|---|---|---|---|\n",
       "| 50-54 | 11.7 |  8.7 | 15.4 |  8.4 |  44.2 |\n",
       "| 55-59 | 18.1 | 11.7 | 24.3 | 13.6 |  67.7 |\n",
       "| 60-64 | 26.9 | 20.3 | 37.0 | 19.3 | 103.5 |\n",
       "| 65-69 | 41.0 | 30.9 | 54.6 | 35.1 | 161.6 |\n",
       "| 70-74 | 66.0 | 54.3 | 71.1 | 50.0 | 241.4 |\n",
       "\n"
      ],
      "text/plain": [
       "      Rural Male Rural Female Urban Male Urban Female Total\n",
       "50-54 11.7        8.7         15.4        8.4          44.2\n",
       "55-59 18.1       11.7         24.3       13.6          67.7\n",
       "60-64 26.9       20.3         37.0       19.3         103.5\n",
       "65-69 41.0       30.9         54.6       35.1         161.6\n",
       "70-74 66.0       54.3         71.1       50.0         241.4"
      ]
     },
     "metadata": {},
     "output_type": "display_data"
    }
   ],
   "source": [
    "# View data after create total column\n",
    "View(VADeaths)"
   ]
  },
  {
   "cell_type": "code",
   "execution_count": 24,
   "id": "5e8dd57a",
   "metadata": {
    "vscode": {
     "languageId": "r"
    }
   },
   "outputs": [],
   "source": [
    "# reorder columns and rows,\n",
    "# VADeaths[rowOrder, columnsOrder]\n",
    "VADeaths = VADeaths[, c('Total', 'Rural Male', 'Rural Female', 'Urban Male', 'Urban Female')]"
   ]
  },
  {
   "cell_type": "code",
   "execution_count": 25,
   "id": "90038e0d",
   "metadata": {
    "vscode": {
     "languageId": "r"
    }
   },
   "outputs": [
    {
     "data": {
      "text/html": [
       "<table class=\"dataframe\">\n",
       "<caption>A data.frame: 5 × 5</caption>\n",
       "<thead>\n",
       "\t<tr><th></th><th scope=col>Total</th><th scope=col>Rural Male</th><th scope=col>Rural Female</th><th scope=col>Urban Male</th><th scope=col>Urban Female</th></tr>\n",
       "\t<tr><th></th><th scope=col>&lt;dbl&gt;</th><th scope=col>&lt;dbl&gt;</th><th scope=col>&lt;dbl&gt;</th><th scope=col>&lt;dbl&gt;</th><th scope=col>&lt;dbl&gt;</th></tr>\n",
       "</thead>\n",
       "<tbody>\n",
       "\t<tr><th scope=row>50-54</th><td> 44.2</td><td>11.7</td><td> 8.7</td><td>15.4</td><td> 8.4</td></tr>\n",
       "\t<tr><th scope=row>55-59</th><td> 67.7</td><td>18.1</td><td>11.7</td><td>24.3</td><td>13.6</td></tr>\n",
       "\t<tr><th scope=row>60-64</th><td>103.5</td><td>26.9</td><td>20.3</td><td>37.0</td><td>19.3</td></tr>\n",
       "\t<tr><th scope=row>65-69</th><td>161.6</td><td>41.0</td><td>30.9</td><td>54.6</td><td>35.1</td></tr>\n",
       "\t<tr><th scope=row>70-74</th><td>241.4</td><td>66.0</td><td>54.3</td><td>71.1</td><td>50.0</td></tr>\n",
       "</tbody>\n",
       "</table>\n"
      ],
      "text/latex": [
       "A data.frame: 5 × 5\n",
       "\\begin{tabular}{r|lllll}\n",
       "  & Total & Rural Male & Rural Female & Urban Male & Urban Female\\\\\n",
       "  & <dbl> & <dbl> & <dbl> & <dbl> & <dbl>\\\\\n",
       "\\hline\n",
       "\t50-54 &  44.2 & 11.7 &  8.7 & 15.4 &  8.4\\\\\n",
       "\t55-59 &  67.7 & 18.1 & 11.7 & 24.3 & 13.6\\\\\n",
       "\t60-64 & 103.5 & 26.9 & 20.3 & 37.0 & 19.3\\\\\n",
       "\t65-69 & 161.6 & 41.0 & 30.9 & 54.6 & 35.1\\\\\n",
       "\t70-74 & 241.4 & 66.0 & 54.3 & 71.1 & 50.0\\\\\n",
       "\\end{tabular}\n"
      ],
      "text/markdown": [
       "\n",
       "A data.frame: 5 × 5\n",
       "\n",
       "| <!--/--> | Total &lt;dbl&gt; | Rural Male &lt;dbl&gt; | Rural Female &lt;dbl&gt; | Urban Male &lt;dbl&gt; | Urban Female &lt;dbl&gt; |\n",
       "|---|---|---|---|---|---|\n",
       "| 50-54 |  44.2 | 11.7 |  8.7 | 15.4 |  8.4 |\n",
       "| 55-59 |  67.7 | 18.1 | 11.7 | 24.3 | 13.6 |\n",
       "| 60-64 | 103.5 | 26.9 | 20.3 | 37.0 | 19.3 |\n",
       "| 65-69 | 161.6 | 41.0 | 30.9 | 54.6 | 35.1 |\n",
       "| 70-74 | 241.4 | 66.0 | 54.3 | 71.1 | 50.0 |\n",
       "\n"
      ],
      "text/plain": [
       "      Total Rural Male Rural Female Urban Male Urban Female\n",
       "50-54  44.2 11.7        8.7         15.4        8.4        \n",
       "55-59  67.7 18.1       11.7         24.3       13.6        \n",
       "60-64 103.5 26.9       20.3         37.0       19.3        \n",
       "65-69 161.6 41.0       30.9         54.6       35.1        \n",
       "70-74 241.4 66.0       54.3         71.1       50.0        "
      ]
     },
     "metadata": {},
     "output_type": "display_data"
    }
   ],
   "source": [
    "#view data after reorder columns\n",
    "View(VADeaths)"
   ]
  },
  {
   "cell_type": "markdown",
   "id": "b1683832",
   "metadata": {},
   "source": [
    "## Exercise 5.11 \n",
    "### Make a data frame with 3 columns and 5 rows. Make sure first column is a sequence of numbers 1:5, and second column is a character vector.\n",
    " "
   ]
  },
  {
   "cell_type": "code",
   "execution_count": 8,
   "id": "5e1847c9",
   "metadata": {
    "vscode": {
     "languageId": "r"
    }
   },
   "outputs": [
    {
     "data": {
      "text/html": [
       "<table class=\"dataframe\">\n",
       "<caption>A data.frame: 5 × 3</caption>\n",
       "<thead>\n",
       "\t<tr><th scope=col>col1</th><th scope=col>col2</th><th scope=col>col3</th></tr>\n",
       "\t<tr><th scope=col>&lt;int&gt;</th><th scope=col>&lt;chr&gt;</th><th scope=col>&lt;lgl&gt;</th></tr>\n",
       "</thead>\n",
       "<tbody>\n",
       "\t<tr><td>1</td><td>apple     </td><td> TRUE</td></tr>\n",
       "\t<tr><td>2</td><td>banana    </td><td>FALSE</td></tr>\n",
       "\t<tr><td>3</td><td>cherry    </td><td> TRUE</td></tr>\n",
       "\t<tr><td>4</td><td>date      </td><td>FALSE</td></tr>\n",
       "\t<tr><td>5</td><td>elderberry</td><td> TRUE</td></tr>\n",
       "</tbody>\n",
       "</table>\n"
      ],
      "text/latex": [
       "A data.frame: 5 × 3\n",
       "\\begin{tabular}{lll}\n",
       " col1 & col2 & col3\\\\\n",
       " <int> & <chr> & <lgl>\\\\\n",
       "\\hline\n",
       "\t 1 & apple      &  TRUE\\\\\n",
       "\t 2 & banana     & FALSE\\\\\n",
       "\t 3 & cherry     &  TRUE\\\\\n",
       "\t 4 & date       & FALSE\\\\\n",
       "\t 5 & elderberry &  TRUE\\\\\n",
       "\\end{tabular}\n"
      ],
      "text/markdown": [
       "\n",
       "A data.frame: 5 × 3\n",
       "\n",
       "| col1 &lt;int&gt; | col2 &lt;chr&gt; | col3 &lt;lgl&gt; |\n",
       "|---|---|---|\n",
       "| 1 | apple      |  TRUE |\n",
       "| 2 | banana     | FALSE |\n",
       "| 3 | cherry     |  TRUE |\n",
       "| 4 | date       | FALSE |\n",
       "| 5 | elderberry |  TRUE |\n",
       "\n"
      ],
      "text/plain": [
       "  col1 col2       col3 \n",
       "1 1    apple       TRUE\n",
       "2 2    banana     FALSE\n",
       "3 3    cherry      TRUE\n",
       "4 4    date       FALSE\n",
       "5 5    elderberry  TRUE"
      ]
     },
     "metadata": {},
     "output_type": "display_data"
    }
   ],
   "source": [
    "df <- data.frame(\n",
    "  col1 = 1:5,\n",
    "  col2 = c(\"apple\", \"banana\", \"cherry\", \"date\", \"elderberry\"),\n",
    "  col3 = c(TRUE, FALSE, TRUE, FALSE, TRUE)\n",
    ")\n",
    "\n",
    "# Print the data frame\n",
    "df"
   ]
  },
  {
   "cell_type": "markdown",
   "id": "c4cba3be",
   "metadata": {},
   "source": [
    "# Exercise 5.12\n",
    "### Extract the first 3 columns and first 3 rows of your matrix using [] notation.\n"
   ]
  },
  {
   "cell_type": "code",
   "execution_count": 43,
   "id": "76ce87cb",
   "metadata": {
    "vscode": {
     "languageId": "r"
    }
   },
   "outputs": [
    {
     "data": {
      "text/html": [
       "<table class=\"dataframe\">\n",
       "<caption>A matrix: 4 × 4 of type int</caption>\n",
       "<tbody>\n",
       "\t<tr><td> 1</td><td> 2</td><td> 3</td><td> 4</td></tr>\n",
       "\t<tr><td> 5</td><td> 6</td><td> 7</td><td> 8</td></tr>\n",
       "\t<tr><td> 9</td><td>10</td><td>11</td><td>12</td></tr>\n",
       "\t<tr><td>13</td><td>14</td><td>15</td><td>16</td></tr>\n",
       "</tbody>\n",
       "</table>\n"
      ],
      "text/latex": [
       "A matrix: 4 × 4 of type int\n",
       "\\begin{tabular}{llll}\n",
       "\t  1 &  2 &  3 &  4\\\\\n",
       "\t  5 &  6 &  7 &  8\\\\\n",
       "\t  9 & 10 & 11 & 12\\\\\n",
       "\t 13 & 14 & 15 & 16\\\\\n",
       "\\end{tabular}\n"
      ],
      "text/markdown": [
       "\n",
       "A matrix: 4 × 4 of type int\n",
       "\n",
       "|  1 |  2 |  3 |  4 |\n",
       "|  5 |  6 |  7 |  8 |\n",
       "|  9 | 10 | 11 | 12 |\n",
       "| 13 | 14 | 15 | 16 |\n",
       "\n"
      ],
      "text/plain": [
       "     [,1] [,2] [,3] [,4]\n",
       "[1,]  1    2    3    4  \n",
       "[2,]  5    6    7    8  \n",
       "[3,]  9   10   11   12  \n",
       "[4,] 13   14   15   16  "
      ]
     },
     "metadata": {},
     "output_type": "display_data"
    }
   ],
   "source": [
    "# create matris contains numbers from 1 to 16\n",
    "numbers = c(seq(1:16)) \n",
    "# create matrix contains numbers, number of rows = 4, number of columns = 4\n",
    "mat = matrix(numbers, ncol = 4, nrow = 4, byrow = TRUE)\n",
    "mat"
   ]
  },
  {
   "cell_type": "code",
   "execution_count": 44,
   "id": "d6031e29",
   "metadata": {
    "vscode": {
     "languageId": "r"
    }
   },
   "outputs": [
    {
     "data": {
      "text/html": [
       "<table class=\"dataframe\">\n",
       "<caption>A matrix: 4 × 3 of type int</caption>\n",
       "<tbody>\n",
       "\t<tr><td> 1</td><td> 2</td><td> 3</td></tr>\n",
       "\t<tr><td> 5</td><td> 6</td><td> 7</td></tr>\n",
       "\t<tr><td> 9</td><td>10</td><td>11</td></tr>\n",
       "\t<tr><td>13</td><td>14</td><td>15</td></tr>\n",
       "</tbody>\n",
       "</table>\n"
      ],
      "text/latex": [
       "A matrix: 4 × 3 of type int\n",
       "\\begin{tabular}{lll}\n",
       "\t  1 &  2 &  3\\\\\n",
       "\t  5 &  6 &  7\\\\\n",
       "\t  9 & 10 & 11\\\\\n",
       "\t 13 & 14 & 15\\\\\n",
       "\\end{tabular}\n"
      ],
      "text/markdown": [
       "\n",
       "A matrix: 4 × 3 of type int\n",
       "\n",
       "|  1 |  2 |  3 |\n",
       "|  5 |  6 |  7 |\n",
       "|  9 | 10 | 11 |\n",
       "| 13 | 14 | 15 |\n",
       "\n"
      ],
      "text/plain": [
       "     [,1] [,2] [,3]\n",
       "[1,]  1    2    3  \n",
       "[2,]  5    6    7  \n",
       "[3,]  9   10   11  \n",
       "[4,] 13   14   15  "
      ]
     },
     "metadata": {},
     "output_type": "display_data"
    }
   ],
   "source": [
    "# Extract first three columns\n",
    "#[row, column]\n",
    "mat[,1:3]"
   ]
  },
  {
   "cell_type": "code",
   "execution_count": 45,
   "id": "8fe305ad",
   "metadata": {
    "vscode": {
     "languageId": "r"
    }
   },
   "outputs": [
    {
     "data": {
      "text/html": [
       "<table class=\"dataframe\">\n",
       "<caption>A matrix: 3 × 4 of type int</caption>\n",
       "<tbody>\n",
       "\t<tr><td>1</td><td> 2</td><td> 3</td><td> 4</td></tr>\n",
       "\t<tr><td>5</td><td> 6</td><td> 7</td><td> 8</td></tr>\n",
       "\t<tr><td>9</td><td>10</td><td>11</td><td>12</td></tr>\n",
       "</tbody>\n",
       "</table>\n"
      ],
      "text/latex": [
       "A matrix: 3 × 4 of type int\n",
       "\\begin{tabular}{llll}\n",
       "\t 1 &  2 &  3 &  4\\\\\n",
       "\t 5 &  6 &  7 &  8\\\\\n",
       "\t 9 & 10 & 11 & 12\\\\\n",
       "\\end{tabular}\n"
      ],
      "text/markdown": [
       "\n",
       "A matrix: 3 × 4 of type int\n",
       "\n",
       "| 1 |  2 |  3 |  4 |\n",
       "| 5 |  6 |  7 |  8 |\n",
       "| 9 | 10 | 11 | 12 |\n",
       "\n"
      ],
      "text/plain": [
       "     [,1] [,2] [,3] [,4]\n",
       "[1,] 1     2    3    4  \n",
       "[2,] 5     6    7    8  \n",
       "[3,] 9    10   11   12  "
      ]
     },
     "metadata": {},
     "output_type": "display_data"
    }
   ],
   "source": [
    "# Extrat first 3 rows\n",
    "mat[1:3,]"
   ]
  },
  {
   "cell_type": "markdown",
   "id": "d57615f6",
   "metadata": {},
   "source": [
    "# Exercise 5.13\n",
    "You have measured five cylinders,\n",
    "their lengths are: 2.1,3.4, 2.5, 2.7, 2.9 and \n",
    "the diameters are: 0.3, 0.5, 0.6, 0.9, 1.1 \n",
    "Read these data into two vectors (give the vectors appropriate names). \n",
    "- Calculate the correlation between lengths and diameters (use the cor function).\n",
    "- Calculate the volume of each cylinder (V = length ∗ pi ∗ (diameter/2))\n",
    "- Calculate the mean, standard deviation, and coefficient of variation of the volumes"
   ]
  },
  {
   "cell_type": "code",
   "execution_count": 54,
   "id": "0159dad7",
   "metadata": {
    "vscode": {
     "languageId": "r"
    }
   },
   "outputs": [
    {
     "data": {
      "text/html": [
       "0.328282173229542"
      ],
      "text/latex": [
       "0.328282173229542"
      ],
      "text/markdown": [
       "0.328282173229542"
      ],
      "text/plain": [
       "[1] 0.3282822"
      ]
     },
     "metadata": {},
     "output_type": "display_data"
    }
   ],
   "source": [
    "# Create vectors of lengths and diameters\n",
    "lengths = c(2.1,3.4, 2.5, 2.7, 2.9 )\n",
    "diameters = c(0.3, 0.5, 0.6, 0.9, 1.1)\n"
   ]
  },
  {
   "cell_type": "code",
   "execution_count": 55,
   "id": "2bd948fa",
   "metadata": {
    "vscode": {
     "languageId": "r"
    }
   },
   "outputs": [
    {
     "data": {
      "text/html": [
       "0.328282173229542"
      ],
      "text/latex": [
       "0.328282173229542"
      ],
      "text/markdown": [
       "0.328282173229542"
      ],
      "text/plain": [
       "[1] 0.3282822"
      ]
     },
     "metadata": {},
     "output_type": "display_data"
    }
   ],
   "source": [
    "# Correlation\n",
    "cor(lengths, diameters)"
   ]
  },
  {
   "cell_type": "code",
   "execution_count": 63,
   "id": "6319bdb5",
   "metadata": {
    "vscode": {
     "languageId": "r"
    }
   },
   "outputs": [
    {
     "data": {
      "text/html": [
       "<style>\n",
       ".list-inline {list-style: none; margin:0; padding: 0}\n",
       ".list-inline>li {display: inline-block}\n",
       ".list-inline>li:not(:last-child)::after {content: \"\\00b7\"; padding: 0 .5ex}\n",
       "</style>\n",
       "<ol class=list-inline><li>0.989601685880785</li><li>2.67035375555132</li><li>2.35619449019234</li><li>3.8170350741116</li><li>5.01084028247572</li></ol>\n"
      ],
      "text/latex": [
       "\\begin{enumerate*}\n",
       "\\item 0.989601685880785\n",
       "\\item 2.67035375555132\n",
       "\\item 2.35619449019234\n",
       "\\item 3.8170350741116\n",
       "\\item 5.01084028247572\n",
       "\\end{enumerate*}\n"
      ],
      "text/markdown": [
       "1. 0.989601685880785\n",
       "2. 2.67035375555132\n",
       "3. 2.35619449019234\n",
       "4. 3.8170350741116\n",
       "5. 5.01084028247572\n",
       "\n",
       "\n"
      ],
      "text/plain": [
       "[1] 0.9896017 2.6703538 2.3561945 3.8170351 5.0108403"
      ]
     },
     "metadata": {},
     "output_type": "display_data"
    }
   ],
   "source": [
    "# Calculate volumn\n",
    "# pi is exsit value in R\n",
    "Vol = (diameters/2) * lengths * pi\n",
    "Vol"
   ]
  },
  {
   "cell_type": "code",
   "execution_count": 64,
   "id": "703574c9",
   "metadata": {
    "vscode": {
     "languageId": "r"
    }
   },
   "outputs": [
    {
     "data": {
      "text/html": [
       "2.96880505764235"
      ],
      "text/latex": [
       "2.96880505764235"
      ],
      "text/markdown": [
       "2.96880505764235"
      ],
      "text/plain": [
       "[1] 2.968805"
      ]
     },
     "metadata": {},
     "output_type": "display_data"
    }
   ],
   "source": [
    "# mean of volumes\n",
    "mean(Vol)"
   ]
  },
  {
   "cell_type": "code",
   "execution_count": 69,
   "id": "897b375d",
   "metadata": {
    "vscode": {
     "languageId": "r"
    }
   },
   "outputs": [
    {
     "data": {
      "text/html": [
       "1.52241690201496"
      ],
      "text/latex": [
       "1.52241690201496"
      ],
      "text/markdown": [
       "1.52241690201496"
      ],
      "text/plain": [
       "[1] 1.522417"
      ]
     },
     "metadata": {},
     "output_type": "display_data"
    }
   ],
   "source": [
    "# standard deviation of volumes\n",
    "sd(Vol)"
   ]
  },
  {
   "cell_type": "code",
   "execution_count": 74,
   "id": "9b60ab98",
   "metadata": {
    "vscode": {
     "languageId": "r"
    }
   },
   "outputs": [
    {
     "data": {
      "text/html": [
       "51.2804604026096"
      ],
      "text/latex": [
       "51.2804604026096"
      ],
      "text/markdown": [
       "51.2804604026096"
      ],
      "text/plain": [
       "[1] 51.28046"
      ]
     },
     "metadata": {},
     "output_type": "display_data"
    }
   ],
   "source": [
    "# coefficient of variation of volumes\n",
    "coeffVol = (sd(Vol) / mean(Vol)) * 100\n",
    "coeffVol"
   ]
  },
  {
   "cell_type": "markdown",
   "id": "a6cdf641",
   "metadata": {},
   "source": [
    "# Exercise 5.14 \n",
    "Write a function that takes 3 numbers a, b, and c as inputs\n",
    "and returns the smallest number of the three.\n"
   ]
  },
  {
   "cell_type": "code",
   "execution_count": 78,
   "id": "0f78178e",
   "metadata": {
    "vscode": {
     "languageId": "r"
    }
   },
   "outputs": [
    {
     "name": "stdout",
     "output_type": "stream",
     "text": [
      "1\n",
      "2\n",
      "3\n"
     ]
    }
   ],
   "source": [
    "# input x, y, z\n",
    "x = readline()\n",
    "y = readline()\n",
    "z = readline()"
   ]
  },
  {
   "cell_type": "code",
   "execution_count": 79,
   "id": "e3d862b6",
   "metadata": {
    "vscode": {
     "languageId": "r"
    }
   },
   "outputs": [
    {
     "data": {
      "text/html": [
       "'1'"
      ],
      "text/latex": [
       "'1'"
      ],
      "text/markdown": [
       "'1'"
      ],
      "text/plain": [
       "[1] \"1\""
      ]
     },
     "metadata": {},
     "output_type": "display_data"
    }
   ],
   "source": [
    "# Out min in x, y, z\n",
    "min(x,y,z)"
   ]
  },
  {
   "cell_type": "markdown",
   "id": "20232380",
   "metadata": {},
   "source": [
    "# Exercise 5.15\n",
    "Write a function that takes an array of numbers x and returns the smallest number in the array."
   ]
  },
  {
   "cell_type": "code",
   "execution_count": 89,
   "id": "ce2f2c4f",
   "metadata": {
    "vscode": {
     "languageId": "r"
    }
   },
   "outputs": [],
   "source": [
    "# Fucntion\n",
    "MinNumInArray <- function(arr){\n",
    "    return(min(arr))\n",
    "}"
   ]
  },
  {
   "cell_type": "code",
   "execution_count": 91,
   "id": "657741b2",
   "metadata": {
    "vscode": {
     "languageId": "r"
    }
   },
   "outputs": [
    {
     "data": {
      "text/html": [
       "-1"
      ],
      "text/latex": [
       "-1"
      ],
      "text/markdown": [
       "-1"
      ],
      "text/plain": [
       "[1] -1"
      ]
     },
     "metadata": {},
     "output_type": "display_data"
    }
   ],
   "source": [
    "# Call function\n",
    "arr = array(c(1, 2, 3, -1))\n",
    "MinNumInArray(arr)"
   ]
  },
  {
   "cell_type": "markdown",
   "id": "4fb48a78",
   "metadata": {},
   "source": [
    "# Exercise 5.16 \n",
    "### Write a function which recursively computes the n’th Fibonacci numb"
   ]
  },
  {
   "cell_type": "code",
   "execution_count": 100,
   "id": "aa45b6d5",
   "metadata": {
    "vscode": {
     "languageId": "r"
    }
   },
   "outputs": [],
   "source": [
    "# fibonacci function\n",
    "fib <- function(n){\n",
    "    if (n <= 1){\n",
    "        return(n)\n",
    "    }else{\n",
    "    return(fib(n - 1) + fib(n - 2))\n",
    "    }\n",
    "}\n",
    " "
   ]
  },
  {
   "cell_type": "code",
   "execution_count": 101,
   "id": "ba02c0e3",
   "metadata": {
    "vscode": {
     "languageId": "r"
    }
   },
   "outputs": [
    {
     "data": {
      "text/html": [
       "2"
      ],
      "text/latex": [
       "2"
      ],
      "text/markdown": [
       "2"
      ],
      "text/plain": [
       "[1] 2"
      ]
     },
     "metadata": {},
     "output_type": "display_data"
    }
   ],
   "source": [
    "# fibonacci of 3\n",
    "fib(3)"
   ]
  },
  {
   "cell_type": "markdown",
   "id": "6bf818ef",
   "metadata": {},
   "source": [
    "# Exercise 5.17 Find the bug:"
   ]
  },
  {
   "cell_type": "code",
   "execution_count": 104,
   "id": "d3fe4db5",
   "metadata": {
    "vscode": {
     "languageId": "r"
    }
   },
   "outputs": [
    {
     "name": "stdout",
     "output_type": "stream",
     "text": [
      " [1]  1  2  3  4  5  6  7  8  9 10\n"
     ]
    }
   ],
   "source": [
    "# 1) The bug is commented and correction in code\n",
    "\n",
    "# x <- 0:9 >> x <- seq(0:9)\n",
    "x <- seq(0:9)\n",
    "# if(x[1] = 1\n",
    "if(x[1] == 1){\n",
    "    print(x)\n",
    "}"
   ]
  },
  {
   "cell_type": "code",
   "execution_count": 108,
   "id": "aeebc430",
   "metadata": {
    "vscode": {
     "languageId": "r"
    }
   },
   "outputs": [],
   "source": [
    "#2)\n",
    "myfactorial <- function(x)\n",
    "{\n",
    "    #  if(x = 1)\n",
    "    # curly brackets\n",
    "    if(x == 1){\n",
    "        return(1)} else{\n",
    "        return (x * myfactorial(x))}\n",
    "}"
   ]
  },
  {
   "cell_type": "code",
   "execution_count": 114,
   "id": "ff7fe4f4",
   "metadata": {
    "vscode": {
     "languageId": "r"
    }
   },
   "outputs": [
    {
     "name": "stderr",
     "output_type": "stream",
     "text": [
      "Warning message in sqrt(p):\n",
      "\"NaNs produced\"\n"
     ]
    },
    {
     "ename": "ERROR",
     "evalue": "Error in if (sqrt(p) == 1) return(1) else return(0): missing value where TRUE/FALSE needed\n",
     "output_type": "error",
     "traceback": [
      "Error in if (sqrt(p) == 1) return(1) else return(0): missing value where TRUE/FALSE needed\nTraceback:\n",
      "1. f(1)"
     ]
    }
   ],
   "source": [
    "#3)\n",
    "f <- function(n,p = -1){\n",
    "    if(sqrt(p)== 1)\n",
    "        #1\n",
    "        return(1)\n",
    "    else\n",
    "        #0\n",
    "        return(0)\n",
    "}\n",
    "f(1)"
   ]
  },
  {
   "cell_type": "markdown",
   "id": "5d7ffe0a",
   "metadata": {},
   "source": [
    "# Exercise 5.18 \n",
    "The following data are 10 days rainfall amounts. Read\n",
    "them into a vector. Calculate the following:\n",
    "1. The mean,\n",
    "2. The standard deviation,\n",
    "3. The cumulative rainfall, and\n",
    "4. The day with the highest rainfall.\n",
    "0.1 - 0.6 - 33.8 - 1.9 - 9.6 - 4.3 - 33.7 - 0.3 - 0.0 - 0.1"
   ]
  },
  {
   "cell_type": "code",
   "execution_count": 115,
   "id": "6afa860e",
   "metadata": {
    "vscode": {
     "languageId": "r"
    }
   },
   "outputs": [],
   "source": [
    "days = c(0.1, 0.6, 33.8, 1.9, 9.6, 4.3, 33.7, 0.3, 0.0, 0.1)\n"
   ]
  },
  {
   "cell_type": "code",
   "execution_count": 116,
   "id": "70f8f64d",
   "metadata": {
    "vscode": {
     "languageId": "r"
    }
   },
   "outputs": [
    {
     "data": {
      "text/html": [
       "8.44"
      ],
      "text/latex": [
       "8.44"
      ],
      "text/markdown": [
       "8.44"
      ],
      "text/plain": [
       "[1] 8.44"
      ]
     },
     "metadata": {},
     "output_type": "display_data"
    }
   ],
   "source": [
    "#mean \n",
    "mean(days)"
   ]
  },
  {
   "cell_type": "code",
   "execution_count": 117,
   "id": "15804386",
   "metadata": {
    "vscode": {
     "languageId": "r"
    }
   },
   "outputs": [
    {
     "data": {
      "text/html": [
       "13.6647315703196"
      ],
      "text/latex": [
       "13.6647315703196"
      ],
      "text/markdown": [
       "13.6647315703196"
      ],
      "text/plain": [
       "[1] 13.66473"
      ]
     },
     "metadata": {},
     "output_type": "display_data"
    }
   ],
   "source": [
    "sd(days)"
   ]
  },
  {
   "cell_type": "code",
   "execution_count": 119,
   "id": "2c281d5e",
   "metadata": {
    "vscode": {
     "languageId": "r"
    }
   },
   "outputs": [
    {
     "data": {
      "text/html": [
       "3"
      ],
      "text/latex": [
       "3"
      ],
      "text/markdown": [
       "3"
      ],
      "text/plain": [
       "[1] 3"
      ]
     },
     "metadata": {},
     "output_type": "display_data"
    }
   ],
   "source": [
    "# The day with the highest rainfall\n",
    "## Max value in days\n",
    "mx = max(days)\n",
    "## Day number on days(index of day)\n",
    "which(days == mx)"
   ]
  },
  {
   "cell_type": "markdown",
   "id": "533a1f0e",
   "metadata": {},
   "source": [
    "# Exercise 5.19 \n",
    "You have two vectors x and y with (1,2,5,9,11) and (2,5,1,0,23)\n",
    "as their elements, respectively. Calculate the following:\n",
    "- Values that are contained in both x and y,\n",
    "- Values that are in x but not y, and\n",
    "- A vector that contains all values contained in either x or y.\n"
   ]
  },
  {
   "cell_type": "code",
   "execution_count": 122,
   "id": "969d67a6",
   "metadata": {
    "vscode": {
     "languageId": "r"
    }
   },
   "outputs": [],
   "source": [
    "x = c(1, 2, 5, 9, 11) \n",
    "y = c(2, 5, 1, 0, 23)\n"
   ]
  },
  {
   "cell_type": "code",
   "execution_count": 123,
   "id": "b6d38ed4",
   "metadata": {
    "vscode": {
     "languageId": "r"
    }
   },
   "outputs": [
    {
     "data": {
      "text/html": [
       "<style>\n",
       ".list-inline {list-style: none; margin:0; padding: 0}\n",
       ".list-inline>li {display: inline-block}\n",
       ".list-inline>li:not(:last-child)::after {content: \"\\00b7\"; padding: 0 .5ex}\n",
       "</style>\n",
       "<ol class=list-inline><li>1</li><li>2</li><li>5</li></ol>\n"
      ],
      "text/latex": [
       "\\begin{enumerate*}\n",
       "\\item 1\n",
       "\\item 2\n",
       "\\item 5\n",
       "\\end{enumerate*}\n"
      ],
      "text/markdown": [
       "1. 1\n",
       "2. 2\n",
       "3. 5\n",
       "\n",
       "\n"
      ],
      "text/plain": [
       "[1] 1 2 5"
      ]
     },
     "metadata": {},
     "output_type": "display_data"
    }
   ],
   "source": [
    "# Values that are contained in both x and y\n",
    "intersect(x,y)"
   ]
  },
  {
   "cell_type": "code",
   "execution_count": 127,
   "id": "1106968f",
   "metadata": {
    "vscode": {
     "languageId": "r"
    }
   },
   "outputs": [
    {
     "data": {
      "text/html": [
       "<style>\n",
       ".list-inline {list-style: none; margin:0; padding: 0}\n",
       ".list-inline>li {display: inline-block}\n",
       ".list-inline>li:not(:last-child)::after {content: \"\\00b7\"; padding: 0 .5ex}\n",
       "</style>\n",
       "<ol class=list-inline><li>9</li><li>11</li></ol>\n"
      ],
      "text/latex": [
       "\\begin{enumerate*}\n",
       "\\item 9\n",
       "\\item 11\n",
       "\\end{enumerate*}\n"
      ],
      "text/markdown": [
       "1. 9\n",
       "2. 11\n",
       "\n",
       "\n"
      ],
      "text/plain": [
       "[1]  9 11"
      ]
     },
     "metadata": {},
     "output_type": "display_data"
    }
   ],
   "source": [
    "# Values that are in x but not y\n",
    "x[!(x %in% y)]"
   ]
  },
  {
   "cell_type": "code",
   "execution_count": 128,
   "id": "1a12fb44",
   "metadata": {
    "vscode": {
     "languageId": "r"
    }
   },
   "outputs": [
    {
     "data": {
      "text/html": [
       "<style>\n",
       ".list-inline {list-style: none; margin:0; padding: 0}\n",
       ".list-inline>li {display: inline-block}\n",
       ".list-inline>li:not(:last-child)::after {content: \"\\00b7\"; padding: 0 .5ex}\n",
       "</style>\n",
       "<ol class=list-inline><li>1</li><li>2</li><li>5</li><li>9</li><li>11</li><li>0</li><li>23</li></ol>\n"
      ],
      "text/latex": [
       "\\begin{enumerate*}\n",
       "\\item 1\n",
       "\\item 2\n",
       "\\item 5\n",
       "\\item 9\n",
       "\\item 11\n",
       "\\item 0\n",
       "\\item 23\n",
       "\\end{enumerate*}\n"
      ],
      "text/markdown": [
       "1. 1\n",
       "2. 2\n",
       "3. 5\n",
       "4. 9\n",
       "5. 11\n",
       "6. 0\n",
       "7. 23\n",
       "\n",
       "\n"
      ],
      "text/plain": [
       "[1]  1  2  5  9 11  0 23"
      ]
     },
     "metadata": {},
     "output_type": "display_data"
    }
   ],
   "source": [
    "# A vector that contains all values contained in either x or y\n",
    "union(x, y)"
   ]
  },
  {
   "cell_type": "markdown",
   "id": "c1b885e1",
   "metadata": {},
   "source": [
    "# Exercise 5.20\n",
    "- Create a data frame from a matrix of your choice, \n",
    "- change the row names so every row says id_i (where i is the row number) and\n",
    "- change the column names to variable_i (where i is the column number).\n",
    "i.e., for column 1 it will say variable_1, and for row 2 will say id_2 and\n",
    "so on"
   ]
  },
  {
   "cell_type": "code",
   "execution_count": 131,
   "id": "e7dcb5af",
   "metadata": {
    "vscode": {
     "languageId": "r"
    }
   },
   "outputs": [
    {
     "data": {
      "text/html": [
       "<table class=\"dataframe\">\n",
       "<caption>A matrix: 4 × 5 of type int</caption>\n",
       "<tbody>\n",
       "\t<tr><td> 1</td><td> 2</td><td> 3</td><td> 4</td><td> 5</td></tr>\n",
       "\t<tr><td> 6</td><td> 7</td><td> 8</td><td> 9</td><td>10</td></tr>\n",
       "\t<tr><td>11</td><td>12</td><td>13</td><td>14</td><td>15</td></tr>\n",
       "\t<tr><td>16</td><td>17</td><td>18</td><td>19</td><td>20</td></tr>\n",
       "</tbody>\n",
       "</table>\n"
      ],
      "text/latex": [
       "A matrix: 4 × 5 of type int\n",
       "\\begin{tabular}{lllll}\n",
       "\t  1 &  2 &  3 &  4 &  5\\\\\n",
       "\t  6 &  7 &  8 &  9 & 10\\\\\n",
       "\t 11 & 12 & 13 & 14 & 15\\\\\n",
       "\t 16 & 17 & 18 & 19 & 20\\\\\n",
       "\\end{tabular}\n"
      ],
      "text/markdown": [
       "\n",
       "A matrix: 4 × 5 of type int\n",
       "\n",
       "|  1 |  2 |  3 |  4 |  5 |\n",
       "|  6 |  7 |  8 |  9 | 10 |\n",
       "| 11 | 12 | 13 | 14 | 15 |\n",
       "| 16 | 17 | 18 | 19 | 20 |\n",
       "\n"
      ],
      "text/plain": [
       "     [,1] [,2] [,3] [,4] [,5]\n",
       "[1,]  1    2    3    4    5  \n",
       "[2,]  6    7    8    9   10  \n",
       "[3,] 11   12   13   14   15  \n",
       "[4,] 16   17   18   19   20  "
      ]
     },
     "metadata": {},
     "output_type": "display_data"
    }
   ],
   "source": [
    "# Create matrix of 20 numbers\n",
    "mt = matrix(c(seq(1:20)), nrow = 4, byrow = TRUE)\n",
    "mt"
   ]
  },
  {
   "cell_type": "code",
   "execution_count": 137,
   "id": "3cea3f45",
   "metadata": {
    "vscode": {
     "languageId": "r"
    }
   },
   "outputs": [],
   "source": [
    "# create dataframe from matrix\n",
    "df = data.frame(mt)"
   ]
  },
  {
   "cell_type": "code",
   "execution_count": 140,
   "id": "e2871a96",
   "metadata": {
    "vscode": {
     "languageId": "r"
    }
   },
   "outputs": [],
   "source": [
    "# Change column name to col+ i\n",
    "colnames(df) = (c('col1', 'col2', 'col3', 'col4', 'col5'))\n",
    "# change row name to id_i\n",
    "rownames(df) = (c('id_1', 'id_2', 'id_3', 'id_4'))"
   ]
  },
  {
   "cell_type": "code",
   "execution_count": 141,
   "id": "994131db",
   "metadata": {
    "vscode": {
     "languageId": "r"
    }
   },
   "outputs": [
    {
     "data": {
      "text/html": [
       "<table class=\"dataframe\">\n",
       "<caption>A data.frame: 4 × 5</caption>\n",
       "<thead>\n",
       "\t<tr><th></th><th scope=col>col1</th><th scope=col>col2</th><th scope=col>col3</th><th scope=col>col4</th><th scope=col>col5</th></tr>\n",
       "\t<tr><th></th><th scope=col>&lt;int&gt;</th><th scope=col>&lt;int&gt;</th><th scope=col>&lt;int&gt;</th><th scope=col>&lt;int&gt;</th><th scope=col>&lt;int&gt;</th></tr>\n",
       "</thead>\n",
       "<tbody>\n",
       "\t<tr><th scope=row>id_1</th><td> 1</td><td> 2</td><td> 3</td><td> 4</td><td> 5</td></tr>\n",
       "\t<tr><th scope=row>id_2</th><td> 6</td><td> 7</td><td> 8</td><td> 9</td><td>10</td></tr>\n",
       "\t<tr><th scope=row>id_3</th><td>11</td><td>12</td><td>13</td><td>14</td><td>15</td></tr>\n",
       "\t<tr><th scope=row>id_4</th><td>16</td><td>17</td><td>18</td><td>19</td><td>20</td></tr>\n",
       "</tbody>\n",
       "</table>\n"
      ],
      "text/latex": [
       "A data.frame: 4 × 5\n",
       "\\begin{tabular}{r|lllll}\n",
       "  & col1 & col2 & col3 & col4 & col5\\\\\n",
       "  & <int> & <int> & <int> & <int> & <int>\\\\\n",
       "\\hline\n",
       "\tid\\_1 &  1 &  2 &  3 &  4 &  5\\\\\n",
       "\tid\\_2 &  6 &  7 &  8 &  9 & 10\\\\\n",
       "\tid\\_3 & 11 & 12 & 13 & 14 & 15\\\\\n",
       "\tid\\_4 & 16 & 17 & 18 & 19 & 20\\\\\n",
       "\\end{tabular}\n"
      ],
      "text/markdown": [
       "\n",
       "A data.frame: 4 × 5\n",
       "\n",
       "| <!--/--> | col1 &lt;int&gt; | col2 &lt;int&gt; | col3 &lt;int&gt; | col4 &lt;int&gt; | col5 &lt;int&gt; |\n",
       "|---|---|---|---|---|---|\n",
       "| id_1 |  1 |  2 |  3 |  4 |  5 |\n",
       "| id_2 |  6 |  7 |  8 |  9 | 10 |\n",
       "| id_3 | 11 | 12 | 13 | 14 | 15 |\n",
       "| id_4 | 16 | 17 | 18 | 19 | 20 |\n",
       "\n"
      ],
      "text/plain": [
       "     col1 col2 col3 col4 col5\n",
       "id_1  1    2    3    4    5  \n",
       "id_2  6    7    8    9   10  \n",
       "id_3 11   12   13   14   15  \n",
       "id_4 16   17   18   19   20  "
      ]
     },
     "metadata": {},
     "output_type": "display_data"
    }
   ],
   "source": [
    "df"
   ]
  },
  {
   "cell_type": "markdown",
   "id": "8b60bbcf",
   "metadata": {},
   "source": [
    "# Exercise 5.20\n",
    "- Create a data frame from a matrix of your choice, \n",
    "- change the row names so every row says id_i (where i is the row number) and\n",
    "- change the column names to variable_i (where i is the column number).\n",
    "i.e., for column 1 it will say variable_1, and for row 2 will say id_2 and\n",
    "so on"
   ]
  },
  {
   "cell_type": "code",
   "execution_count": 157,
   "id": "60ce4948",
   "metadata": {
    "vscode": {
     "languageId": "r"
    }
   },
   "outputs": [
    {
     "data": {
      "text/html": [
       "<table class=\"dataframe\">\n",
       "<caption>A data.frame: 10 × 10</caption>\n",
       "<thead>\n",
       "\t<tr><th></th><th scope=col>col1</th><th scope=col>col2</th><th scope=col>col3</th><th scope=col>col4</th><th scope=col>col5</th><th scope=col>col6</th><th scope=col>col7</th><th scope=col>col8</th><th scope=col>col9</th><th scope=col>col10</th></tr>\n",
       "\t<tr><th></th><th scope=col>&lt;int&gt;</th><th scope=col>&lt;int&gt;</th><th scope=col>&lt;int&gt;</th><th scope=col>&lt;int&gt;</th><th scope=col>&lt;int&gt;</th><th scope=col>&lt;int&gt;</th><th scope=col>&lt;int&gt;</th><th scope=col>&lt;int&gt;</th><th scope=col>&lt;int&gt;</th><th scope=col>&lt;int&gt;</th></tr>\n",
       "</thead>\n",
       "<tbody>\n",
       "\t<tr><th scope=row>id_1</th><td> 1</td><td> 2</td><td> 3</td><td> 4</td><td> 5</td><td> 6</td><td> 7</td><td> 8</td><td> 9</td><td> 10</td></tr>\n",
       "\t<tr><th scope=row>id_2</th><td>11</td><td>12</td><td>13</td><td>14</td><td>15</td><td>16</td><td>17</td><td>18</td><td>19</td><td> 20</td></tr>\n",
       "\t<tr><th scope=row>id_3</th><td>21</td><td>22</td><td>23</td><td>24</td><td>25</td><td>26</td><td>27</td><td>28</td><td>29</td><td> 30</td></tr>\n",
       "\t<tr><th scope=row>id_4</th><td>31</td><td>32</td><td>33</td><td>34</td><td>35</td><td>36</td><td>37</td><td>38</td><td>39</td><td> 40</td></tr>\n",
       "\t<tr><th scope=row>id_5</th><td>41</td><td>42</td><td>43</td><td>44</td><td>45</td><td>46</td><td>47</td><td>48</td><td>49</td><td> 50</td></tr>\n",
       "\t<tr><th scope=row>id_6</th><td>51</td><td>52</td><td>53</td><td>54</td><td>55</td><td>56</td><td>57</td><td>58</td><td>59</td><td> 60</td></tr>\n",
       "\t<tr><th scope=row>id_7</th><td>61</td><td>62</td><td>63</td><td>64</td><td>65</td><td>66</td><td>67</td><td>68</td><td>69</td><td> 70</td></tr>\n",
       "\t<tr><th scope=row>id_8</th><td>71</td><td>72</td><td>73</td><td>74</td><td>75</td><td>76</td><td>77</td><td>78</td><td>79</td><td> 80</td></tr>\n",
       "\t<tr><th scope=row>id_9</th><td>81</td><td>82</td><td>83</td><td>84</td><td>85</td><td>86</td><td>87</td><td>88</td><td>89</td><td> 90</td></tr>\n",
       "\t<tr><th scope=row>id_10</th><td>91</td><td>92</td><td>93</td><td>94</td><td>95</td><td>96</td><td>97</td><td>98</td><td>99</td><td>100</td></tr>\n",
       "</tbody>\n",
       "</table>\n"
      ],
      "text/latex": [
       "A data.frame: 10 × 10\n",
       "\\begin{tabular}{r|llllllllll}\n",
       "  & col1 & col2 & col3 & col4 & col5 & col6 & col7 & col8 & col9 & col10\\\\\n",
       "  & <int> & <int> & <int> & <int> & <int> & <int> & <int> & <int> & <int> & <int>\\\\\n",
       "\\hline\n",
       "\tid\\_1 &  1 &  2 &  3 &  4 &  5 &  6 &  7 &  8 &  9 &  10\\\\\n",
       "\tid\\_2 & 11 & 12 & 13 & 14 & 15 & 16 & 17 & 18 & 19 &  20\\\\\n",
       "\tid\\_3 & 21 & 22 & 23 & 24 & 25 & 26 & 27 & 28 & 29 &  30\\\\\n",
       "\tid\\_4 & 31 & 32 & 33 & 34 & 35 & 36 & 37 & 38 & 39 &  40\\\\\n",
       "\tid\\_5 & 41 & 42 & 43 & 44 & 45 & 46 & 47 & 48 & 49 &  50\\\\\n",
       "\tid\\_6 & 51 & 52 & 53 & 54 & 55 & 56 & 57 & 58 & 59 &  60\\\\\n",
       "\tid\\_7 & 61 & 62 & 63 & 64 & 65 & 66 & 67 & 68 & 69 &  70\\\\\n",
       "\tid\\_8 & 71 & 72 & 73 & 74 & 75 & 76 & 77 & 78 & 79 &  80\\\\\n",
       "\tid\\_9 & 81 & 82 & 83 & 84 & 85 & 86 & 87 & 88 & 89 &  90\\\\\n",
       "\tid\\_10 & 91 & 92 & 93 & 94 & 95 & 96 & 97 & 98 & 99 & 100\\\\\n",
       "\\end{tabular}\n"
      ],
      "text/markdown": [
       "\n",
       "A data.frame: 10 × 10\n",
       "\n",
       "| <!--/--> | col1 &lt;int&gt; | col2 &lt;int&gt; | col3 &lt;int&gt; | col4 &lt;int&gt; | col5 &lt;int&gt; | col6 &lt;int&gt; | col7 &lt;int&gt; | col8 &lt;int&gt; | col9 &lt;int&gt; | col10 &lt;int&gt; |\n",
       "|---|---|---|---|---|---|---|---|---|---|---|\n",
       "| id_1 |  1 |  2 |  3 |  4 |  5 |  6 |  7 |  8 |  9 |  10 |\n",
       "| id_2 | 11 | 12 | 13 | 14 | 15 | 16 | 17 | 18 | 19 |  20 |\n",
       "| id_3 | 21 | 22 | 23 | 24 | 25 | 26 | 27 | 28 | 29 |  30 |\n",
       "| id_4 | 31 | 32 | 33 | 34 | 35 | 36 | 37 | 38 | 39 |  40 |\n",
       "| id_5 | 41 | 42 | 43 | 44 | 45 | 46 | 47 | 48 | 49 |  50 |\n",
       "| id_6 | 51 | 52 | 53 | 54 | 55 | 56 | 57 | 58 | 59 |  60 |\n",
       "| id_7 | 61 | 62 | 63 | 64 | 65 | 66 | 67 | 68 | 69 |  70 |\n",
       "| id_8 | 71 | 72 | 73 | 74 | 75 | 76 | 77 | 78 | 79 |  80 |\n",
       "| id_9 | 81 | 82 | 83 | 84 | 85 | 86 | 87 | 88 | 89 |  90 |\n",
       "| id_10 | 91 | 92 | 93 | 94 | 95 | 96 | 97 | 98 | 99 | 100 |\n",
       "\n"
      ],
      "text/plain": [
       "      col1 col2 col3 col4 col5 col6 col7 col8 col9 col10\n",
       "id_1   1    2    3    4    5    6    7    8    9    10  \n",
       "id_2  11   12   13   14   15   16   17   18   19    20  \n",
       "id_3  21   22   23   24   25   26   27   28   29    30  \n",
       "id_4  31   32   33   34   35   36   37   38   39    40  \n",
       "id_5  41   42   43   44   45   46   47   48   49    50  \n",
       "id_6  51   52   53   54   55   56   57   58   59    60  \n",
       "id_7  61   62   63   64   65   66   67   68   69    70  \n",
       "id_8  71   72   73   74   75   76   77   78   79    80  \n",
       "id_9  81   82   83   84   85   86   87   88   89    90  \n",
       "id_10 91   92   93   94   95   96   97   98   99   100  "
      ]
     },
     "metadata": {},
     "output_type": "display_data"
    }
   ],
   "source": [
    "# Create matrix of 20 numbers\n",
    "mt = matrix(c(seq(1:100)), nrow = 10, byrow = TRUE)\n",
    "# create dataframe from matrix\n",
    "df = data.frame(mt)\n",
    "# Change column name to col+ i\n",
    "colnames(df) = (c('col1', 'col2', 'col3', 'col4', 'col5', 'col6', 'col7', 'col8', 'col9', 'col10'))\n",
    "# change row name to id_i\n",
    "rownames(df) = (c('id_1', 'id_2', 'id_3', 'id_4','id_5', 'id_6', 'id_7', 'id_8','id_9', 'id_10'))\n",
    "df"
   ]
  },
  {
   "cell_type": "code",
   "execution_count": 158,
   "id": "8317bd5c",
   "metadata": {
    "vscode": {
     "languageId": "r"
    }
   },
   "outputs": [
    {
     "data": {
      "text/html": [
       "<table class=\"dataframe\">\n",
       "<caption>A data.frame: 10 × 11</caption>\n",
       "<thead>\n",
       "\t<tr><th></th><th scope=col>col1</th><th scope=col>col2</th><th scope=col>col3</th><th scope=col>col4</th><th scope=col>col5</th><th scope=col>col6</th><th scope=col>col7</th><th scope=col>col8</th><th scope=col>col9</th><th scope=col>col10</th><th scope=col>MeanOfRow</th></tr>\n",
       "\t<tr><th></th><th scope=col>&lt;int&gt;</th><th scope=col>&lt;int&gt;</th><th scope=col>&lt;int&gt;</th><th scope=col>&lt;int&gt;</th><th scope=col>&lt;int&gt;</th><th scope=col>&lt;int&gt;</th><th scope=col>&lt;int&gt;</th><th scope=col>&lt;int&gt;</th><th scope=col>&lt;int&gt;</th><th scope=col>&lt;int&gt;</th><th scope=col>&lt;dbl&gt;</th></tr>\n",
       "</thead>\n",
       "<tbody>\n",
       "\t<tr><th scope=row>id_1</th><td> 1</td><td> 2</td><td> 3</td><td> 4</td><td> 5</td><td> 6</td><td> 7</td><td> 8</td><td> 9</td><td> 10</td><td> 5.5</td></tr>\n",
       "\t<tr><th scope=row>id_2</th><td>11</td><td>12</td><td>13</td><td>14</td><td>15</td><td>16</td><td>17</td><td>18</td><td>19</td><td> 20</td><td>15.5</td></tr>\n",
       "\t<tr><th scope=row>id_3</th><td>21</td><td>22</td><td>23</td><td>24</td><td>25</td><td>26</td><td>27</td><td>28</td><td>29</td><td> 30</td><td>25.5</td></tr>\n",
       "\t<tr><th scope=row>id_4</th><td>31</td><td>32</td><td>33</td><td>34</td><td>35</td><td>36</td><td>37</td><td>38</td><td>39</td><td> 40</td><td>35.5</td></tr>\n",
       "\t<tr><th scope=row>id_5</th><td>41</td><td>42</td><td>43</td><td>44</td><td>45</td><td>46</td><td>47</td><td>48</td><td>49</td><td> 50</td><td>45.5</td></tr>\n",
       "\t<tr><th scope=row>id_6</th><td>51</td><td>52</td><td>53</td><td>54</td><td>55</td><td>56</td><td>57</td><td>58</td><td>59</td><td> 60</td><td>55.5</td></tr>\n",
       "\t<tr><th scope=row>id_7</th><td>61</td><td>62</td><td>63</td><td>64</td><td>65</td><td>66</td><td>67</td><td>68</td><td>69</td><td> 70</td><td>65.5</td></tr>\n",
       "\t<tr><th scope=row>id_8</th><td>71</td><td>72</td><td>73</td><td>74</td><td>75</td><td>76</td><td>77</td><td>78</td><td>79</td><td> 80</td><td>75.5</td></tr>\n",
       "\t<tr><th scope=row>id_9</th><td>81</td><td>82</td><td>83</td><td>84</td><td>85</td><td>86</td><td>87</td><td>88</td><td>89</td><td> 90</td><td>85.5</td></tr>\n",
       "\t<tr><th scope=row>id_10</th><td>91</td><td>92</td><td>93</td><td>94</td><td>95</td><td>96</td><td>97</td><td>98</td><td>99</td><td>100</td><td>95.5</td></tr>\n",
       "</tbody>\n",
       "</table>\n"
      ],
      "text/latex": [
       "A data.frame: 10 × 11\n",
       "\\begin{tabular}{r|lllllllllll}\n",
       "  & col1 & col2 & col3 & col4 & col5 & col6 & col7 & col8 & col9 & col10 & MeanOfRow\\\\\n",
       "  & <int> & <int> & <int> & <int> & <int> & <int> & <int> & <int> & <int> & <int> & <dbl>\\\\\n",
       "\\hline\n",
       "\tid\\_1 &  1 &  2 &  3 &  4 &  5 &  6 &  7 &  8 &  9 &  10 &  5.5\\\\\n",
       "\tid\\_2 & 11 & 12 & 13 & 14 & 15 & 16 & 17 & 18 & 19 &  20 & 15.5\\\\\n",
       "\tid\\_3 & 21 & 22 & 23 & 24 & 25 & 26 & 27 & 28 & 29 &  30 & 25.5\\\\\n",
       "\tid\\_4 & 31 & 32 & 33 & 34 & 35 & 36 & 37 & 38 & 39 &  40 & 35.5\\\\\n",
       "\tid\\_5 & 41 & 42 & 43 & 44 & 45 & 46 & 47 & 48 & 49 &  50 & 45.5\\\\\n",
       "\tid\\_6 & 51 & 52 & 53 & 54 & 55 & 56 & 57 & 58 & 59 &  60 & 55.5\\\\\n",
       "\tid\\_7 & 61 & 62 & 63 & 64 & 65 & 66 & 67 & 68 & 69 &  70 & 65.5\\\\\n",
       "\tid\\_8 & 71 & 72 & 73 & 74 & 75 & 76 & 77 & 78 & 79 &  80 & 75.5\\\\\n",
       "\tid\\_9 & 81 & 82 & 83 & 84 & 85 & 86 & 87 & 88 & 89 &  90 & 85.5\\\\\n",
       "\tid\\_10 & 91 & 92 & 93 & 94 & 95 & 96 & 97 & 98 & 99 & 100 & 95.5\\\\\n",
       "\\end{tabular}\n"
      ],
      "text/markdown": [
       "\n",
       "A data.frame: 10 × 11\n",
       "\n",
       "| <!--/--> | col1 &lt;int&gt; | col2 &lt;int&gt; | col3 &lt;int&gt; | col4 &lt;int&gt; | col5 &lt;int&gt; | col6 &lt;int&gt; | col7 &lt;int&gt; | col8 &lt;int&gt; | col9 &lt;int&gt; | col10 &lt;int&gt; | MeanOfRow &lt;dbl&gt; |\n",
       "|---|---|---|---|---|---|---|---|---|---|---|---|\n",
       "| id_1 |  1 |  2 |  3 |  4 |  5 |  6 |  7 |  8 |  9 |  10 |  5.5 |\n",
       "| id_2 | 11 | 12 | 13 | 14 | 15 | 16 | 17 | 18 | 19 |  20 | 15.5 |\n",
       "| id_3 | 21 | 22 | 23 | 24 | 25 | 26 | 27 | 28 | 29 |  30 | 25.5 |\n",
       "| id_4 | 31 | 32 | 33 | 34 | 35 | 36 | 37 | 38 | 39 |  40 | 35.5 |\n",
       "| id_5 | 41 | 42 | 43 | 44 | 45 | 46 | 47 | 48 | 49 |  50 | 45.5 |\n",
       "| id_6 | 51 | 52 | 53 | 54 | 55 | 56 | 57 | 58 | 59 |  60 | 55.5 |\n",
       "| id_7 | 61 | 62 | 63 | 64 | 65 | 66 | 67 | 68 | 69 |  70 | 65.5 |\n",
       "| id_8 | 71 | 72 | 73 | 74 | 75 | 76 | 77 | 78 | 79 |  80 | 75.5 |\n",
       "| id_9 | 81 | 82 | 83 | 84 | 85 | 86 | 87 | 88 | 89 |  90 | 85.5 |\n",
       "| id_10 | 91 | 92 | 93 | 94 | 95 | 96 | 97 | 98 | 99 | 100 | 95.5 |\n",
       "\n"
      ],
      "text/plain": [
       "      col1 col2 col3 col4 col5 col6 col7 col8 col9 col10 MeanOfRow\n",
       "id_1   1    2    3    4    5    6    7    8    9    10    5.5     \n",
       "id_2  11   12   13   14   15   16   17   18   19    20   15.5     \n",
       "id_3  21   22   23   24   25   26   27   28   29    30   25.5     \n",
       "id_4  31   32   33   34   35   36   37   38   39    40   35.5     \n",
       "id_5  41   42   43   44   45   46   47   48   49    50   45.5     \n",
       "id_6  51   52   53   54   55   56   57   58   59    60   55.5     \n",
       "id_7  61   62   63   64   65   66   67   68   69    70   65.5     \n",
       "id_8  71   72   73   74   75   76   77   78   79    80   75.5     \n",
       "id_9  81   82   83   84   85   86   87   88   89    90   85.5     \n",
       "id_10 91   92   93   94   95   96   97   98   99   100   95.5     "
      ]
     },
     "metadata": {},
     "output_type": "display_data"
    }
   ],
   "source": [
    "# Row means \n",
    "df$MeanOfRow = rowMeans(df)\n",
    "df"
   ]
  },
  {
   "cell_type": "code",
   "execution_count": 159,
   "id": "5711bd16",
   "metadata": {
    "vscode": {
     "languageId": "r"
    }
   },
   "outputs": [
    {
     "data": {
      "text/html": [
       "<table class=\"dataframe\">\n",
       "<caption>A data.frame: 10 × 12</caption>\n",
       "<thead>\n",
       "\t<tr><th></th><th scope=col>col1</th><th scope=col>col2</th><th scope=col>col3</th><th scope=col>col4</th><th scope=col>col5</th><th scope=col>col6</th><th scope=col>col7</th><th scope=col>col8</th><th scope=col>col9</th><th scope=col>col10</th><th scope=col>MeanOfRow</th><th scope=col>StandardDivaition</th></tr>\n",
       "\t<tr><th></th><th scope=col>&lt;int&gt;</th><th scope=col>&lt;int&gt;</th><th scope=col>&lt;int&gt;</th><th scope=col>&lt;int&gt;</th><th scope=col>&lt;int&gt;</th><th scope=col>&lt;int&gt;</th><th scope=col>&lt;int&gt;</th><th scope=col>&lt;int&gt;</th><th scope=col>&lt;int&gt;</th><th scope=col>&lt;int&gt;</th><th scope=col>&lt;dbl&gt;</th><th scope=col>&lt;dbl&gt;</th></tr>\n",
       "</thead>\n",
       "<tbody>\n",
       "\t<tr><th scope=row>id_1</th><td> 1</td><td> 2</td><td> 3</td><td> 4</td><td> 5</td><td> 6</td><td> 7</td><td> 8</td><td> 9</td><td> 10</td><td> 5.5</td><td>2.872281</td></tr>\n",
       "\t<tr><th scope=row>id_2</th><td>11</td><td>12</td><td>13</td><td>14</td><td>15</td><td>16</td><td>17</td><td>18</td><td>19</td><td> 20</td><td>15.5</td><td>2.872281</td></tr>\n",
       "\t<tr><th scope=row>id_3</th><td>21</td><td>22</td><td>23</td><td>24</td><td>25</td><td>26</td><td>27</td><td>28</td><td>29</td><td> 30</td><td>25.5</td><td>2.872281</td></tr>\n",
       "\t<tr><th scope=row>id_4</th><td>31</td><td>32</td><td>33</td><td>34</td><td>35</td><td>36</td><td>37</td><td>38</td><td>39</td><td> 40</td><td>35.5</td><td>2.872281</td></tr>\n",
       "\t<tr><th scope=row>id_5</th><td>41</td><td>42</td><td>43</td><td>44</td><td>45</td><td>46</td><td>47</td><td>48</td><td>49</td><td> 50</td><td>45.5</td><td>2.872281</td></tr>\n",
       "\t<tr><th scope=row>id_6</th><td>51</td><td>52</td><td>53</td><td>54</td><td>55</td><td>56</td><td>57</td><td>58</td><td>59</td><td> 60</td><td>55.5</td><td>2.872281</td></tr>\n",
       "\t<tr><th scope=row>id_7</th><td>61</td><td>62</td><td>63</td><td>64</td><td>65</td><td>66</td><td>67</td><td>68</td><td>69</td><td> 70</td><td>65.5</td><td>2.872281</td></tr>\n",
       "\t<tr><th scope=row>id_8</th><td>71</td><td>72</td><td>73</td><td>74</td><td>75</td><td>76</td><td>77</td><td>78</td><td>79</td><td> 80</td><td>75.5</td><td>2.872281</td></tr>\n",
       "\t<tr><th scope=row>id_9</th><td>81</td><td>82</td><td>83</td><td>84</td><td>85</td><td>86</td><td>87</td><td>88</td><td>89</td><td> 90</td><td>85.5</td><td>2.872281</td></tr>\n",
       "\t<tr><th scope=row>id_10</th><td>91</td><td>92</td><td>93</td><td>94</td><td>95</td><td>96</td><td>97</td><td>98</td><td>99</td><td>100</td><td>95.5</td><td>2.872281</td></tr>\n",
       "</tbody>\n",
       "</table>\n"
      ],
      "text/latex": [
       "A data.frame: 10 × 12\n",
       "\\begin{tabular}{r|llllllllllll}\n",
       "  & col1 & col2 & col3 & col4 & col5 & col6 & col7 & col8 & col9 & col10 & MeanOfRow & StandardDivaition\\\\\n",
       "  & <int> & <int> & <int> & <int> & <int> & <int> & <int> & <int> & <int> & <int> & <dbl> & <dbl>\\\\\n",
       "\\hline\n",
       "\tid\\_1 &  1 &  2 &  3 &  4 &  5 &  6 &  7 &  8 &  9 &  10 &  5.5 & 2.872281\\\\\n",
       "\tid\\_2 & 11 & 12 & 13 & 14 & 15 & 16 & 17 & 18 & 19 &  20 & 15.5 & 2.872281\\\\\n",
       "\tid\\_3 & 21 & 22 & 23 & 24 & 25 & 26 & 27 & 28 & 29 &  30 & 25.5 & 2.872281\\\\\n",
       "\tid\\_4 & 31 & 32 & 33 & 34 & 35 & 36 & 37 & 38 & 39 &  40 & 35.5 & 2.872281\\\\\n",
       "\tid\\_5 & 41 & 42 & 43 & 44 & 45 & 46 & 47 & 48 & 49 &  50 & 45.5 & 2.872281\\\\\n",
       "\tid\\_6 & 51 & 52 & 53 & 54 & 55 & 56 & 57 & 58 & 59 &  60 & 55.5 & 2.872281\\\\\n",
       "\tid\\_7 & 61 & 62 & 63 & 64 & 65 & 66 & 67 & 68 & 69 &  70 & 65.5 & 2.872281\\\\\n",
       "\tid\\_8 & 71 & 72 & 73 & 74 & 75 & 76 & 77 & 78 & 79 &  80 & 75.5 & 2.872281\\\\\n",
       "\tid\\_9 & 81 & 82 & 83 & 84 & 85 & 86 & 87 & 88 & 89 &  90 & 85.5 & 2.872281\\\\\n",
       "\tid\\_10 & 91 & 92 & 93 & 94 & 95 & 96 & 97 & 98 & 99 & 100 & 95.5 & 2.872281\\\\\n",
       "\\end{tabular}\n"
      ],
      "text/markdown": [
       "\n",
       "A data.frame: 10 × 12\n",
       "\n",
       "| <!--/--> | col1 &lt;int&gt; | col2 &lt;int&gt; | col3 &lt;int&gt; | col4 &lt;int&gt; | col5 &lt;int&gt; | col6 &lt;int&gt; | col7 &lt;int&gt; | col8 &lt;int&gt; | col9 &lt;int&gt; | col10 &lt;int&gt; | MeanOfRow &lt;dbl&gt; | StandardDivaition &lt;dbl&gt; |\n",
       "|---|---|---|---|---|---|---|---|---|---|---|---|---|\n",
       "| id_1 |  1 |  2 |  3 |  4 |  5 |  6 |  7 |  8 |  9 |  10 |  5.5 | 2.872281 |\n",
       "| id_2 | 11 | 12 | 13 | 14 | 15 | 16 | 17 | 18 | 19 |  20 | 15.5 | 2.872281 |\n",
       "| id_3 | 21 | 22 | 23 | 24 | 25 | 26 | 27 | 28 | 29 |  30 | 25.5 | 2.872281 |\n",
       "| id_4 | 31 | 32 | 33 | 34 | 35 | 36 | 37 | 38 | 39 |  40 | 35.5 | 2.872281 |\n",
       "| id_5 | 41 | 42 | 43 | 44 | 45 | 46 | 47 | 48 | 49 |  50 | 45.5 | 2.872281 |\n",
       "| id_6 | 51 | 52 | 53 | 54 | 55 | 56 | 57 | 58 | 59 |  60 | 55.5 | 2.872281 |\n",
       "| id_7 | 61 | 62 | 63 | 64 | 65 | 66 | 67 | 68 | 69 |  70 | 65.5 | 2.872281 |\n",
       "| id_8 | 71 | 72 | 73 | 74 | 75 | 76 | 77 | 78 | 79 |  80 | 75.5 | 2.872281 |\n",
       "| id_9 | 81 | 82 | 83 | 84 | 85 | 86 | 87 | 88 | 89 |  90 | 85.5 | 2.872281 |\n",
       "| id_10 | 91 | 92 | 93 | 94 | 95 | 96 | 97 | 98 | 99 | 100 | 95.5 | 2.872281 |\n",
       "\n"
      ],
      "text/plain": [
       "      col1 col2 col3 col4 col5 col6 col7 col8 col9 col10 MeanOfRow\n",
       "id_1   1    2    3    4    5    6    7    8    9    10    5.5     \n",
       "id_2  11   12   13   14   15   16   17   18   19    20   15.5     \n",
       "id_3  21   22   23   24   25   26   27   28   29    30   25.5     \n",
       "id_4  31   32   33   34   35   36   37   38   39    40   35.5     \n",
       "id_5  41   42   43   44   45   46   47   48   49    50   45.5     \n",
       "id_6  51   52   53   54   55   56   57   58   59    60   55.5     \n",
       "id_7  61   62   63   64   65   66   67   68   69    70   65.5     \n",
       "id_8  71   72   73   74   75   76   77   78   79    80   75.5     \n",
       "id_9  81   82   83   84   85   86   87   88   89    90   85.5     \n",
       "id_10 91   92   93   94   95   96   97   98   99   100   95.5     \n",
       "      StandardDivaition\n",
       "id_1  2.872281         \n",
       "id_2  2.872281         \n",
       "id_3  2.872281         \n",
       "id_4  2.872281         \n",
       "id_5  2.872281         \n",
       "id_6  2.872281         \n",
       "id_7  2.872281         \n",
       "id_8  2.872281         \n",
       "id_9  2.872281         \n",
       "id_10 2.872281         "
      ]
     },
     "metadata": {},
     "output_type": "display_data"
    }
   ],
   "source": [
    "# Standard deviation for each row\n",
    "df$StandardDivaition <- apply(df, 1, sd)\n",
    "df"
   ]
  },
  {
   "cell_type": "markdown",
   "id": "b5bc952a",
   "metadata": {},
   "source": [
    "# Exercise 5.22 \n",
    "Create the following data frame, afterwards invert Sex for all individuals.\n",
    "10"
   ]
  },
  {
   "cell_type": "code",
   "execution_count": 30,
   "id": "12be103d",
   "metadata": {
    "vscode": {
     "languageId": "r"
    }
   },
   "outputs": [
    {
     "data": {
      "text/html": [
       "<table class=\"dataframe\">\n",
       "<caption>A data.frame: 7 × 5</caption>\n",
       "<thead>\n",
       "\t<tr><th scope=col>Name</th><th scope=col>Age</th><th scope=col>Height</th><th scope=col>Weight</th><th scope=col>Sex</th></tr>\n",
       "\t<tr><th scope=col>&lt;chr&gt;</th><th scope=col>&lt;dbl&gt;</th><th scope=col>&lt;dbl&gt;</th><th scope=col>&lt;dbl&gt;</th><th scope=col>&lt;chr&gt;</th></tr>\n",
       "</thead>\n",
       "<tbody>\n",
       "\t<tr><td>Alex    </td><td>25</td><td>177</td><td>57</td><td>F</td></tr>\n",
       "\t<tr><td>Lilly   </td><td>31</td><td>163</td><td>69</td><td>F</td></tr>\n",
       "\t<tr><td>Mark    </td><td>23</td><td>190</td><td>83</td><td>M</td></tr>\n",
       "\t<tr><td>Oliver  </td><td>52</td><td>179</td><td>75</td><td>M</td></tr>\n",
       "\t<tr><td>Matha   </td><td>76</td><td>163</td><td>70</td><td>F</td></tr>\n",
       "\t<tr><td>Lucas   </td><td>49</td><td>183</td><td>83</td><td>M</td></tr>\n",
       "\t<tr><td>Caroline</td><td>26</td><td>164</td><td>53</td><td>F</td></tr>\n",
       "</tbody>\n",
       "</table>\n"
      ],
      "text/latex": [
       "A data.frame: 7 × 5\n",
       "\\begin{tabular}{lllll}\n",
       " Name & Age & Height & Weight & Sex\\\\\n",
       " <chr> & <dbl> & <dbl> & <dbl> & <chr>\\\\\n",
       "\\hline\n",
       "\t Alex     & 25 & 177 & 57 & F\\\\\n",
       "\t Lilly    & 31 & 163 & 69 & F\\\\\n",
       "\t Mark     & 23 & 190 & 83 & M\\\\\n",
       "\t Oliver   & 52 & 179 & 75 & M\\\\\n",
       "\t Matha    & 76 & 163 & 70 & F\\\\\n",
       "\t Lucas    & 49 & 183 & 83 & M\\\\\n",
       "\t Caroline & 26 & 164 & 53 & F\\\\\n",
       "\\end{tabular}\n"
      ],
      "text/markdown": [
       "\n",
       "A data.frame: 7 × 5\n",
       "\n",
       "| Name &lt;chr&gt; | Age &lt;dbl&gt; | Height &lt;dbl&gt; | Weight &lt;dbl&gt; | Sex &lt;chr&gt; |\n",
       "|---|---|---|---|---|\n",
       "| Alex     | 25 | 177 | 57 | F |\n",
       "| Lilly    | 31 | 163 | 69 | F |\n",
       "| Mark     | 23 | 190 | 83 | M |\n",
       "| Oliver   | 52 | 179 | 75 | M |\n",
       "| Matha    | 76 | 163 | 70 | F |\n",
       "| Lucas    | 49 | 183 | 83 | M |\n",
       "| Caroline | 26 | 164 | 53 | F |\n",
       "\n"
      ],
      "text/plain": [
       "  Name     Age Height Weight Sex\n",
       "1 Alex     25  177    57     F  \n",
       "2 Lilly    31  163    69     F  \n",
       "3 Mark     23  190    83     M  \n",
       "4 Oliver   52  179    75     M  \n",
       "5 Matha    76  163    70     F  \n",
       "6 Lucas    49  183    83     M  \n",
       "7 Caroline 26  164    53     F  "
      ]
     },
     "metadata": {},
     "output_type": "display_data"
    }
   ],
   "source": [
    "Name = c('Alex', 'Lilly', 'Mark', 'Oliver', 'Matha', 'Lucas', 'Caroline')\n",
    "Age = c(25, 31, 23, 52, 76, 49, 26)\n",
    "Height = c(177, 163, 190, 179, 163, 183, 164)\n",
    "Weight = c(57, 69, 83, 75, 70, 83, 53)\n",
    "Sex = c('F', 'F', 'M', 'M', 'F', 'M', 'F')\n",
    "# Create df\n",
    "df = data.frame(Name, Age, Height, Weight, Sex)\n",
    "df"
   ]
  },
  {
   "cell_type": "code",
   "execution_count": 31,
   "id": "e1ef2b44",
   "metadata": {
    "vscode": {
     "languageId": "r"
    }
   },
   "outputs": [],
   "source": [
    "# Set Name as index\n",
    "library(data.table)\n",
    "setDT(df, key = \"Name\")"
   ]
  },
  {
   "cell_type": "code",
   "execution_count": 32,
   "id": "410afbd2",
   "metadata": {
    "vscode": {
     "languageId": "r"
    }
   },
   "outputs": [
    {
     "data": {
      "text/html": [
       "<table class=\"dataframe\">\n",
       "<caption>A data.table: 7 × 5</caption>\n",
       "<thead>\n",
       "\t<tr><th scope=col>Name</th><th scope=col>Age</th><th scope=col>Height</th><th scope=col>Weight</th><th scope=col>Sex</th></tr>\n",
       "\t<tr><th scope=col>&lt;chr&gt;</th><th scope=col>&lt;dbl&gt;</th><th scope=col>&lt;dbl&gt;</th><th scope=col>&lt;dbl&gt;</th><th scope=col>&lt;chr&gt;</th></tr>\n",
       "</thead>\n",
       "<tbody>\n",
       "\t<tr><td>Alex    </td><td>25</td><td>177</td><td>57</td><td>F</td></tr>\n",
       "\t<tr><td>Caroline</td><td>26</td><td>164</td><td>53</td><td>F</td></tr>\n",
       "\t<tr><td>Lilly   </td><td>31</td><td>163</td><td>69</td><td>F</td></tr>\n",
       "\t<tr><td>Lucas   </td><td>49</td><td>183</td><td>83</td><td>M</td></tr>\n",
       "\t<tr><td>Mark    </td><td>23</td><td>190</td><td>83</td><td>M</td></tr>\n",
       "\t<tr><td>Matha   </td><td>76</td><td>163</td><td>70</td><td>F</td></tr>\n",
       "\t<tr><td>Oliver  </td><td>52</td><td>179</td><td>75</td><td>M</td></tr>\n",
       "</tbody>\n",
       "</table>\n"
      ],
      "text/latex": [
       "A data.table: 7 × 5\n",
       "\\begin{tabular}{lllll}\n",
       " Name & Age & Height & Weight & Sex\\\\\n",
       " <chr> & <dbl> & <dbl> & <dbl> & <chr>\\\\\n",
       "\\hline\n",
       "\t Alex     & 25 & 177 & 57 & F\\\\\n",
       "\t Caroline & 26 & 164 & 53 & F\\\\\n",
       "\t Lilly    & 31 & 163 & 69 & F\\\\\n",
       "\t Lucas    & 49 & 183 & 83 & M\\\\\n",
       "\t Mark     & 23 & 190 & 83 & M\\\\\n",
       "\t Matha    & 76 & 163 & 70 & F\\\\\n",
       "\t Oliver   & 52 & 179 & 75 & M\\\\\n",
       "\\end{tabular}\n"
      ],
      "text/markdown": [
       "\n",
       "A data.table: 7 × 5\n",
       "\n",
       "| Name &lt;chr&gt; | Age &lt;dbl&gt; | Height &lt;dbl&gt; | Weight &lt;dbl&gt; | Sex &lt;chr&gt; |\n",
       "|---|---|---|---|---|\n",
       "| Alex     | 25 | 177 | 57 | F |\n",
       "| Caroline | 26 | 164 | 53 | F |\n",
       "| Lilly    | 31 | 163 | 69 | F |\n",
       "| Lucas    | 49 | 183 | 83 | M |\n",
       "| Mark     | 23 | 190 | 83 | M |\n",
       "| Matha    | 76 | 163 | 70 | F |\n",
       "| Oliver   | 52 | 179 | 75 | M |\n",
       "\n"
      ],
      "text/plain": [
       "  Name     Age Height Weight Sex\n",
       "1 Alex     25  177    57     F  \n",
       "2 Caroline 26  164    53     F  \n",
       "3 Lilly    31  163    69     F  \n",
       "4 Lucas    49  183    83     M  \n",
       "5 Mark     23  190    83     M  \n",
       "6 Matha    76  163    70     F  \n",
       "7 Oliver   52  179    75     M  "
      ]
     },
     "metadata": {},
     "output_type": "display_data"
    }
   ],
   "source": [
    "df"
   ]
  },
  {
   "cell_type": "code",
   "execution_count": 33,
   "id": "b4f96e54",
   "metadata": {
    "vscode": {
     "languageId": "r"
    }
   },
   "outputs": [],
   "source": [
    "Working = c('Yes','No', 'No','Yes' , 'Yes', 'No','Yes')"
   ]
  },
  {
   "cell_type": "code",
   "execution_count": 17,
   "id": "316899e1",
   "metadata": {
    "vscode": {
     "languageId": "r"
    }
   },
   "outputs": [
    {
     "data": {
      "text/html": [
       "<table class=\"dataframe\">\n",
       "<caption>A data.frame: 7 × 2</caption>\n",
       "<thead>\n",
       "\t<tr><th scope=col>Name</th><th scope=col>Working</th></tr>\n",
       "\t<tr><th scope=col>&lt;chr&gt;</th><th scope=col>&lt;chr&gt;</th></tr>\n",
       "</thead>\n",
       "<tbody>\n",
       "\t<tr><td>Alex    </td><td>Yes</td></tr>\n",
       "\t<tr><td>Caroline</td><td>No </td></tr>\n",
       "\t<tr><td>Lilly   </td><td>No </td></tr>\n",
       "\t<tr><td>Lucas   </td><td>Yes</td></tr>\n",
       "\t<tr><td>Mark    </td><td>Yes</td></tr>\n",
       "\t<tr><td>Matha   </td><td>No </td></tr>\n",
       "\t<tr><td>Oliver  </td><td>Yes</td></tr>\n",
       "</tbody>\n",
       "</table>\n"
      ],
      "text/latex": [
       "A data.frame: 7 × 2\n",
       "\\begin{tabular}{ll}\n",
       " Name & Working\\\\\n",
       " <chr> & <chr>\\\\\n",
       "\\hline\n",
       "\t Alex     & Yes\\\\\n",
       "\t Caroline & No \\\\\n",
       "\t Lilly    & No \\\\\n",
       "\t Lucas    & Yes\\\\\n",
       "\t Mark     & Yes\\\\\n",
       "\t Matha    & No \\\\\n",
       "\t Oliver   & Yes\\\\\n",
       "\\end{tabular}\n"
      ],
      "text/markdown": [
       "\n",
       "A data.frame: 7 × 2\n",
       "\n",
       "| Name &lt;chr&gt; | Working &lt;chr&gt; |\n",
       "|---|---|\n",
       "| Alex     | Yes |\n",
       "| Caroline | No  |\n",
       "| Lilly    | No  |\n",
       "| Lucas    | Yes |\n",
       "| Mark     | Yes |\n",
       "| Matha    | No  |\n",
       "| Oliver   | Yes |\n",
       "\n"
      ],
      "text/plain": [
       "  Name     Working\n",
       "1 Alex     Yes    \n",
       "2 Caroline No     \n",
       "3 Lilly    No     \n",
       "4 Lucas    Yes    \n",
       "5 Mark     Yes    \n",
       "6 Matha    No     \n",
       "7 Oliver   Yes    "
      ]
     },
     "metadata": {},
     "output_type": "display_data"
    }
   ],
   "source": [
    "# DF2\n",
    "df2 = data.frame(Name, Working)\n",
    "df2"
   ]
  },
  {
   "cell_type": "code",
   "execution_count": 34,
   "id": "2dd51c8d",
   "metadata": {
    "vscode": {
     "languageId": "r"
    }
   },
   "outputs": [
    {
     "data": {
      "text/html": [
       "<table class=\"dataframe\">\n",
       "<caption>A data.table: 7 × 6</caption>\n",
       "<thead>\n",
       "\t<tr><th scope=col>Name</th><th scope=col>Age</th><th scope=col>Height</th><th scope=col>Weight</th><th scope=col>Sex</th><th scope=col>Working</th></tr>\n",
       "\t<tr><th scope=col>&lt;chr&gt;</th><th scope=col>&lt;dbl&gt;</th><th scope=col>&lt;dbl&gt;</th><th scope=col>&lt;dbl&gt;</th><th scope=col>&lt;chr&gt;</th><th scope=col>&lt;chr&gt;</th></tr>\n",
       "</thead>\n",
       "<tbody>\n",
       "\t<tr><td>Alex    </td><td>25</td><td>177</td><td>57</td><td>F</td><td>Yes</td></tr>\n",
       "\t<tr><td>Caroline</td><td>26</td><td>164</td><td>53</td><td>F</td><td>No </td></tr>\n",
       "\t<tr><td>Lilly   </td><td>31</td><td>163</td><td>69</td><td>F</td><td>No </td></tr>\n",
       "\t<tr><td>Lucas   </td><td>49</td><td>183</td><td>83</td><td>M</td><td>Yes</td></tr>\n",
       "\t<tr><td>Mark    </td><td>23</td><td>190</td><td>83</td><td>M</td><td>Yes</td></tr>\n",
       "\t<tr><td>Matha   </td><td>76</td><td>163</td><td>70</td><td>F</td><td>No </td></tr>\n",
       "\t<tr><td>Oliver  </td><td>52</td><td>179</td><td>75</td><td>M</td><td>Yes</td></tr>\n",
       "</tbody>\n",
       "</table>\n"
      ],
      "text/latex": [
       "A data.table: 7 × 6\n",
       "\\begin{tabular}{llllll}\n",
       " Name & Age & Height & Weight & Sex & Working\\\\\n",
       " <chr> & <dbl> & <dbl> & <dbl> & <chr> & <chr>\\\\\n",
       "\\hline\n",
       "\t Alex     & 25 & 177 & 57 & F & Yes\\\\\n",
       "\t Caroline & 26 & 164 & 53 & F & No \\\\\n",
       "\t Lilly    & 31 & 163 & 69 & F & No \\\\\n",
       "\t Lucas    & 49 & 183 & 83 & M & Yes\\\\\n",
       "\t Mark     & 23 & 190 & 83 & M & Yes\\\\\n",
       "\t Matha    & 76 & 163 & 70 & F & No \\\\\n",
       "\t Oliver   & 52 & 179 & 75 & M & Yes\\\\\n",
       "\\end{tabular}\n"
      ],
      "text/markdown": [
       "\n",
       "A data.table: 7 × 6\n",
       "\n",
       "| Name &lt;chr&gt; | Age &lt;dbl&gt; | Height &lt;dbl&gt; | Weight &lt;dbl&gt; | Sex &lt;chr&gt; | Working &lt;chr&gt; |\n",
       "|---|---|---|---|---|---|\n",
       "| Alex     | 25 | 177 | 57 | F | Yes |\n",
       "| Caroline | 26 | 164 | 53 | F | No  |\n",
       "| Lilly    | 31 | 163 | 69 | F | No  |\n",
       "| Lucas    | 49 | 183 | 83 | M | Yes |\n",
       "| Mark     | 23 | 190 | 83 | M | Yes |\n",
       "| Matha    | 76 | 163 | 70 | F | No  |\n",
       "| Oliver   | 52 | 179 | 75 | M | Yes |\n",
       "\n"
      ],
      "text/plain": [
       "  Name     Age Height Weight Sex Working\n",
       "1 Alex     25  177    57     F   Yes    \n",
       "2 Caroline 26  164    53     F   No     \n",
       "3 Lilly    31  163    69     F   No     \n",
       "4 Lucas    49  183    83     M   Yes    \n",
       "5 Mark     23  190    83     M   Yes    \n",
       "6 Matha    76  163    70     F   No     \n",
       "7 Oliver   52  179    75     M   Yes    "
      ]
     },
     "metadata": {},
     "output_type": "display_data"
    }
   ],
   "source": [
    "# Merge two data frames\n",
    "merged = merge(df, df2, by = 'Name')\n",
    "merged"
   ]
  },
  {
   "cell_type": "code",
   "execution_count": 35,
   "id": "2b66d93c",
   "metadata": {
    "vscode": {
     "languageId": "r"
    }
   },
   "outputs": [
    {
     "data": {
      "text/html": [
       "6"
      ],
      "text/latex": [
       "6"
      ],
      "text/markdown": [
       "6"
      ],
      "text/plain": [
       "[1] 6"
      ]
     },
     "metadata": {},
     "output_type": "display_data"
    }
   ],
   "source": [
    "# number of column \n",
    "ncol(merged)"
   ]
  },
  {
   "cell_type": "code",
   "execution_count": 36,
   "id": "72e1fd3e",
   "metadata": {
    "vscode": {
     "languageId": "r"
    }
   },
   "outputs": [
    {
     "data": {
      "text/html": [
       "7"
      ],
      "text/latex": [
       "7"
      ],
      "text/markdown": [
       "7"
      ],
      "text/plain": [
       "[1] 7"
      ]
     },
     "metadata": {},
     "output_type": "display_data"
    }
   ],
   "source": [
    "# number of row\n",
    "nrow(merged)"
   ]
  },
  {
   "cell_type": "code",
   "execution_count": 39,
   "id": "9a6a2e6b",
   "metadata": {
    "vscode": {
     "languageId": "r"
    }
   },
   "outputs": [
    {
     "data": {
      "text/html": [
       "<style>\n",
       ".list-inline {list-style: none; margin:0; padding: 0}\n",
       ".list-inline>li {display: inline-block}\n",
       ".list-inline>li:not(:last-child)::after {content: \"\\00b7\"; padding: 0 .5ex}\n",
       "</style>\n",
       "<ol class=list-inline><li>'data.table'</li><li>'data.frame'</li></ol>\n"
      ],
      "text/latex": [
       "\\begin{enumerate*}\n",
       "\\item 'data.table'\n",
       "\\item 'data.frame'\n",
       "\\end{enumerate*}\n"
      ],
      "text/markdown": [
       "1. 'data.table'\n",
       "2. 'data.frame'\n",
       "\n",
       "\n"
      ],
      "text/plain": [
       "[1] \"data.table\" \"data.frame\""
      ]
     },
     "metadata": {},
     "output_type": "display_data"
    },
    {
     "data": {
      "text/html": [
       "'data.frame'"
      ],
      "text/latex": [
       "'data.frame'"
      ],
      "text/markdown": [
       "'data.frame'"
      ],
      "text/plain": [
       "[1] \"data.frame\""
      ]
     },
     "metadata": {},
     "output_type": "display_data"
    },
    {
     "data": {
      "text/html": [
       "<style>\n",
       ".list-inline {list-style: none; margin:0; padding: 0}\n",
       ".list-inline>li {display: inline-block}\n",
       ".list-inline>li:not(:last-child)::after {content: \"\\00b7\"; padding: 0 .5ex}\n",
       "</style>\n",
       "<ol class=list-inline><li>'data.table'</li><li>'data.frame'</li></ol>\n"
      ],
      "text/latex": [
       "\\begin{enumerate*}\n",
       "\\item 'data.table'\n",
       "\\item 'data.frame'\n",
       "\\end{enumerate*}\n"
      ],
      "text/markdown": [
       "1. 'data.table'\n",
       "2. 'data.frame'\n",
       "\n",
       "\n"
      ],
      "text/plain": [
       "[1] \"data.table\" \"data.frame\""
      ]
     },
     "metadata": {},
     "output_type": "display_data"
    }
   ],
   "source": [
    "class(df)\n",
    "class(df2)\n",
    "class(merged)"
   ]
  },
  {
   "cell_type": "markdown",
   "id": "2564cee0",
   "metadata": {},
   "source": [
    "# Exercise 5.23 "
   ]
  },
  {
   "cell_type": "code",
   "execution_count": 70,
   "id": "7f94dda1",
   "metadata": {
    "vscode": {
     "languageId": "r"
    }
   },
   "outputs": [
    {
     "data": {
      "text/html": [
       "<table class=\"dataframe\">\n",
       "<caption>A data.frame: 17 × 4</caption>\n",
       "<thead>\n",
       "\t<tr><th scope=col>height</th><th scope=col>shoesize</th><th scope=col>geneder</th><th scope=col>population</th></tr>\n",
       "\t<tr><th scope=col>&lt;dbl&gt;</th><th scope=col>&lt;dbl&gt;</th><th scope=col>&lt;chr&gt;</th><th scope=col>&lt;chr&gt;</th></tr>\n",
       "</thead>\n",
       "<tbody>\n",
       "\t<tr><td>181</td><td>44</td><td>Male  </td><td>Kuopie </td></tr>\n",
       "\t<tr><td>160</td><td>38</td><td>Female</td><td>Kuopie </td></tr>\n",
       "\t<tr><td>174</td><td>42</td><td>Female</td><td>Kuopie </td></tr>\n",
       "\t<tr><td>170</td><td>43</td><td>Male  </td><td>Kuopie </td></tr>\n",
       "\t<tr><td>172</td><td>43</td><td>Male  </td><td>Kuopie </td></tr>\n",
       "\t<tr><td>165</td><td>39</td><td>Female</td><td>Kuopie </td></tr>\n",
       "\t<tr><td>161</td><td>38</td><td>Female</td><td>Kuopie </td></tr>\n",
       "\t<tr><td>167</td><td>38</td><td>Female</td><td>Tempere</td></tr>\n",
       "\t<tr><td>164</td><td>39</td><td>Female</td><td>Tempere</td></tr>\n",
       "\t<tr><td>166</td><td>38</td><td>Female</td><td>Tempere</td></tr>\n",
       "\t<tr><td>162</td><td>37</td><td>Female</td><td>Tempere</td></tr>\n",
       "\t<tr><td>158</td><td>36</td><td>Female</td><td>Tempere</td></tr>\n",
       "\t<tr><td>175</td><td>42</td><td>Male  </td><td>Tempere</td></tr>\n",
       "\t<tr><td>181</td><td>44</td><td>Male  </td><td>Tempere</td></tr>\n",
       "\t<tr><td>180</td><td>43</td><td>Male  </td><td>Tempere</td></tr>\n",
       "\t<tr><td>177</td><td>43</td><td>Male  </td><td>Tempere</td></tr>\n",
       "\t<tr><td>173</td><td>41</td><td>Male  </td><td>Tempere</td></tr>\n",
       "</tbody>\n",
       "</table>\n"
      ],
      "text/latex": [
       "A data.frame: 17 × 4\n",
       "\\begin{tabular}{llll}\n",
       " height & shoesize & geneder & population\\\\\n",
       " <dbl> & <dbl> & <chr> & <chr>\\\\\n",
       "\\hline\n",
       "\t 181 & 44 & Male   & Kuopie \\\\\n",
       "\t 160 & 38 & Female & Kuopie \\\\\n",
       "\t 174 & 42 & Female & Kuopie \\\\\n",
       "\t 170 & 43 & Male   & Kuopie \\\\\n",
       "\t 172 & 43 & Male   & Kuopie \\\\\n",
       "\t 165 & 39 & Female & Kuopie \\\\\n",
       "\t 161 & 38 & Female & Kuopie \\\\\n",
       "\t 167 & 38 & Female & Tempere\\\\\n",
       "\t 164 & 39 & Female & Tempere\\\\\n",
       "\t 166 & 38 & Female & Tempere\\\\\n",
       "\t 162 & 37 & Female & Tempere\\\\\n",
       "\t 158 & 36 & Female & Tempere\\\\\n",
       "\t 175 & 42 & Male   & Tempere\\\\\n",
       "\t 181 & 44 & Male   & Tempere\\\\\n",
       "\t 180 & 43 & Male   & Tempere\\\\\n",
       "\t 177 & 43 & Male   & Tempere\\\\\n",
       "\t 173 & 41 & Male   & Tempere\\\\\n",
       "\\end{tabular}\n"
      ],
      "text/markdown": [
       "\n",
       "A data.frame: 17 × 4\n",
       "\n",
       "| height &lt;dbl&gt; | shoesize &lt;dbl&gt; | geneder &lt;chr&gt; | population &lt;chr&gt; |\n",
       "|---|---|---|---|\n",
       "| 181 | 44 | Male   | Kuopie  |\n",
       "| 160 | 38 | Female | Kuopie  |\n",
       "| 174 | 42 | Female | Kuopie  |\n",
       "| 170 | 43 | Male   | Kuopie  |\n",
       "| 172 | 43 | Male   | Kuopie  |\n",
       "| 165 | 39 | Female | Kuopie  |\n",
       "| 161 | 38 | Female | Kuopie  |\n",
       "| 167 | 38 | Female | Tempere |\n",
       "| 164 | 39 | Female | Tempere |\n",
       "| 166 | 38 | Female | Tempere |\n",
       "| 162 | 37 | Female | Tempere |\n",
       "| 158 | 36 | Female | Tempere |\n",
       "| 175 | 42 | Male   | Tempere |\n",
       "| 181 | 44 | Male   | Tempere |\n",
       "| 180 | 43 | Male   | Tempere |\n",
       "| 177 | 43 | Male   | Tempere |\n",
       "| 173 | 41 | Male   | Tempere |\n",
       "\n"
      ],
      "text/plain": [
       "   height shoesize geneder population\n",
       "1  181    44       Male    Kuopie    \n",
       "2  160    38       Female  Kuopie    \n",
       "3  174    42       Female  Kuopie    \n",
       "4  170    43       Male    Kuopie    \n",
       "5  172    43       Male    Kuopie    \n",
       "6  165    39       Female  Kuopie    \n",
       "7  161    38       Female  Kuopie    \n",
       "8  167    38       Female  Tempere   \n",
       "9  164    39       Female  Tempere   \n",
       "10 166    38       Female  Tempere   \n",
       "11 162    37       Female  Tempere   \n",
       "12 158    36       Female  Tempere   \n",
       "13 175    42       Male    Tempere   \n",
       "14 181    44       Male    Tempere   \n",
       "15 180    43       Male    Tempere   \n",
       "16 177    43       Male    Tempere   \n",
       "17 173    41       Male    Tempere   "
      ]
     },
     "metadata": {},
     "output_type": "display_data"
    }
   ],
   "source": [
    "height = c(181, 160,174, 170, 172, 165, 161, 167, 164, 166, 162, 158, 175, 181, 180, 177, 173)\n",
    "shoesize = c(44, 38, 42, 43,43, 39, 38, 38, 39, 38, 37, 36, 42, 44, 43, 43, 41)\n",
    "geneder = c('Male','Female', 'Female', 'Male','Male','Female','Female','Female','Female', 'Female',\n",
    "            'Female', 'Female', 'Male','Male','Male','Male','Male')\n",
    "population = c('Kuopie', 'Kuopie','Kuopie','Kuopie','Kuopie','Kuopie','Kuopie','Tempere','Tempere', \n",
    "               'Tempere', 'Tempere', 'Tempere', 'Tempere', 'Tempere', 'Tempere', 'Tempere', 'Tempere')\n",
    "Students = data.frame(height, shoesize, geneder, population)\n",
    "Students"
   ]
  },
  {
   "cell_type": "code",
   "execution_count": 71,
   "id": "5c395877",
   "metadata": {
    "vscode": {
     "languageId": "r"
    }
   },
   "outputs": [
    {
     "data": {
      "text/html": [
       "<style>\n",
       ".list-inline {list-style: none; margin:0; padding: 0}\n",
       ".list-inline>li {display: inline-block}\n",
       ".list-inline>li:not(:last-child)::after {content: \"\\00b7\"; padding: 0 .5ex}\n",
       "</style>\n",
       "<ol class=list-inline><li>'height'</li><li>'shoesize'</li><li>'geneder'</li><li>'population'</li></ol>\n"
      ],
      "text/latex": [
       "\\begin{enumerate*}\n",
       "\\item 'height'\n",
       "\\item 'shoesize'\n",
       "\\item 'geneder'\n",
       "\\item 'population'\n",
       "\\end{enumerate*}\n"
      ],
      "text/markdown": [
       "1. 'height'\n",
       "2. 'shoesize'\n",
       "3. 'geneder'\n",
       "4. 'population'\n",
       "\n",
       "\n"
      ],
      "text/plain": [
       "[1] \"height\"     \"shoesize\"   \"geneder\"    \"population\""
      ]
     },
     "metadata": {},
     "output_type": "display_data"
    }
   ],
   "source": [
    "#Columns headers(names)\n",
    "colnames(Students)"
   ]
  },
  {
   "cell_type": "code",
   "execution_count": 72,
   "id": "fd74f4c3",
   "metadata": {
    "vscode": {
     "languageId": "r"
    }
   },
   "outputs": [
    {
     "data": {
      "text/html": [
       "169.764705882353"
      ],
      "text/latex": [
       "169.764705882353"
      ],
      "text/markdown": [
       "169.764705882353"
      ],
      "text/plain": [
       "[1] 169.7647"
      ]
     },
     "metadata": {},
     "output_type": "display_data"
    },
    {
     "data": {
      "text/html": [
       "40.4705882352941"
      ],
      "text/latex": [
       "40.4705882352941"
      ],
      "text/markdown": [
       "40.4705882352941"
      ],
      "text/plain": [
       "[1] 40.47059"
      ]
     },
     "metadata": {},
     "output_type": "display_data"
    }
   ],
   "source": [
    "# Mean of height and shoesize\n",
    "mean(Students$height)\n",
    "mean(Students$shoesize)"
   ]
  },
  {
   "cell_type": "code",
   "execution_count": 73,
   "id": "84d55e4c",
   "metadata": {
    "vscode": {
     "languageId": "r"
    }
   },
   "outputs": [
    {
     "data": {
      "text/html": [
       "7.57899574287968"
      ],
      "text/latex": [
       "7.57899574287968"
      ],
      "text/markdown": [
       "7.57899574287968"
      ],
      "text/plain": [
       "[1] 7.578996"
      ]
     },
     "metadata": {},
     "output_type": "display_data"
    },
    {
     "data": {
      "text/html": [
       "2.69531183397264"
      ],
      "text/latex": [
       "2.69531183397264"
      ],
      "text/markdown": [
       "2.69531183397264"
      ],
      "text/plain": [
       "[1] 2.695312"
      ]
     },
     "metadata": {},
     "output_type": "display_data"
    }
   ],
   "source": [
    "# standard deviasion\n",
    "sd(Students$height)\n",
    "sd(Students$shoesize)"
   ]
  },
  {
   "cell_type": "code",
   "execution_count": 74,
   "id": "b6dcbb59",
   "metadata": {
    "vscode": {
     "languageId": "r"
    }
   },
   "outputs": [
    {
     "data": {
      "text/plain": [
       "\n",
       "Female   Male \n",
       "     9      8 "
      ]
     },
     "metadata": {},
     "output_type": "display_data"
    }
   ],
   "source": [
    "# Table distribtution\n",
    "gender_dist <- table(Students$geneder)\n",
    "gender_dist"
   ]
  },
  {
   "cell_type": "code",
   "execution_count": 75,
   "id": "11962799",
   "metadata": {
    "vscode": {
     "languageId": "r"
    }
   },
   "outputs": [
    {
     "data": {
      "text/html": [
       "<table class=\"dataframe\">\n",
       "<caption>A data.frame: 8 × 4</caption>\n",
       "<thead>\n",
       "\t<tr><th></th><th scope=col>height</th><th scope=col>shoesize</th><th scope=col>geneder</th><th scope=col>population</th></tr>\n",
       "\t<tr><th></th><th scope=col>&lt;dbl&gt;</th><th scope=col>&lt;dbl&gt;</th><th scope=col>&lt;chr&gt;</th><th scope=col>&lt;chr&gt;</th></tr>\n",
       "</thead>\n",
       "<tbody>\n",
       "\t<tr><th scope=row>1</th><td>181</td><td>44</td><td>Male</td><td>Kuopie </td></tr>\n",
       "\t<tr><th scope=row>4</th><td>170</td><td>43</td><td>Male</td><td>Kuopie </td></tr>\n",
       "\t<tr><th scope=row>5</th><td>172</td><td>43</td><td>Male</td><td>Kuopie </td></tr>\n",
       "\t<tr><th scope=row>13</th><td>175</td><td>42</td><td>Male</td><td>Tempere</td></tr>\n",
       "\t<tr><th scope=row>14</th><td>181</td><td>44</td><td>Male</td><td>Tempere</td></tr>\n",
       "\t<tr><th scope=row>15</th><td>180</td><td>43</td><td>Male</td><td>Tempere</td></tr>\n",
       "\t<tr><th scope=row>16</th><td>177</td><td>43</td><td>Male</td><td>Tempere</td></tr>\n",
       "\t<tr><th scope=row>17</th><td>173</td><td>41</td><td>Male</td><td>Tempere</td></tr>\n",
       "</tbody>\n",
       "</table>\n"
      ],
      "text/latex": [
       "A data.frame: 8 × 4\n",
       "\\begin{tabular}{r|llll}\n",
       "  & height & shoesize & geneder & population\\\\\n",
       "  & <dbl> & <dbl> & <chr> & <chr>\\\\\n",
       "\\hline\n",
       "\t1 & 181 & 44 & Male & Kuopie \\\\\n",
       "\t4 & 170 & 43 & Male & Kuopie \\\\\n",
       "\t5 & 172 & 43 & Male & Kuopie \\\\\n",
       "\t13 & 175 & 42 & Male & Tempere\\\\\n",
       "\t14 & 181 & 44 & Male & Tempere\\\\\n",
       "\t15 & 180 & 43 & Male & Tempere\\\\\n",
       "\t16 & 177 & 43 & Male & Tempere\\\\\n",
       "\t17 & 173 & 41 & Male & Tempere\\\\\n",
       "\\end{tabular}\n"
      ],
      "text/markdown": [
       "\n",
       "A data.frame: 8 × 4\n",
       "\n",
       "| <!--/--> | height &lt;dbl&gt; | shoesize &lt;dbl&gt; | geneder &lt;chr&gt; | population &lt;chr&gt; |\n",
       "|---|---|---|---|---|\n",
       "| 1 | 181 | 44 | Male | Kuopie  |\n",
       "| 4 | 170 | 43 | Male | Kuopie  |\n",
       "| 5 | 172 | 43 | Male | Kuopie  |\n",
       "| 13 | 175 | 42 | Male | Tempere |\n",
       "| 14 | 181 | 44 | Male | Tempere |\n",
       "| 15 | 180 | 43 | Male | Tempere |\n",
       "| 16 | 177 | 43 | Male | Tempere |\n",
       "| 17 | 173 | 41 | Male | Tempere |\n",
       "\n"
      ],
      "text/plain": [
       "   height shoesize geneder population\n",
       "1  181    44       Male    Kuopie    \n",
       "4  170    43       Male    Kuopie    \n",
       "5  172    43       Male    Kuopie    \n",
       "13 175    42       Male    Tempere   \n",
       "14 181    44       Male    Tempere   \n",
       "15 180    43       Male    Tempere   \n",
       "16 177    43       Male    Tempere   \n",
       "17 173    41       Male    Tempere   "
      ]
     },
     "metadata": {},
     "output_type": "display_data"
    }
   ],
   "source": [
    "# Male individuals\n",
    "dfMale = Students[Students$geneder == 'Male',]\n",
    "# df[df$colname == 'Value',]\n",
    "dfMale"
   ]
  },
  {
   "cell_type": "code",
   "execution_count": 82,
   "id": "7203e1b6",
   "metadata": {
    "vscode": {
     "languageId": "r"
    }
   },
   "outputs": [
    {
     "data": {
      "text/html": [
       "<table class=\"dataframe\">\n",
       "<caption>A data.frame: 17 × 5</caption>\n",
       "<thead>\n",
       "\t<tr><th scope=col>height</th><th scope=col>shoesize</th><th scope=col>geneder</th><th scope=col>population</th><th scope=col>gender_new</th></tr>\n",
       "\t<tr><th scope=col>&lt;dbl&gt;</th><th scope=col>&lt;dbl&gt;</th><th scope=col>&lt;chr&gt;</th><th scope=col>&lt;chr&gt;</th><th scope=col>&lt;chr&gt;</th></tr>\n",
       "</thead>\n",
       "<tbody>\n",
       "\t<tr><td>181</td><td>44</td><td>Male  </td><td>Kuopie </td><td>M</td></tr>\n",
       "\t<tr><td>160</td><td>38</td><td>Female</td><td>Kuopie </td><td>F</td></tr>\n",
       "\t<tr><td>174</td><td>42</td><td>Female</td><td>Kuopie </td><td>F</td></tr>\n",
       "\t<tr><td>170</td><td>43</td><td>Male  </td><td>Kuopie </td><td>M</td></tr>\n",
       "\t<tr><td>172</td><td>43</td><td>Male  </td><td>Kuopie </td><td>M</td></tr>\n",
       "\t<tr><td>165</td><td>39</td><td>Female</td><td>Kuopie </td><td>F</td></tr>\n",
       "\t<tr><td>161</td><td>38</td><td>Female</td><td>Kuopie </td><td>F</td></tr>\n",
       "\t<tr><td>167</td><td>38</td><td>Female</td><td>Tempere</td><td>F</td></tr>\n",
       "\t<tr><td>164</td><td>39</td><td>Female</td><td>Tempere</td><td>F</td></tr>\n",
       "\t<tr><td>166</td><td>38</td><td>Female</td><td>Tempere</td><td>F</td></tr>\n",
       "\t<tr><td>162</td><td>37</td><td>Female</td><td>Tempere</td><td>F</td></tr>\n",
       "\t<tr><td>158</td><td>36</td><td>Female</td><td>Tempere</td><td>F</td></tr>\n",
       "\t<tr><td>175</td><td>42</td><td>Male  </td><td>Tempere</td><td>M</td></tr>\n",
       "\t<tr><td>181</td><td>44</td><td>Male  </td><td>Tempere</td><td>M</td></tr>\n",
       "\t<tr><td>180</td><td>43</td><td>Male  </td><td>Tempere</td><td>M</td></tr>\n",
       "\t<tr><td>177</td><td>43</td><td>Male  </td><td>Tempere</td><td>M</td></tr>\n",
       "\t<tr><td>173</td><td>41</td><td>Male  </td><td>Tempere</td><td>M</td></tr>\n",
       "</tbody>\n",
       "</table>\n"
      ],
      "text/latex": [
       "A data.frame: 17 × 5\n",
       "\\begin{tabular}{lllll}\n",
       " height & shoesize & geneder & population & gender\\_new\\\\\n",
       " <dbl> & <dbl> & <chr> & <chr> & <chr>\\\\\n",
       "\\hline\n",
       "\t 181 & 44 & Male   & Kuopie  & M\\\\\n",
       "\t 160 & 38 & Female & Kuopie  & F\\\\\n",
       "\t 174 & 42 & Female & Kuopie  & F\\\\\n",
       "\t 170 & 43 & Male   & Kuopie  & M\\\\\n",
       "\t 172 & 43 & Male   & Kuopie  & M\\\\\n",
       "\t 165 & 39 & Female & Kuopie  & F\\\\\n",
       "\t 161 & 38 & Female & Kuopie  & F\\\\\n",
       "\t 167 & 38 & Female & Tempere & F\\\\\n",
       "\t 164 & 39 & Female & Tempere & F\\\\\n",
       "\t 166 & 38 & Female & Tempere & F\\\\\n",
       "\t 162 & 37 & Female & Tempere & F\\\\\n",
       "\t 158 & 36 & Female & Tempere & F\\\\\n",
       "\t 175 & 42 & Male   & Tempere & M\\\\\n",
       "\t 181 & 44 & Male   & Tempere & M\\\\\n",
       "\t 180 & 43 & Male   & Tempere & M\\\\\n",
       "\t 177 & 43 & Male   & Tempere & M\\\\\n",
       "\t 173 & 41 & Male   & Tempere & M\\\\\n",
       "\\end{tabular}\n"
      ],
      "text/markdown": [
       "\n",
       "A data.frame: 17 × 5\n",
       "\n",
       "| height &lt;dbl&gt; | shoesize &lt;dbl&gt; | geneder &lt;chr&gt; | population &lt;chr&gt; | gender_new &lt;chr&gt; |\n",
       "|---|---|---|---|---|\n",
       "| 181 | 44 | Male   | Kuopie  | M |\n",
       "| 160 | 38 | Female | Kuopie  | F |\n",
       "| 174 | 42 | Female | Kuopie  | F |\n",
       "| 170 | 43 | Male   | Kuopie  | M |\n",
       "| 172 | 43 | Male   | Kuopie  | M |\n",
       "| 165 | 39 | Female | Kuopie  | F |\n",
       "| 161 | 38 | Female | Kuopie  | F |\n",
       "| 167 | 38 | Female | Tempere | F |\n",
       "| 164 | 39 | Female | Tempere | F |\n",
       "| 166 | 38 | Female | Tempere | F |\n",
       "| 162 | 37 | Female | Tempere | F |\n",
       "| 158 | 36 | Female | Tempere | F |\n",
       "| 175 | 42 | Male   | Tempere | M |\n",
       "| 181 | 44 | Male   | Tempere | M |\n",
       "| 180 | 43 | Male   | Tempere | M |\n",
       "| 177 | 43 | Male   | Tempere | M |\n",
       "| 173 | 41 | Male   | Tempere | M |\n",
       "\n"
      ],
      "text/plain": [
       "   height shoesize geneder population gender_new\n",
       "1  181    44       Male    Kuopie     M         \n",
       "2  160    38       Female  Kuopie     F         \n",
       "3  174    42       Female  Kuopie     F         \n",
       "4  170    43       Male    Kuopie     M         \n",
       "5  172    43       Male    Kuopie     M         \n",
       "6  165    39       Female  Kuopie     F         \n",
       "7  161    38       Female  Kuopie     F         \n",
       "8  167    38       Female  Tempere    F         \n",
       "9  164    39       Female  Tempere    F         \n",
       "10 166    38       Female  Tempere    F         \n",
       "11 162    37       Female  Tempere    F         \n",
       "12 158    36       Female  Tempere    F         \n",
       "13 175    42       Male    Tempere    M         \n",
       "14 181    44       Male    Tempere    M         \n",
       "15 180    43       Male    Tempere    M         \n",
       "16 177    43       Male    Tempere    M         \n",
       "17 173    41       Male    Tempere    M         "
      ]
     },
     "metadata": {},
     "output_type": "display_data"
    }
   ],
   "source": [
    "# Record new varable \n",
    "Students$gender_new = ifelse(Students$geneder == 'Male', 'M', 'F')\n",
    "Students"
   ]
  },
  {
   "cell_type": "code",
   "execution_count": 84,
   "id": "0619bff6",
   "metadata": {
    "vscode": {
     "languageId": "r"
    }
   },
   "outputs": [
    {
     "data": {
      "text/html": [
       "<table class=\"dataframe\">\n",
       "<caption>A data.frame: 8 × 5</caption>\n",
       "<thead>\n",
       "\t<tr><th></th><th scope=col>height</th><th scope=col>shoesize</th><th scope=col>geneder</th><th scope=col>population</th><th scope=col>gender_new</th></tr>\n",
       "\t<tr><th></th><th scope=col>&lt;dbl&gt;</th><th scope=col>&lt;dbl&gt;</th><th scope=col>&lt;chr&gt;</th><th scope=col>&lt;chr&gt;</th><th scope=col>&lt;chr&gt;</th></tr>\n",
       "</thead>\n",
       "<tbody>\n",
       "\t<tr><th scope=row>1</th><td>181</td><td>44</td><td>Male</td><td>Kuopie </td><td>M</td></tr>\n",
       "\t<tr><th scope=row>4</th><td>170</td><td>43</td><td>Male</td><td>Kuopie </td><td>M</td></tr>\n",
       "\t<tr><th scope=row>5</th><td>172</td><td>43</td><td>Male</td><td>Kuopie </td><td>M</td></tr>\n",
       "\t<tr><th scope=row>13</th><td>175</td><td>42</td><td>Male</td><td>Tempere</td><td>M</td></tr>\n",
       "\t<tr><th scope=row>14</th><td>181</td><td>44</td><td>Male</td><td>Tempere</td><td>M</td></tr>\n",
       "\t<tr><th scope=row>15</th><td>180</td><td>43</td><td>Male</td><td>Tempere</td><td>M</td></tr>\n",
       "\t<tr><th scope=row>16</th><td>177</td><td>43</td><td>Male</td><td>Tempere</td><td>M</td></tr>\n",
       "\t<tr><th scope=row>17</th><td>173</td><td>41</td><td>Male</td><td>Tempere</td><td>M</td></tr>\n",
       "</tbody>\n",
       "</table>\n"
      ],
      "text/latex": [
       "A data.frame: 8 × 5\n",
       "\\begin{tabular}{r|lllll}\n",
       "  & height & shoesize & geneder & population & gender\\_new\\\\\n",
       "  & <dbl> & <dbl> & <chr> & <chr> & <chr>\\\\\n",
       "\\hline\n",
       "\t1 & 181 & 44 & Male & Kuopie  & M\\\\\n",
       "\t4 & 170 & 43 & Male & Kuopie  & M\\\\\n",
       "\t5 & 172 & 43 & Male & Kuopie  & M\\\\\n",
       "\t13 & 175 & 42 & Male & Tempere & M\\\\\n",
       "\t14 & 181 & 44 & Male & Tempere & M\\\\\n",
       "\t15 & 180 & 43 & Male & Tempere & M\\\\\n",
       "\t16 & 177 & 43 & Male & Tempere & M\\\\\n",
       "\t17 & 173 & 41 & Male & Tempere & M\\\\\n",
       "\\end{tabular}\n"
      ],
      "text/markdown": [
       "\n",
       "A data.frame: 8 × 5\n",
       "\n",
       "| <!--/--> | height &lt;dbl&gt; | shoesize &lt;dbl&gt; | geneder &lt;chr&gt; | population &lt;chr&gt; | gender_new &lt;chr&gt; |\n",
       "|---|---|---|---|---|---|\n",
       "| 1 | 181 | 44 | Male | Kuopie  | M |\n",
       "| 4 | 170 | 43 | Male | Kuopie  | M |\n",
       "| 5 | 172 | 43 | Male | Kuopie  | M |\n",
       "| 13 | 175 | 42 | Male | Tempere | M |\n",
       "| 14 | 181 | 44 | Male | Tempere | M |\n",
       "| 15 | 180 | 43 | Male | Tempere | M |\n",
       "| 16 | 177 | 43 | Male | Tempere | M |\n",
       "| 17 | 173 | 41 | Male | Tempere | M |\n",
       "\n"
      ],
      "text/plain": [
       "   height shoesize geneder population gender_new\n",
       "1  181    44       Male    Kuopie     M         \n",
       "4  170    43       Male    Kuopie     M         \n",
       "5  172    43       Male    Kuopie     M         \n",
       "13 175    42       Male    Tempere    M         \n",
       "14 181    44       Male    Tempere    M         \n",
       "15 180    43       Male    Tempere    M         \n",
       "16 177    43       Male    Tempere    M         \n",
       "17 173    41       Male    Tempere    M         "
      ]
     },
     "metadata": {},
     "output_type": "display_data"
    },
    {
     "data": {
      "text/html": [
       "<table class=\"dataframe\">\n",
       "<caption>A data.frame: 8 × 5</caption>\n",
       "<thead>\n",
       "\t<tr><th></th><th scope=col>height</th><th scope=col>shoesize</th><th scope=col>geneder</th><th scope=col>population</th><th scope=col>gender_new</th></tr>\n",
       "\t<tr><th></th><th scope=col>&lt;dbl&gt;</th><th scope=col>&lt;dbl&gt;</th><th scope=col>&lt;chr&gt;</th><th scope=col>&lt;chr&gt;</th><th scope=col>&lt;chr&gt;</th></tr>\n",
       "</thead>\n",
       "<tbody>\n",
       "\t<tr><th scope=row>1</th><td>181</td><td>44</td><td>Male</td><td>Kuopie </td><td>M</td></tr>\n",
       "\t<tr><th scope=row>4</th><td>170</td><td>43</td><td>Male</td><td>Kuopie </td><td>M</td></tr>\n",
       "\t<tr><th scope=row>5</th><td>172</td><td>43</td><td>Male</td><td>Kuopie </td><td>M</td></tr>\n",
       "\t<tr><th scope=row>13</th><td>175</td><td>42</td><td>Male</td><td>Tempere</td><td>M</td></tr>\n",
       "\t<tr><th scope=row>14</th><td>181</td><td>44</td><td>Male</td><td>Tempere</td><td>M</td></tr>\n",
       "\t<tr><th scope=row>15</th><td>180</td><td>43</td><td>Male</td><td>Tempere</td><td>M</td></tr>\n",
       "\t<tr><th scope=row>16</th><td>177</td><td>43</td><td>Male</td><td>Tempere</td><td>M</td></tr>\n",
       "\t<tr><th scope=row>17</th><td>173</td><td>41</td><td>Male</td><td>Tempere</td><td>M</td></tr>\n",
       "</tbody>\n",
       "</table>\n"
      ],
      "text/latex": [
       "A data.frame: 8 × 5\n",
       "\\begin{tabular}{r|lllll}\n",
       "  & height & shoesize & geneder & population & gender\\_new\\\\\n",
       "  & <dbl> & <dbl> & <chr> & <chr> & <chr>\\\\\n",
       "\\hline\n",
       "\t1 & 181 & 44 & Male & Kuopie  & M\\\\\n",
       "\t4 & 170 & 43 & Male & Kuopie  & M\\\\\n",
       "\t5 & 172 & 43 & Male & Kuopie  & M\\\\\n",
       "\t13 & 175 & 42 & Male & Tempere & M\\\\\n",
       "\t14 & 181 & 44 & Male & Tempere & M\\\\\n",
       "\t15 & 180 & 43 & Male & Tempere & M\\\\\n",
       "\t16 & 177 & 43 & Male & Tempere & M\\\\\n",
       "\t17 & 173 & 41 & Male & Tempere & M\\\\\n",
       "\\end{tabular}\n"
      ],
      "text/markdown": [
       "\n",
       "A data.frame: 8 × 5\n",
       "\n",
       "| <!--/--> | height &lt;dbl&gt; | shoesize &lt;dbl&gt; | geneder &lt;chr&gt; | population &lt;chr&gt; | gender_new &lt;chr&gt; |\n",
       "|---|---|---|---|---|---|\n",
       "| 1 | 181 | 44 | Male | Kuopie  | M |\n",
       "| 4 | 170 | 43 | Male | Kuopie  | M |\n",
       "| 5 | 172 | 43 | Male | Kuopie  | M |\n",
       "| 13 | 175 | 42 | Male | Tempere | M |\n",
       "| 14 | 181 | 44 | Male | Tempere | M |\n",
       "| 15 | 180 | 43 | Male | Tempere | M |\n",
       "| 16 | 177 | 43 | Male | Tempere | M |\n",
       "| 17 | 173 | 41 | Male | Tempere | M |\n",
       "\n"
      ],
      "text/plain": [
       "   height shoesize geneder population gender_new\n",
       "1  181    44       Male    Kuopie     M         \n",
       "4  170    43       Male    Kuopie     M         \n",
       "5  172    43       Male    Kuopie     M         \n",
       "13 175    42       Male    Tempere    M         \n",
       "14 181    44       Male    Tempere    M         \n",
       "15 180    43       Male    Tempere    M         \n",
       "16 177    43       Male    Tempere    M         \n",
       "17 173    41       Male    Tempere    M         "
      ]
     },
     "metadata": {},
     "output_type": "display_data"
    }
   ],
   "source": [
    "# Extract males\n",
    "dfMale = Students[Students$geneder == 'Male',]\n",
    "# df[df$colname == 'Value',]\n",
    "dfMale\n",
    "##########OR############\n",
    "dfMale = Students[Students$gender_new == 'M',]\n",
    "# df[df$colname == 'Value',]\n",
    "dfMale"
   ]
  },
  {
   "cell_type": "markdown",
   "id": "3ec2604d",
   "metadata": {},
   "source": [
    "# Exercise 5.24"
   ]
  },
  {
   "cell_type": "code",
   "execution_count": 87,
   "id": "3d484263",
   "metadata": {
    "vscode": {
     "languageId": "r"
    }
   },
   "outputs": [],
   "source": [
    "demodf = read.csv('demographics.csv')"
   ]
  },
  {
   "cell_type": "code",
   "execution_count": 88,
   "id": "624a34f9",
   "metadata": {
    "vscode": {
     "languageId": "r"
    }
   },
   "outputs": [
    {
     "data": {
      "text/html": [
       "<table class=\"dataframe\">\n",
       "<caption>A data.frame: 510 × 8</caption>\n",
       "<thead>\n",
       "\t<tr><th scope=col>age</th><th scope=col>marital</th><th scope=col>income</th><th scope=col>educ</th><th scope=col>carpr</th><th scope=col>carcat</th><th scope=col>gender</th><th scope=col>retired</th></tr>\n",
       "\t<tr><th scope=col>&lt;int&gt;</th><th scope=col>&lt;chr&gt;</th><th scope=col>&lt;int&gt;</th><th scope=col>&lt;chr&gt;</th><th scope=col>&lt;dbl&gt;</th><th scope=col>&lt;chr&gt;</th><th scope=col>&lt;chr&gt;</th><th scope=col>&lt;chr&gt;</th></tr>\n",
       "</thead>\n",
       "<tbody>\n",
       "\t<tr><td>55</td><td>Married  </td><td> 72</td><td>Did not complete high school</td><td>36.2</td><td>Luxury  </td><td>Female</td><td>No</td></tr>\n",
       "\t<tr><td>56</td><td>Unmarried</td><td>153</td><td>Did not complete high school</td><td>76.9</td><td>Luxury  </td><td>Male  </td><td>No</td></tr>\n",
       "\t<tr><td>28</td><td>Married  </td><td> 28</td><td>Some college                </td><td>13.7</td><td>Economy </td><td>Female</td><td>No</td></tr>\n",
       "\t<tr><td>24</td><td>Married  </td><td> 26</td><td>College degree              </td><td>12.5</td><td>Economy </td><td>Male  </td><td>No</td></tr>\n",
       "\t<tr><td>25</td><td>Unmarried</td><td> 23</td><td>High school degree          </td><td>11.3</td><td>Economy </td><td>Male  </td><td>No</td></tr>\n",
       "\t<tr><td>45</td><td>Married  </td><td> 76</td><td>Some college                </td><td>37.2</td><td>Luxury  </td><td>Male  </td><td>No</td></tr>\n",
       "\t<tr><td>42</td><td>Unmarried</td><td> 40</td><td>Some college                </td><td>19.8</td><td>Standard</td><td>Male  </td><td>No</td></tr>\n",
       "\t<tr><td>35</td><td>Unmarried</td><td> 57</td><td>High school degree          </td><td>28.2</td><td>Standard</td><td>Female</td><td>No</td></tr>\n",
       "\t<tr><td>46</td><td>Unmarried</td><td> 24</td><td>Did not complete high school</td><td>12.2</td><td>Economy </td><td>Female</td><td>No</td></tr>\n",
       "\t<tr><td>34</td><td>Married  </td><td> 89</td><td>Some college                </td><td>46.1</td><td>Luxury  </td><td>Male  </td><td>No</td></tr>\n",
       "\t<tr><td>55</td><td>Married  </td><td> 72</td><td>Some college                </td><td>35.5</td><td>Luxury  </td><td>Female</td><td>No</td></tr>\n",
       "\t<tr><td>28</td><td>Unmarried</td><td> 24</td><td>College degree              </td><td>11.8</td><td>Economy </td><td>Male  </td><td>No</td></tr>\n",
       "\t<tr><td>31</td><td>Married  </td><td> 40</td><td>College degree              </td><td>21.3</td><td>Standard</td><td>Female</td><td>No</td></tr>\n",
       "\t<tr><td>42</td><td>Unmarried</td><td>137</td><td>Some college                </td><td>68.9</td><td>Luxury  </td><td>Female</td><td>No</td></tr>\n",
       "\t<tr><td>35</td><td>Unmarried</td><td> 70</td><td>Some college                </td><td>34.1</td><td>Luxury  </td><td>Male  </td><td>No</td></tr>\n",
       "\t<tr><td>52</td><td>Married  </td><td>159</td><td>College degree              </td><td>78.9</td><td>Luxury  </td><td>Male  </td><td>No</td></tr>\n",
       "\t<tr><td>21</td><td>Married  </td><td> 37</td><td>Some college                </td><td>18.6</td><td>Standard</td><td>Male  </td><td>No</td></tr>\n",
       "\t<tr><td>32</td><td>Unmarried</td><td> 28</td><td>Did not complete high school</td><td>13.7</td><td>Economy </td><td>Female</td><td>No</td></tr>\n",
       "\t<tr><td>42</td><td>Unmarried</td><td>109</td><td>Some college                </td><td>54.7</td><td>Luxury  </td><td>Female</td><td>No</td></tr>\n",
       "\t<tr><td>40</td><td>Married  </td><td>117</td><td>High school degree          </td><td>58.3</td><td>Luxury  </td><td>Female</td><td>No</td></tr>\n",
       "\t<tr><td>30</td><td>Unmarried</td><td> 23</td><td>Did not complete high school</td><td>11.8</td><td>Economy </td><td>Male  </td><td>No</td></tr>\n",
       "\t<tr><td>48</td><td>Unmarried</td><td> 21</td><td>Some college                </td><td> 9.5</td><td>Economy </td><td>Male  </td><td>No</td></tr>\n",
       "\t<tr><td>39</td><td>Married  </td><td> 17</td><td>College degree              </td><td> 8.5</td><td>Economy </td><td>Male  </td><td>No</td></tr>\n",
       "\t<tr><td>42</td><td>Married  </td><td> 34</td><td>High school degree          </td><td>16.6</td><td>Standard</td><td>Female</td><td>No</td></tr>\n",
       "\t<tr><td>45</td><td>Married  </td><td>115</td><td>Did not complete high school</td><td>57.4</td><td>Luxury  </td><td>Female</td><td>No</td></tr>\n",
       "\t<tr><td>51</td><td>Married  </td><td> 47</td><td>Did not complete high school</td><td>23.0</td><td>Standard</td><td>Male  </td><td>No</td></tr>\n",
       "\t<tr><td>39</td><td>Married  </td><td> 33</td><td>Some college                </td><td>16.3</td><td>Standard</td><td>Male  </td><td>No</td></tr>\n",
       "\t<tr><td>49</td><td>Unmarried</td><td>135</td><td>High school degree          </td><td>68.4</td><td>Luxury  </td><td>Female</td><td>No</td></tr>\n",
       "\t<tr><td>52</td><td>Unmarried</td><td>272</td><td>Did not complete high school</td><td>74.9</td><td>Luxury  </td><td>Male  </td><td>No</td></tr>\n",
       "\t<tr><td>53</td><td>Married  </td><td> 41</td><td>Did not complete high school</td><td>19.9</td><td>Standard</td><td>Male  </td><td>No</td></tr>\n",
       "\t<tr><td>⋮</td><td>⋮</td><td>⋮</td><td>⋮</td><td>⋮</td><td>⋮</td><td>⋮</td><td>⋮</td></tr>\n",
       "\t<tr><td>29</td><td>Unmarried</td><td> 30</td><td>Some college                </td><td>14.9</td><td>Economy </td><td>Male  </td><td>No </td></tr>\n",
       "\t<tr><td>60</td><td>Married  </td><td>114</td><td>College degree              </td><td>57.2</td><td>Luxury  </td><td>Male  </td><td>No </td></tr>\n",
       "\t<tr><td>49</td><td>Married  </td><td> 38</td><td>College degree              </td><td>18.7</td><td>Standard</td><td>Female</td><td>No </td></tr>\n",
       "\t<tr><td>21</td><td>Unmarried</td><td> 28</td><td>Some college                </td><td>13.6</td><td>Economy </td><td>Male  </td><td>No </td></tr>\n",
       "\t<tr><td>63</td><td>Unmarried</td><td> 11</td><td>High school degree          </td><td> 5.4</td><td>Economy </td><td>Female</td><td>Yes</td></tr>\n",
       "\t<tr><td>20</td><td>Unmarried</td><td> 18</td><td>Some college                </td><td> 9.1</td><td>Economy </td><td>Male  </td><td>No </td></tr>\n",
       "\t<tr><td>33</td><td>Unmarried</td><td> 36</td><td>Did not complete high school</td><td>17.3</td><td>Standard</td><td>Female</td><td>No </td></tr>\n",
       "\t<tr><td>61</td><td>Unmarried</td><td> 24</td><td>Did not complete high school</td><td>11.8</td><td>Economy </td><td>Male  </td><td>No </td></tr>\n",
       "\t<tr><td>53</td><td>Married  </td><td> 34</td><td>Some college                </td><td>16.5</td><td>Standard</td><td>Female</td><td>No </td></tr>\n",
       "\t<tr><td>35</td><td>Unmarried</td><td> 47</td><td>Some college                </td><td>23.9</td><td>Standard</td><td>Male  </td><td>No </td></tr>\n",
       "\t<tr><td>46</td><td>Unmarried</td><td> 49</td><td>Did not complete high school</td><td>23.9</td><td>Standard</td><td>Female</td><td>No </td></tr>\n",
       "\t<tr><td>23</td><td>Unmarried</td><td> 19</td><td>Did not complete high school</td><td> 9.3</td><td>Economy </td><td>Female</td><td>No </td></tr>\n",
       "\t<tr><td>47</td><td>Unmarried</td><td> 57</td><td>High school degree          </td><td>29.5</td><td>Standard</td><td>Female</td><td>No </td></tr>\n",
       "\t<tr><td>49</td><td>Married  </td><td> 86</td><td>High school degree          </td><td>43.3</td><td>Luxury  </td><td>Female</td><td>No </td></tr>\n",
       "\t<tr><td>43</td><td>Unmarried</td><td>101</td><td>College degree              </td><td>49.4</td><td>Luxury  </td><td>Female</td><td>No </td></tr>\n",
       "\t<tr><td>64</td><td>Unmarried</td><td> 11</td><td>College degree              </td><td> 5.6</td><td>Economy </td><td>Female</td><td>Yes</td></tr>\n",
       "\t<tr><td>53</td><td>Married  </td><td>227</td><td>High school degree          </td><td>76.3</td><td>Luxury  </td><td>Male  </td><td>No </td></tr>\n",
       "\t<tr><td>32</td><td>Married  </td><td> 18</td><td>High school degree          </td><td> 9.0</td><td>Economy </td><td>Female</td><td>No </td></tr>\n",
       "\t<tr><td>28</td><td>Married  </td><td> 43</td><td>College degree              </td><td>21.0</td><td>Standard</td><td>Female</td><td>No </td></tr>\n",
       "\t<tr><td>25</td><td>Married  </td><td> 26</td><td>College degree              </td><td>12.9</td><td>Economy </td><td>Female</td><td>No </td></tr>\n",
       "\t<tr><td>31</td><td>Married  </td><td> 25</td><td>Post-undergraduate degree   </td><td>12.4</td><td>Economy </td><td>Male  </td><td>No </td></tr>\n",
       "\t<tr><td>46</td><td>Unmarried</td><td> 77</td><td>Some college                </td><td>37.6</td><td>Luxury  </td><td>Female</td><td>No </td></tr>\n",
       "\t<tr><td>34</td><td>Married  </td><td> 31</td><td>Did not complete high school</td><td>15.8</td><td>Standard</td><td>Female</td><td>No </td></tr>\n",
       "\t<tr><td>26</td><td>Married  </td><td> 23</td><td>Did not complete high school</td><td>11.7</td><td>Economy </td><td>Female</td><td>No </td></tr>\n",
       "\t<tr><td>42</td><td>Married  </td><td> 41</td><td>Did not complete high school</td><td>21.2</td><td>Standard</td><td>Male  </td><td>No </td></tr>\n",
       "\t<tr><td>58</td><td>Married  </td><td>496</td><td>Some college                </td><td>78.6</td><td>Luxury  </td><td>Female</td><td>No </td></tr>\n",
       "\t<tr><td>55</td><td>Unmarried</td><td> 89</td><td>College degree              </td><td>43.8</td><td>Luxury  </td><td>Male  </td><td>No </td></tr>\n",
       "\t<tr><td>63</td><td>Married  </td><td> 91</td><td>High school degree          </td><td>45.0</td><td>Luxury  </td><td>Female</td><td>No </td></tr>\n",
       "\t<tr><td>59</td><td>Married  </td><td>141</td><td>Did not complete high school</td><td>70.0</td><td>Luxury  </td><td>Male  </td><td>No </td></tr>\n",
       "\t<tr><td>43</td><td>Married  </td><td> 54</td><td>High school degree          </td><td>27.0</td><td>Standard</td><td>Male  </td><td>No </td></tr>\n",
       "</tbody>\n",
       "</table>\n"
      ],
      "text/latex": [
       "A data.frame: 510 × 8\n",
       "\\begin{tabular}{llllllll}\n",
       " age & marital & income & educ & carpr & carcat & gender & retired\\\\\n",
       " <int> & <chr> & <int> & <chr> & <dbl> & <chr> & <chr> & <chr>\\\\\n",
       "\\hline\n",
       "\t 55 & Married   &  72 & Did not complete high school & 36.2 & Luxury   & Female & No\\\\\n",
       "\t 56 & Unmarried & 153 & Did not complete high school & 76.9 & Luxury   & Male   & No\\\\\n",
       "\t 28 & Married   &  28 & Some college                 & 13.7 & Economy  & Female & No\\\\\n",
       "\t 24 & Married   &  26 & College degree               & 12.5 & Economy  & Male   & No\\\\\n",
       "\t 25 & Unmarried &  23 & High school degree           & 11.3 & Economy  & Male   & No\\\\\n",
       "\t 45 & Married   &  76 & Some college                 & 37.2 & Luxury   & Male   & No\\\\\n",
       "\t 42 & Unmarried &  40 & Some college                 & 19.8 & Standard & Male   & No\\\\\n",
       "\t 35 & Unmarried &  57 & High school degree           & 28.2 & Standard & Female & No\\\\\n",
       "\t 46 & Unmarried &  24 & Did not complete high school & 12.2 & Economy  & Female & No\\\\\n",
       "\t 34 & Married   &  89 & Some college                 & 46.1 & Luxury   & Male   & No\\\\\n",
       "\t 55 & Married   &  72 & Some college                 & 35.5 & Luxury   & Female & No\\\\\n",
       "\t 28 & Unmarried &  24 & College degree               & 11.8 & Economy  & Male   & No\\\\\n",
       "\t 31 & Married   &  40 & College degree               & 21.3 & Standard & Female & No\\\\\n",
       "\t 42 & Unmarried & 137 & Some college                 & 68.9 & Luxury   & Female & No\\\\\n",
       "\t 35 & Unmarried &  70 & Some college                 & 34.1 & Luxury   & Male   & No\\\\\n",
       "\t 52 & Married   & 159 & College degree               & 78.9 & Luxury   & Male   & No\\\\\n",
       "\t 21 & Married   &  37 & Some college                 & 18.6 & Standard & Male   & No\\\\\n",
       "\t 32 & Unmarried &  28 & Did not complete high school & 13.7 & Economy  & Female & No\\\\\n",
       "\t 42 & Unmarried & 109 & Some college                 & 54.7 & Luxury   & Female & No\\\\\n",
       "\t 40 & Married   & 117 & High school degree           & 58.3 & Luxury   & Female & No\\\\\n",
       "\t 30 & Unmarried &  23 & Did not complete high school & 11.8 & Economy  & Male   & No\\\\\n",
       "\t 48 & Unmarried &  21 & Some college                 &  9.5 & Economy  & Male   & No\\\\\n",
       "\t 39 & Married   &  17 & College degree               &  8.5 & Economy  & Male   & No\\\\\n",
       "\t 42 & Married   &  34 & High school degree           & 16.6 & Standard & Female & No\\\\\n",
       "\t 45 & Married   & 115 & Did not complete high school & 57.4 & Luxury   & Female & No\\\\\n",
       "\t 51 & Married   &  47 & Did not complete high school & 23.0 & Standard & Male   & No\\\\\n",
       "\t 39 & Married   &  33 & Some college                 & 16.3 & Standard & Male   & No\\\\\n",
       "\t 49 & Unmarried & 135 & High school degree           & 68.4 & Luxury   & Female & No\\\\\n",
       "\t 52 & Unmarried & 272 & Did not complete high school & 74.9 & Luxury   & Male   & No\\\\\n",
       "\t 53 & Married   &  41 & Did not complete high school & 19.9 & Standard & Male   & No\\\\\n",
       "\t ⋮ & ⋮ & ⋮ & ⋮ & ⋮ & ⋮ & ⋮ & ⋮\\\\\n",
       "\t 29 & Unmarried &  30 & Some college                 & 14.9 & Economy  & Male   & No \\\\\n",
       "\t 60 & Married   & 114 & College degree               & 57.2 & Luxury   & Male   & No \\\\\n",
       "\t 49 & Married   &  38 & College degree               & 18.7 & Standard & Female & No \\\\\n",
       "\t 21 & Unmarried &  28 & Some college                 & 13.6 & Economy  & Male   & No \\\\\n",
       "\t 63 & Unmarried &  11 & High school degree           &  5.4 & Economy  & Female & Yes\\\\\n",
       "\t 20 & Unmarried &  18 & Some college                 &  9.1 & Economy  & Male   & No \\\\\n",
       "\t 33 & Unmarried &  36 & Did not complete high school & 17.3 & Standard & Female & No \\\\\n",
       "\t 61 & Unmarried &  24 & Did not complete high school & 11.8 & Economy  & Male   & No \\\\\n",
       "\t 53 & Married   &  34 & Some college                 & 16.5 & Standard & Female & No \\\\\n",
       "\t 35 & Unmarried &  47 & Some college                 & 23.9 & Standard & Male   & No \\\\\n",
       "\t 46 & Unmarried &  49 & Did not complete high school & 23.9 & Standard & Female & No \\\\\n",
       "\t 23 & Unmarried &  19 & Did not complete high school &  9.3 & Economy  & Female & No \\\\\n",
       "\t 47 & Unmarried &  57 & High school degree           & 29.5 & Standard & Female & No \\\\\n",
       "\t 49 & Married   &  86 & High school degree           & 43.3 & Luxury   & Female & No \\\\\n",
       "\t 43 & Unmarried & 101 & College degree               & 49.4 & Luxury   & Female & No \\\\\n",
       "\t 64 & Unmarried &  11 & College degree               &  5.6 & Economy  & Female & Yes\\\\\n",
       "\t 53 & Married   & 227 & High school degree           & 76.3 & Luxury   & Male   & No \\\\\n",
       "\t 32 & Married   &  18 & High school degree           &  9.0 & Economy  & Female & No \\\\\n",
       "\t 28 & Married   &  43 & College degree               & 21.0 & Standard & Female & No \\\\\n",
       "\t 25 & Married   &  26 & College degree               & 12.9 & Economy  & Female & No \\\\\n",
       "\t 31 & Married   &  25 & Post-undergraduate degree    & 12.4 & Economy  & Male   & No \\\\\n",
       "\t 46 & Unmarried &  77 & Some college                 & 37.6 & Luxury   & Female & No \\\\\n",
       "\t 34 & Married   &  31 & Did not complete high school & 15.8 & Standard & Female & No \\\\\n",
       "\t 26 & Married   &  23 & Did not complete high school & 11.7 & Economy  & Female & No \\\\\n",
       "\t 42 & Married   &  41 & Did not complete high school & 21.2 & Standard & Male   & No \\\\\n",
       "\t 58 & Married   & 496 & Some college                 & 78.6 & Luxury   & Female & No \\\\\n",
       "\t 55 & Unmarried &  89 & College degree               & 43.8 & Luxury   & Male   & No \\\\\n",
       "\t 63 & Married   &  91 & High school degree           & 45.0 & Luxury   & Female & No \\\\\n",
       "\t 59 & Married   & 141 & Did not complete high school & 70.0 & Luxury   & Male   & No \\\\\n",
       "\t 43 & Married   &  54 & High school degree           & 27.0 & Standard & Male   & No \\\\\n",
       "\\end{tabular}\n"
      ],
      "text/markdown": [
       "\n",
       "A data.frame: 510 × 8\n",
       "\n",
       "| age &lt;int&gt; | marital &lt;chr&gt; | income &lt;int&gt; | educ &lt;chr&gt; | carpr &lt;dbl&gt; | carcat &lt;chr&gt; | gender &lt;chr&gt; | retired &lt;chr&gt; |\n",
       "|---|---|---|---|---|---|---|---|\n",
       "| 55 | Married   |  72 | Did not complete high school | 36.2 | Luxury   | Female | No |\n",
       "| 56 | Unmarried | 153 | Did not complete high school | 76.9 | Luxury   | Male   | No |\n",
       "| 28 | Married   |  28 | Some college                 | 13.7 | Economy  | Female | No |\n",
       "| 24 | Married   |  26 | College degree               | 12.5 | Economy  | Male   | No |\n",
       "| 25 | Unmarried |  23 | High school degree           | 11.3 | Economy  | Male   | No |\n",
       "| 45 | Married   |  76 | Some college                 | 37.2 | Luxury   | Male   | No |\n",
       "| 42 | Unmarried |  40 | Some college                 | 19.8 | Standard | Male   | No |\n",
       "| 35 | Unmarried |  57 | High school degree           | 28.2 | Standard | Female | No |\n",
       "| 46 | Unmarried |  24 | Did not complete high school | 12.2 | Economy  | Female | No |\n",
       "| 34 | Married   |  89 | Some college                 | 46.1 | Luxury   | Male   | No |\n",
       "| 55 | Married   |  72 | Some college                 | 35.5 | Luxury   | Female | No |\n",
       "| 28 | Unmarried |  24 | College degree               | 11.8 | Economy  | Male   | No |\n",
       "| 31 | Married   |  40 | College degree               | 21.3 | Standard | Female | No |\n",
       "| 42 | Unmarried | 137 | Some college                 | 68.9 | Luxury   | Female | No |\n",
       "| 35 | Unmarried |  70 | Some college                 | 34.1 | Luxury   | Male   | No |\n",
       "| 52 | Married   | 159 | College degree               | 78.9 | Luxury   | Male   | No |\n",
       "| 21 | Married   |  37 | Some college                 | 18.6 | Standard | Male   | No |\n",
       "| 32 | Unmarried |  28 | Did not complete high school | 13.7 | Economy  | Female | No |\n",
       "| 42 | Unmarried | 109 | Some college                 | 54.7 | Luxury   | Female | No |\n",
       "| 40 | Married   | 117 | High school degree           | 58.3 | Luxury   | Female | No |\n",
       "| 30 | Unmarried |  23 | Did not complete high school | 11.8 | Economy  | Male   | No |\n",
       "| 48 | Unmarried |  21 | Some college                 |  9.5 | Economy  | Male   | No |\n",
       "| 39 | Married   |  17 | College degree               |  8.5 | Economy  | Male   | No |\n",
       "| 42 | Married   |  34 | High school degree           | 16.6 | Standard | Female | No |\n",
       "| 45 | Married   | 115 | Did not complete high school | 57.4 | Luxury   | Female | No |\n",
       "| 51 | Married   |  47 | Did not complete high school | 23.0 | Standard | Male   | No |\n",
       "| 39 | Married   |  33 | Some college                 | 16.3 | Standard | Male   | No |\n",
       "| 49 | Unmarried | 135 | High school degree           | 68.4 | Luxury   | Female | No |\n",
       "| 52 | Unmarried | 272 | Did not complete high school | 74.9 | Luxury   | Male   | No |\n",
       "| 53 | Married   |  41 | Did not complete high school | 19.9 | Standard | Male   | No |\n",
       "| ⋮ | ⋮ | ⋮ | ⋮ | ⋮ | ⋮ | ⋮ | ⋮ |\n",
       "| 29 | Unmarried |  30 | Some college                 | 14.9 | Economy  | Male   | No  |\n",
       "| 60 | Married   | 114 | College degree               | 57.2 | Luxury   | Male   | No  |\n",
       "| 49 | Married   |  38 | College degree               | 18.7 | Standard | Female | No  |\n",
       "| 21 | Unmarried |  28 | Some college                 | 13.6 | Economy  | Male   | No  |\n",
       "| 63 | Unmarried |  11 | High school degree           |  5.4 | Economy  | Female | Yes |\n",
       "| 20 | Unmarried |  18 | Some college                 |  9.1 | Economy  | Male   | No  |\n",
       "| 33 | Unmarried |  36 | Did not complete high school | 17.3 | Standard | Female | No  |\n",
       "| 61 | Unmarried |  24 | Did not complete high school | 11.8 | Economy  | Male   | No  |\n",
       "| 53 | Married   |  34 | Some college                 | 16.5 | Standard | Female | No  |\n",
       "| 35 | Unmarried |  47 | Some college                 | 23.9 | Standard | Male   | No  |\n",
       "| 46 | Unmarried |  49 | Did not complete high school | 23.9 | Standard | Female | No  |\n",
       "| 23 | Unmarried |  19 | Did not complete high school |  9.3 | Economy  | Female | No  |\n",
       "| 47 | Unmarried |  57 | High school degree           | 29.5 | Standard | Female | No  |\n",
       "| 49 | Married   |  86 | High school degree           | 43.3 | Luxury   | Female | No  |\n",
       "| 43 | Unmarried | 101 | College degree               | 49.4 | Luxury   | Female | No  |\n",
       "| 64 | Unmarried |  11 | College degree               |  5.6 | Economy  | Female | Yes |\n",
       "| 53 | Married   | 227 | High school degree           | 76.3 | Luxury   | Male   | No  |\n",
       "| 32 | Married   |  18 | High school degree           |  9.0 | Economy  | Female | No  |\n",
       "| 28 | Married   |  43 | College degree               | 21.0 | Standard | Female | No  |\n",
       "| 25 | Married   |  26 | College degree               | 12.9 | Economy  | Female | No  |\n",
       "| 31 | Married   |  25 | Post-undergraduate degree    | 12.4 | Economy  | Male   | No  |\n",
       "| 46 | Unmarried |  77 | Some college                 | 37.6 | Luxury   | Female | No  |\n",
       "| 34 | Married   |  31 | Did not complete high school | 15.8 | Standard | Female | No  |\n",
       "| 26 | Married   |  23 | Did not complete high school | 11.7 | Economy  | Female | No  |\n",
       "| 42 | Married   |  41 | Did not complete high school | 21.2 | Standard | Male   | No  |\n",
       "| 58 | Married   | 496 | Some college                 | 78.6 | Luxury   | Female | No  |\n",
       "| 55 | Unmarried |  89 | College degree               | 43.8 | Luxury   | Male   | No  |\n",
       "| 63 | Married   |  91 | High school degree           | 45.0 | Luxury   | Female | No  |\n",
       "| 59 | Married   | 141 | Did not complete high school | 70.0 | Luxury   | Male   | No  |\n",
       "| 43 | Married   |  54 | High school degree           | 27.0 | Standard | Male   | No  |\n",
       "\n"
      ],
      "text/plain": [
       "    age marital   income educ                         carpr carcat   gender\n",
       "1   55  Married    72    Did not complete high school 36.2  Luxury   Female\n",
       "2   56  Unmarried 153    Did not complete high school 76.9  Luxury   Male  \n",
       "3   28  Married    28    Some college                 13.7  Economy  Female\n",
       "4   24  Married    26    College degree               12.5  Economy  Male  \n",
       "5   25  Unmarried  23    High school degree           11.3  Economy  Male  \n",
       "6   45  Married    76    Some college                 37.2  Luxury   Male  \n",
       "7   42  Unmarried  40    Some college                 19.8  Standard Male  \n",
       "8   35  Unmarried  57    High school degree           28.2  Standard Female\n",
       "9   46  Unmarried  24    Did not complete high school 12.2  Economy  Female\n",
       "10  34  Married    89    Some college                 46.1  Luxury   Male  \n",
       "11  55  Married    72    Some college                 35.5  Luxury   Female\n",
       "12  28  Unmarried  24    College degree               11.8  Economy  Male  \n",
       "13  31  Married    40    College degree               21.3  Standard Female\n",
       "14  42  Unmarried 137    Some college                 68.9  Luxury   Female\n",
       "15  35  Unmarried  70    Some college                 34.1  Luxury   Male  \n",
       "16  52  Married   159    College degree               78.9  Luxury   Male  \n",
       "17  21  Married    37    Some college                 18.6  Standard Male  \n",
       "18  32  Unmarried  28    Did not complete high school 13.7  Economy  Female\n",
       "19  42  Unmarried 109    Some college                 54.7  Luxury   Female\n",
       "20  40  Married   117    High school degree           58.3  Luxury   Female\n",
       "21  30  Unmarried  23    Did not complete high school 11.8  Economy  Male  \n",
       "22  48  Unmarried  21    Some college                  9.5  Economy  Male  \n",
       "23  39  Married    17    College degree                8.5  Economy  Male  \n",
       "24  42  Married    34    High school degree           16.6  Standard Female\n",
       "25  45  Married   115    Did not complete high school 57.4  Luxury   Female\n",
       "26  51  Married    47    Did not complete high school 23.0  Standard Male  \n",
       "27  39  Married    33    Some college                 16.3  Standard Male  \n",
       "28  49  Unmarried 135    High school degree           68.4  Luxury   Female\n",
       "29  52  Unmarried 272    Did not complete high school 74.9  Luxury   Male  \n",
       "30  53  Married    41    Did not complete high school 19.9  Standard Male  \n",
       "⋮   ⋮   ⋮         ⋮      ⋮                            ⋮     ⋮        ⋮     \n",
       "481 29  Unmarried  30    Some college                 14.9  Economy  Male  \n",
       "482 60  Married   114    College degree               57.2  Luxury   Male  \n",
       "483 49  Married    38    College degree               18.7  Standard Female\n",
       "484 21  Unmarried  28    Some college                 13.6  Economy  Male  \n",
       "485 63  Unmarried  11    High school degree            5.4  Economy  Female\n",
       "486 20  Unmarried  18    Some college                  9.1  Economy  Male  \n",
       "487 33  Unmarried  36    Did not complete high school 17.3  Standard Female\n",
       "488 61  Unmarried  24    Did not complete high school 11.8  Economy  Male  \n",
       "489 53  Married    34    Some college                 16.5  Standard Female\n",
       "490 35  Unmarried  47    Some college                 23.9  Standard Male  \n",
       "491 46  Unmarried  49    Did not complete high school 23.9  Standard Female\n",
       "492 23  Unmarried  19    Did not complete high school  9.3  Economy  Female\n",
       "493 47  Unmarried  57    High school degree           29.5  Standard Female\n",
       "494 49  Married    86    High school degree           43.3  Luxury   Female\n",
       "495 43  Unmarried 101    College degree               49.4  Luxury   Female\n",
       "496 64  Unmarried  11    College degree                5.6  Economy  Female\n",
       "497 53  Married   227    High school degree           76.3  Luxury   Male  \n",
       "498 32  Married    18    High school degree            9.0  Economy  Female\n",
       "499 28  Married    43    College degree               21.0  Standard Female\n",
       "500 25  Married    26    College degree               12.9  Economy  Female\n",
       "501 31  Married    25    Post-undergraduate degree    12.4  Economy  Male  \n",
       "502 46  Unmarried  77    Some college                 37.6  Luxury   Female\n",
       "503 34  Married    31    Did not complete high school 15.8  Standard Female\n",
       "504 26  Married    23    Did not complete high school 11.7  Economy  Female\n",
       "505 42  Married    41    Did not complete high school 21.2  Standard Male  \n",
       "506 58  Married   496    Some college                 78.6  Luxury   Female\n",
       "507 55  Unmarried  89    College degree               43.8  Luxury   Male  \n",
       "508 63  Married    91    High school degree           45.0  Luxury   Female\n",
       "509 59  Married   141    Did not complete high school 70.0  Luxury   Male  \n",
       "510 43  Married    54    High school degree           27.0  Standard Male  \n",
       "    retired\n",
       "1   No     \n",
       "2   No     \n",
       "3   No     \n",
       "4   No     \n",
       "5   No     \n",
       "6   No     \n",
       "7   No     \n",
       "8   No     \n",
       "9   No     \n",
       "10  No     \n",
       "11  No     \n",
       "12  No     \n",
       "13  No     \n",
       "14  No     \n",
       "15  No     \n",
       "16  No     \n",
       "17  No     \n",
       "18  No     \n",
       "19  No     \n",
       "20  No     \n",
       "21  No     \n",
       "22  No     \n",
       "23  No     \n",
       "24  No     \n",
       "25  No     \n",
       "26  No     \n",
       "27  No     \n",
       "28  No     \n",
       "29  No     \n",
       "30  No     \n",
       "⋮   ⋮      \n",
       "481 No     \n",
       "482 No     \n",
       "483 No     \n",
       "484 No     \n",
       "485 Yes    \n",
       "486 No     \n",
       "487 No     \n",
       "488 No     \n",
       "489 No     \n",
       "490 No     \n",
       "491 No     \n",
       "492 No     \n",
       "493 No     \n",
       "494 No     \n",
       "495 No     \n",
       "496 Yes    \n",
       "497 No     \n",
       "498 No     \n",
       "499 No     \n",
       "500 No     \n",
       "501 No     \n",
       "502 No     \n",
       "503 No     \n",
       "504 No     \n",
       "505 No     \n",
       "506 No     \n",
       "507 No     \n",
       "508 No     \n",
       "509 No     \n",
       "510 No     "
      ]
     },
     "metadata": {},
     "output_type": "display_data"
    }
   ],
   "source": [
    "demodf"
   ]
  },
  {
   "cell_type": "code",
   "execution_count": 90,
   "id": "79455a03",
   "metadata": {
    "vscode": {
     "languageId": "r"
    }
   },
   "outputs": [
    {
     "data": {
      "text/html": [
       "<table class=\"dataframe\">\n",
       "<caption>A data.frame: 3 × 8</caption>\n",
       "<thead>\n",
       "\t<tr><th></th><th scope=col>age</th><th scope=col>marital</th><th scope=col>income</th><th scope=col>educ</th><th scope=col>carpr</th><th scope=col>carcat</th><th scope=col>gender</th><th scope=col>retired</th></tr>\n",
       "\t<tr><th></th><th scope=col>&lt;int&gt;</th><th scope=col>&lt;chr&gt;</th><th scope=col>&lt;int&gt;</th><th scope=col>&lt;chr&gt;</th><th scope=col>&lt;dbl&gt;</th><th scope=col>&lt;chr&gt;</th><th scope=col>&lt;chr&gt;</th><th scope=col>&lt;chr&gt;</th></tr>\n",
       "</thead>\n",
       "<tbody>\n",
       "\t<tr><th scope=row>1</th><td>55</td><td>Married  </td><td> 72</td><td>Did not complete high school</td><td>36.2</td><td>Luxury </td><td>Female</td><td>No</td></tr>\n",
       "\t<tr><th scope=row>2</th><td>56</td><td>Unmarried</td><td>153</td><td>Did not complete high school</td><td>76.9</td><td>Luxury </td><td>Male  </td><td>No</td></tr>\n",
       "\t<tr><th scope=row>3</th><td>28</td><td>Married  </td><td> 28</td><td>Some college                </td><td>13.7</td><td>Economy</td><td>Female</td><td>No</td></tr>\n",
       "</tbody>\n",
       "</table>\n"
      ],
      "text/latex": [
       "A data.frame: 3 × 8\n",
       "\\begin{tabular}{r|llllllll}\n",
       "  & age & marital & income & educ & carpr & carcat & gender & retired\\\\\n",
       "  & <int> & <chr> & <int> & <chr> & <dbl> & <chr> & <chr> & <chr>\\\\\n",
       "\\hline\n",
       "\t1 & 55 & Married   &  72 & Did not complete high school & 36.2 & Luxury  & Female & No\\\\\n",
       "\t2 & 56 & Unmarried & 153 & Did not complete high school & 76.9 & Luxury  & Male   & No\\\\\n",
       "\t3 & 28 & Married   &  28 & Some college                 & 13.7 & Economy & Female & No\\\\\n",
       "\\end{tabular}\n"
      ],
      "text/markdown": [
       "\n",
       "A data.frame: 3 × 8\n",
       "\n",
       "| <!--/--> | age &lt;int&gt; | marital &lt;chr&gt; | income &lt;int&gt; | educ &lt;chr&gt; | carpr &lt;dbl&gt; | carcat &lt;chr&gt; | gender &lt;chr&gt; | retired &lt;chr&gt; |\n",
       "|---|---|---|---|---|---|---|---|---|\n",
       "| 1 | 55 | Married   |  72 | Did not complete high school | 36.2 | Luxury  | Female | No |\n",
       "| 2 | 56 | Unmarried | 153 | Did not complete high school | 76.9 | Luxury  | Male   | No |\n",
       "| 3 | 28 | Married   |  28 | Some college                 | 13.7 | Economy | Female | No |\n",
       "\n"
      ],
      "text/plain": [
       "  age marital   income educ                         carpr carcat  gender\n",
       "1 55  Married    72    Did not complete high school 36.2  Luxury  Female\n",
       "2 56  Unmarried 153    Did not complete high school 76.9  Luxury  Male  \n",
       "3 28  Married    28    Some college                 13.7  Economy Female\n",
       "  retired\n",
       "1 No     \n",
       "2 No     \n",
       "3 No     "
      ]
     },
     "metadata": {},
     "output_type": "display_data"
    }
   ],
   "source": [
    "head(demodf,3)"
   ]
  },
  {
   "cell_type": "code",
   "execution_count": 91,
   "id": "b40b0ed6",
   "metadata": {
    "vscode": {
     "languageId": "r"
    }
   },
   "outputs": [
    {
     "data": {
      "text/html": [
       "<style>\n",
       ".list-inline {list-style: none; margin:0; padding: 0}\n",
       ".list-inline>li {display: inline-block}\n",
       ".list-inline>li:not(:last-child)::after {content: \"\\00b7\"; padding: 0 .5ex}\n",
       "</style>\n",
       "<ol class=list-inline><li>'age'</li><li>'marital'</li><li>'income'</li><li>'educ'</li><li>'carpr'</li><li>'carcat'</li><li>'gender'</li><li>'retired'</li></ol>\n"
      ],
      "text/latex": [
       "\\begin{enumerate*}\n",
       "\\item 'age'\n",
       "\\item 'marital'\n",
       "\\item 'income'\n",
       "\\item 'educ'\n",
       "\\item 'carpr'\n",
       "\\item 'carcat'\n",
       "\\item 'gender'\n",
       "\\item 'retired'\n",
       "\\end{enumerate*}\n"
      ],
      "text/markdown": [
       "1. 'age'\n",
       "2. 'marital'\n",
       "3. 'income'\n",
       "4. 'educ'\n",
       "5. 'carpr'\n",
       "6. 'carcat'\n",
       "7. 'gender'\n",
       "8. 'retired'\n",
       "\n",
       "\n"
      ],
      "text/plain": [
       "[1] \"age\"     \"marital\" \"income\"  \"educ\"    \"carpr\"   \"carcat\"  \"gender\" \n",
       "[8] \"retired\""
      ]
     },
     "metadata": {},
     "output_type": "display_data"
    }
   ],
   "source": [
    "colnames(demodf)"
   ]
  },
  {
   "cell_type": "code",
   "execution_count": 92,
   "id": "d242c17d",
   "metadata": {
    "vscode": {
     "languageId": "r"
    }
   },
   "outputs": [
    {
     "data": {
      "text/html": [
       "'data.frame'"
      ],
      "text/latex": [
       "'data.frame'"
      ],
      "text/markdown": [
       "'data.frame'"
      ],
      "text/plain": [
       "[1] \"data.frame\""
      ]
     },
     "metadata": {},
     "output_type": "display_data"
    }
   ],
   "source": [
    "class(demodf)"
   ]
  },
  {
   "cell_type": "markdown",
   "id": "228d612e",
   "metadata": {},
   "source": [
    "## Get all males have colege degree"
   ]
  },
  {
   "cell_type": "code",
   "execution_count": 96,
   "id": "3bf1a872",
   "metadata": {
    "vscode": {
     "languageId": "r"
    }
   },
   "outputs": [
    {
     "data": {
      "text/html": [
       "<table class=\"dataframe\">\n",
       "<caption>A data.frame: 5 × 2</caption>\n",
       "<thead>\n",
       "\t<tr><th scope=col>educ</th><th scope=col>n</th></tr>\n",
       "\t<tr><th scope=col>&lt;chr&gt;</th><th scope=col>&lt;int&gt;</th></tr>\n",
       "</thead>\n",
       "<tbody>\n",
       "\t<tr><td>College degree              </td><td>113</td></tr>\n",
       "\t<tr><td>Did not complete high school</td><td>125</td></tr>\n",
       "\t<tr><td>High school degree          </td><td>132</td></tr>\n",
       "\t<tr><td>Post-undergraduate degree   </td><td> 27</td></tr>\n",
       "\t<tr><td>Some college                </td><td>113</td></tr>\n",
       "</tbody>\n",
       "</table>\n"
      ],
      "text/latex": [
       "A data.frame: 5 × 2\n",
       "\\begin{tabular}{ll}\n",
       " educ & n\\\\\n",
       " <chr> & <int>\\\\\n",
       "\\hline\n",
       "\t College degree               & 113\\\\\n",
       "\t Did not complete high school & 125\\\\\n",
       "\t High school degree           & 132\\\\\n",
       "\t Post-undergraduate degree    &  27\\\\\n",
       "\t Some college                 & 113\\\\\n",
       "\\end{tabular}\n"
      ],
      "text/markdown": [
       "\n",
       "A data.frame: 5 × 2\n",
       "\n",
       "| educ &lt;chr&gt; | n &lt;int&gt; |\n",
       "|---|---|\n",
       "| College degree               | 113 |\n",
       "| Did not complete high school | 125 |\n",
       "| High school degree           | 132 |\n",
       "| Post-undergraduate degree    |  27 |\n",
       "| Some college                 | 113 |\n",
       "\n"
      ],
      "text/plain": [
       "  educ                         n  \n",
       "1 College degree               113\n",
       "2 Did not complete high school 125\n",
       "3 High school degree           132\n",
       "4 Post-undergraduate degree     27\n",
       "5 Some college                 113"
      ]
     },
     "metadata": {},
     "output_type": "display_data"
    }
   ],
   "source": [
    "# educ values and count\n",
    "demodf %>% count(educ)"
   ]
  },
  {
   "cell_type": "code",
   "execution_count": 97,
   "id": "f7f6b9bf",
   "metadata": {
    "vscode": {
     "languageId": "r"
    }
   },
   "outputs": [
    {
     "data": {
      "text/html": [
       "<table class=\"dataframe\">\n",
       "<caption>A data.frame: 2 × 2</caption>\n",
       "<thead>\n",
       "\t<tr><th scope=col>gender</th><th scope=col>n</th></tr>\n",
       "\t<tr><th scope=col>&lt;chr&gt;</th><th scope=col>&lt;int&gt;</th></tr>\n",
       "</thead>\n",
       "<tbody>\n",
       "\t<tr><td>Female</td><td>250</td></tr>\n",
       "\t<tr><td>Male  </td><td>260</td></tr>\n",
       "</tbody>\n",
       "</table>\n"
      ],
      "text/latex": [
       "A data.frame: 2 × 2\n",
       "\\begin{tabular}{ll}\n",
       " gender & n\\\\\n",
       " <chr> & <int>\\\\\n",
       "\\hline\n",
       "\t Female & 250\\\\\n",
       "\t Male   & 260\\\\\n",
       "\\end{tabular}\n"
      ],
      "text/markdown": [
       "\n",
       "A data.frame: 2 × 2\n",
       "\n",
       "| gender &lt;chr&gt; | n &lt;int&gt; |\n",
       "|---|---|\n",
       "| Female | 250 |\n",
       "| Male   | 260 |\n",
       "\n"
      ],
      "text/plain": [
       "  gender n  \n",
       "1 Female 250\n",
       "2 Male   260"
      ]
     },
     "metadata": {},
     "output_type": "display_data"
    }
   ],
   "source": [
    "# Genger count and value\n",
    "demodf %>% count(gender)"
   ]
  },
  {
   "cell_type": "code",
   "execution_count": 99,
   "id": "dd2d5e66",
   "metadata": {
    "vscode": {
     "languageId": "r"
    }
   },
   "outputs": [
    {
     "data": {
      "text/html": [
       "<table class=\"dataframe\">\n",
       "<caption>A data.frame: 128 × 8</caption>\n",
       "<thead>\n",
       "\t<tr><th></th><th scope=col>age</th><th scope=col>marital</th><th scope=col>income</th><th scope=col>educ</th><th scope=col>carpr</th><th scope=col>carcat</th><th scope=col>gender</th><th scope=col>retired</th></tr>\n",
       "\t<tr><th></th><th scope=col>&lt;int&gt;</th><th scope=col>&lt;chr&gt;</th><th scope=col>&lt;int&gt;</th><th scope=col>&lt;chr&gt;</th><th scope=col>&lt;dbl&gt;</th><th scope=col>&lt;chr&gt;</th><th scope=col>&lt;chr&gt;</th><th scope=col>&lt;chr&gt;</th></tr>\n",
       "</thead>\n",
       "<tbody>\n",
       "\t<tr><th scope=row>4</th><td>24</td><td>Married  </td><td>  26</td><td>College degree           </td><td>12.5</td><td>Economy </td><td>Male</td><td>No</td></tr>\n",
       "\t<tr><th scope=row>6</th><td>45</td><td>Married  </td><td>  76</td><td>Some college             </td><td>37.2</td><td>Luxury  </td><td>Male</td><td>No</td></tr>\n",
       "\t<tr><th scope=row>7</th><td>42</td><td>Unmarried</td><td>  40</td><td>Some college             </td><td>19.8</td><td>Standard</td><td>Male</td><td>No</td></tr>\n",
       "\t<tr><th scope=row>10</th><td>34</td><td>Married  </td><td>  89</td><td>Some college             </td><td>46.1</td><td>Luxury  </td><td>Male</td><td>No</td></tr>\n",
       "\t<tr><th scope=row>12</th><td>28</td><td>Unmarried</td><td>  24</td><td>College degree           </td><td>11.8</td><td>Economy </td><td>Male</td><td>No</td></tr>\n",
       "\t<tr><th scope=row>15</th><td>35</td><td>Unmarried</td><td>  70</td><td>Some college             </td><td>34.1</td><td>Luxury  </td><td>Male</td><td>No</td></tr>\n",
       "\t<tr><th scope=row>16</th><td>52</td><td>Married  </td><td> 159</td><td>College degree           </td><td>78.9</td><td>Luxury  </td><td>Male</td><td>No</td></tr>\n",
       "\t<tr><th scope=row>17</th><td>21</td><td>Married  </td><td>  37</td><td>Some college             </td><td>18.6</td><td>Standard</td><td>Male</td><td>No</td></tr>\n",
       "\t<tr><th scope=row>22</th><td>48</td><td>Unmarried</td><td>  21</td><td>Some college             </td><td> 9.5</td><td>Economy </td><td>Male</td><td>No</td></tr>\n",
       "\t<tr><th scope=row>23</th><td>39</td><td>Married  </td><td>  17</td><td>College degree           </td><td> 8.5</td><td>Economy </td><td>Male</td><td>No</td></tr>\n",
       "\t<tr><th scope=row>27</th><td>39</td><td>Married  </td><td>  33</td><td>Some college             </td><td>16.3</td><td>Standard</td><td>Male</td><td>No</td></tr>\n",
       "\t<tr><th scope=row>32</th><td>47</td><td>Married  </td><td>  22</td><td>Some college             </td><td>11.4</td><td>Economy </td><td>Male</td><td>No</td></tr>\n",
       "\t<tr><th scope=row>33</th><td>58</td><td>Unmarried</td><td>  60</td><td>College degree           </td><td>29.7</td><td>Standard</td><td>Male</td><td>No</td></tr>\n",
       "\t<tr><th scope=row>36</th><td>30</td><td>Married  </td><td>  21</td><td>College degree           </td><td>10.5</td><td>Economy </td><td>Male</td><td>No</td></tr>\n",
       "\t<tr><th scope=row>41</th><td>41</td><td>Unmarried</td><td>  59</td><td>Some college             </td><td>28.6</td><td>Standard</td><td>Male</td><td>No</td></tr>\n",
       "\t<tr><th scope=row>44</th><td>24</td><td>Unmarried</td><td>  35</td><td>College degree           </td><td>17.4</td><td>Standard</td><td>Male</td><td>No</td></tr>\n",
       "\t<tr><th scope=row>58</th><td>28</td><td>Married  </td><td>  31</td><td>Some college             </td><td>15.6</td><td>Standard</td><td>Male</td><td>No</td></tr>\n",
       "\t<tr><th scope=row>61</th><td>46</td><td>Married  </td><td> 133</td><td>Post-undergraduate degree</td><td>66.6</td><td>Luxury  </td><td>Male</td><td>No</td></tr>\n",
       "\t<tr><th scope=row>63</th><td>28</td><td>Unmarried</td><td>  24</td><td>Some college             </td><td>12.5</td><td>Economy </td><td>Male</td><td>No</td></tr>\n",
       "\t<tr><th scope=row>65</th><td>37</td><td>Unmarried</td><td>  24</td><td>Some college             </td><td>11.3</td><td>Economy </td><td>Male</td><td>No</td></tr>\n",
       "\t<tr><th scope=row>68</th><td>51</td><td>Married  </td><td>  70</td><td>Some college             </td><td>35.6</td><td>Luxury  </td><td>Male</td><td>No</td></tr>\n",
       "\t<tr><th scope=row>69</th><td>48</td><td>Married  </td><td> 321</td><td>Post-undergraduate degree</td><td>65.9</td><td>Luxury  </td><td>Male</td><td>No</td></tr>\n",
       "\t<tr><th scope=row>70</th><td>40</td><td>Unmarried</td><td>  71</td><td>Some college             </td><td>35.1</td><td>Luxury  </td><td>Male</td><td>No</td></tr>\n",
       "\t<tr><th scope=row>77</th><td>48</td><td>Married  </td><td>1116</td><td>College degree           </td><td>74.1</td><td>Luxury  </td><td>Male</td><td>No</td></tr>\n",
       "\t<tr><th scope=row>83</th><td>37</td><td>Unmarried</td><td>  29</td><td>Post-undergraduate degree</td><td>14.5</td><td>Economy </td><td>Male</td><td>No</td></tr>\n",
       "\t<tr><th scope=row>86</th><td>48</td><td>Unmarried</td><td> 129</td><td>Some college             </td><td>65.5</td><td>Luxury  </td><td>Male</td><td>No</td></tr>\n",
       "\t<tr><th scope=row>88</th><td>40</td><td>Married  </td><td>  57</td><td>College degree           </td><td>29.5</td><td>Standard</td><td>Male</td><td>No</td></tr>\n",
       "\t<tr><th scope=row>92</th><td>32</td><td>Married  </td><td>  26</td><td>Some college             </td><td>12.2</td><td>Economy </td><td>Male</td><td>No</td></tr>\n",
       "\t<tr><th scope=row>94</th><td>47</td><td>Unmarried</td><td>  28</td><td>Some college             </td><td>13.7</td><td>Economy </td><td>Male</td><td>No</td></tr>\n",
       "\t<tr><th scope=row>98</th><td>41</td><td>Unmarried</td><td>  49</td><td>College degree           </td><td>23.9</td><td>Standard</td><td>Male</td><td>No</td></tr>\n",
       "\t<tr><th scope=row>⋮</th><td>⋮</td><td>⋮</td><td>⋮</td><td>⋮</td><td>⋮</td><td>⋮</td><td>⋮</td><td>⋮</td></tr>\n",
       "\t<tr><th scope=row>374</th><td>38</td><td>Married  </td><td> 78</td><td>Some college             </td><td>39.0</td><td>Luxury  </td><td>Male</td><td>No </td></tr>\n",
       "\t<tr><th scope=row>375</th><td>31</td><td>Unmarried</td><td> 28</td><td>Some college             </td><td>13.9</td><td>Economy </td><td>Male</td><td>No </td></tr>\n",
       "\t<tr><th scope=row>377</th><td>58</td><td>Unmarried</td><td> 17</td><td>Post-undergraduate degree</td><td> 8.4</td><td>Economy </td><td>Male</td><td>Yes</td></tr>\n",
       "\t<tr><th scope=row>383</th><td>30</td><td>Unmarried</td><td> 25</td><td>College degree           </td><td>12.6</td><td>Economy </td><td>Male</td><td>No </td></tr>\n",
       "\t<tr><th scope=row>386</th><td>71</td><td>Unmarried</td><td>147</td><td>College degree           </td><td>74.2</td><td>Luxury  </td><td>Male</td><td>Yes</td></tr>\n",
       "\t<tr><th scope=row>389</th><td>46</td><td>Unmarried</td><td>114</td><td>College degree           </td><td>57.1</td><td>Luxury  </td><td>Male</td><td>No </td></tr>\n",
       "\t<tr><th scope=row>396</th><td>50</td><td>Married  </td><td> 86</td><td>Some college             </td><td>42.1</td><td>Luxury  </td><td>Male</td><td>No </td></tr>\n",
       "\t<tr><th scope=row>404</th><td>51</td><td>Unmarried</td><td> 51</td><td>Some college             </td><td>26.1</td><td>Standard</td><td>Male</td><td>No </td></tr>\n",
       "\t<tr><th scope=row>408</th><td>40</td><td>Married  </td><td> 29</td><td>Some college             </td><td>14.2</td><td>Economy </td><td>Male</td><td>No </td></tr>\n",
       "\t<tr><th scope=row>414</th><td>27</td><td>Unmarried</td><td>102</td><td>College degree           </td><td>49.2</td><td>Luxury  </td><td>Male</td><td>No </td></tr>\n",
       "\t<tr><th scope=row>423</th><td>36</td><td>Unmarried</td><td> 87</td><td>College degree           </td><td>43.8</td><td>Luxury  </td><td>Male</td><td>No </td></tr>\n",
       "\t<tr><th scope=row>429</th><td>31</td><td>Married  </td><td> 45</td><td>Some college             </td><td>22.1</td><td>Standard</td><td>Male</td><td>No </td></tr>\n",
       "\t<tr><th scope=row>431</th><td>54</td><td>Unmarried</td><td>151</td><td>College degree           </td><td>77.5</td><td>Luxury  </td><td>Male</td><td>No </td></tr>\n",
       "\t<tr><th scope=row>435</th><td>53</td><td>Married  </td><td>111</td><td>College degree           </td><td>54.6</td><td>Luxury  </td><td>Male</td><td>No </td></tr>\n",
       "\t<tr><th scope=row>436</th><td>60</td><td>Married  </td><td>  9</td><td>Some college             </td><td> 4.4</td><td>Economy </td><td>Male</td><td>Yes</td></tr>\n",
       "\t<tr><th scope=row>444</th><td>40</td><td>Unmarried</td><td> 86</td><td>College degree           </td><td>42.2</td><td>Luxury  </td><td>Male</td><td>No </td></tr>\n",
       "\t<tr><th scope=row>453</th><td>35</td><td>Unmarried</td><td>152</td><td>College degree           </td><td>75.2</td><td>Luxury  </td><td>Male</td><td>No </td></tr>\n",
       "\t<tr><th scope=row>455</th><td>42</td><td>Married  </td><td> 61</td><td>Post-undergraduate degree</td><td>30.3</td><td>Luxury  </td><td>Male</td><td>No </td></tr>\n",
       "\t<tr><th scope=row>461</th><td>41</td><td>Unmarried</td><td>198</td><td>College degree           </td><td>98.6</td><td>Luxury  </td><td>Male</td><td>No </td></tr>\n",
       "\t<tr><th scope=row>462</th><td>62</td><td>Married  </td><td> 63</td><td>College degree           </td><td>31.6</td><td>Luxury  </td><td>Male</td><td>No </td></tr>\n",
       "\t<tr><th scope=row>470</th><td>44</td><td>Married  </td><td> 48</td><td>Some college             </td><td>23.2</td><td>Standard</td><td>Male</td><td>No </td></tr>\n",
       "\t<tr><th scope=row>476</th><td>29</td><td>Married  </td><td> 29</td><td>Some college             </td><td>14.3</td><td>Economy </td><td>Male</td><td>No </td></tr>\n",
       "\t<tr><th scope=row>479</th><td>44</td><td>Married  </td><td>139</td><td>College degree           </td><td>70.3</td><td>Luxury  </td><td>Male</td><td>No </td></tr>\n",
       "\t<tr><th scope=row>481</th><td>29</td><td>Unmarried</td><td> 30</td><td>Some college             </td><td>14.9</td><td>Economy </td><td>Male</td><td>No </td></tr>\n",
       "\t<tr><th scope=row>482</th><td>60</td><td>Married  </td><td>114</td><td>College degree           </td><td>57.2</td><td>Luxury  </td><td>Male</td><td>No </td></tr>\n",
       "\t<tr><th scope=row>484</th><td>21</td><td>Unmarried</td><td> 28</td><td>Some college             </td><td>13.6</td><td>Economy </td><td>Male</td><td>No </td></tr>\n",
       "\t<tr><th scope=row>486</th><td>20</td><td>Unmarried</td><td> 18</td><td>Some college             </td><td> 9.1</td><td>Economy </td><td>Male</td><td>No </td></tr>\n",
       "\t<tr><th scope=row>490</th><td>35</td><td>Unmarried</td><td> 47</td><td>Some college             </td><td>23.9</td><td>Standard</td><td>Male</td><td>No </td></tr>\n",
       "\t<tr><th scope=row>501</th><td>31</td><td>Married  </td><td> 25</td><td>Post-undergraduate degree</td><td>12.4</td><td>Economy </td><td>Male</td><td>No </td></tr>\n",
       "\t<tr><th scope=row>507</th><td>55</td><td>Unmarried</td><td> 89</td><td>College degree           </td><td>43.8</td><td>Luxury  </td><td>Male</td><td>No </td></tr>\n",
       "</tbody>\n",
       "</table>\n"
      ],
      "text/latex": [
       "A data.frame: 128 × 8\n",
       "\\begin{tabular}{r|llllllll}\n",
       "  & age & marital & income & educ & carpr & carcat & gender & retired\\\\\n",
       "  & <int> & <chr> & <int> & <chr> & <dbl> & <chr> & <chr> & <chr>\\\\\n",
       "\\hline\n",
       "\t4 & 24 & Married   &   26 & College degree            & 12.5 & Economy  & Male & No\\\\\n",
       "\t6 & 45 & Married   &   76 & Some college              & 37.2 & Luxury   & Male & No\\\\\n",
       "\t7 & 42 & Unmarried &   40 & Some college              & 19.8 & Standard & Male & No\\\\\n",
       "\t10 & 34 & Married   &   89 & Some college              & 46.1 & Luxury   & Male & No\\\\\n",
       "\t12 & 28 & Unmarried &   24 & College degree            & 11.8 & Economy  & Male & No\\\\\n",
       "\t15 & 35 & Unmarried &   70 & Some college              & 34.1 & Luxury   & Male & No\\\\\n",
       "\t16 & 52 & Married   &  159 & College degree            & 78.9 & Luxury   & Male & No\\\\\n",
       "\t17 & 21 & Married   &   37 & Some college              & 18.6 & Standard & Male & No\\\\\n",
       "\t22 & 48 & Unmarried &   21 & Some college              &  9.5 & Economy  & Male & No\\\\\n",
       "\t23 & 39 & Married   &   17 & College degree            &  8.5 & Economy  & Male & No\\\\\n",
       "\t27 & 39 & Married   &   33 & Some college              & 16.3 & Standard & Male & No\\\\\n",
       "\t32 & 47 & Married   &   22 & Some college              & 11.4 & Economy  & Male & No\\\\\n",
       "\t33 & 58 & Unmarried &   60 & College degree            & 29.7 & Standard & Male & No\\\\\n",
       "\t36 & 30 & Married   &   21 & College degree            & 10.5 & Economy  & Male & No\\\\\n",
       "\t41 & 41 & Unmarried &   59 & Some college              & 28.6 & Standard & Male & No\\\\\n",
       "\t44 & 24 & Unmarried &   35 & College degree            & 17.4 & Standard & Male & No\\\\\n",
       "\t58 & 28 & Married   &   31 & Some college              & 15.6 & Standard & Male & No\\\\\n",
       "\t61 & 46 & Married   &  133 & Post-undergraduate degree & 66.6 & Luxury   & Male & No\\\\\n",
       "\t63 & 28 & Unmarried &   24 & Some college              & 12.5 & Economy  & Male & No\\\\\n",
       "\t65 & 37 & Unmarried &   24 & Some college              & 11.3 & Economy  & Male & No\\\\\n",
       "\t68 & 51 & Married   &   70 & Some college              & 35.6 & Luxury   & Male & No\\\\\n",
       "\t69 & 48 & Married   &  321 & Post-undergraduate degree & 65.9 & Luxury   & Male & No\\\\\n",
       "\t70 & 40 & Unmarried &   71 & Some college              & 35.1 & Luxury   & Male & No\\\\\n",
       "\t77 & 48 & Married   & 1116 & College degree            & 74.1 & Luxury   & Male & No\\\\\n",
       "\t83 & 37 & Unmarried &   29 & Post-undergraduate degree & 14.5 & Economy  & Male & No\\\\\n",
       "\t86 & 48 & Unmarried &  129 & Some college              & 65.5 & Luxury   & Male & No\\\\\n",
       "\t88 & 40 & Married   &   57 & College degree            & 29.5 & Standard & Male & No\\\\\n",
       "\t92 & 32 & Married   &   26 & Some college              & 12.2 & Economy  & Male & No\\\\\n",
       "\t94 & 47 & Unmarried &   28 & Some college              & 13.7 & Economy  & Male & No\\\\\n",
       "\t98 & 41 & Unmarried &   49 & College degree            & 23.9 & Standard & Male & No\\\\\n",
       "\t⋮ & ⋮ & ⋮ & ⋮ & ⋮ & ⋮ & ⋮ & ⋮ & ⋮\\\\\n",
       "\t374 & 38 & Married   &  78 & Some college              & 39.0 & Luxury   & Male & No \\\\\n",
       "\t375 & 31 & Unmarried &  28 & Some college              & 13.9 & Economy  & Male & No \\\\\n",
       "\t377 & 58 & Unmarried &  17 & Post-undergraduate degree &  8.4 & Economy  & Male & Yes\\\\\n",
       "\t383 & 30 & Unmarried &  25 & College degree            & 12.6 & Economy  & Male & No \\\\\n",
       "\t386 & 71 & Unmarried & 147 & College degree            & 74.2 & Luxury   & Male & Yes\\\\\n",
       "\t389 & 46 & Unmarried & 114 & College degree            & 57.1 & Luxury   & Male & No \\\\\n",
       "\t396 & 50 & Married   &  86 & Some college              & 42.1 & Luxury   & Male & No \\\\\n",
       "\t404 & 51 & Unmarried &  51 & Some college              & 26.1 & Standard & Male & No \\\\\n",
       "\t408 & 40 & Married   &  29 & Some college              & 14.2 & Economy  & Male & No \\\\\n",
       "\t414 & 27 & Unmarried & 102 & College degree            & 49.2 & Luxury   & Male & No \\\\\n",
       "\t423 & 36 & Unmarried &  87 & College degree            & 43.8 & Luxury   & Male & No \\\\\n",
       "\t429 & 31 & Married   &  45 & Some college              & 22.1 & Standard & Male & No \\\\\n",
       "\t431 & 54 & Unmarried & 151 & College degree            & 77.5 & Luxury   & Male & No \\\\\n",
       "\t435 & 53 & Married   & 111 & College degree            & 54.6 & Luxury   & Male & No \\\\\n",
       "\t436 & 60 & Married   &   9 & Some college              &  4.4 & Economy  & Male & Yes\\\\\n",
       "\t444 & 40 & Unmarried &  86 & College degree            & 42.2 & Luxury   & Male & No \\\\\n",
       "\t453 & 35 & Unmarried & 152 & College degree            & 75.2 & Luxury   & Male & No \\\\\n",
       "\t455 & 42 & Married   &  61 & Post-undergraduate degree & 30.3 & Luxury   & Male & No \\\\\n",
       "\t461 & 41 & Unmarried & 198 & College degree            & 98.6 & Luxury   & Male & No \\\\\n",
       "\t462 & 62 & Married   &  63 & College degree            & 31.6 & Luxury   & Male & No \\\\\n",
       "\t470 & 44 & Married   &  48 & Some college              & 23.2 & Standard & Male & No \\\\\n",
       "\t476 & 29 & Married   &  29 & Some college              & 14.3 & Economy  & Male & No \\\\\n",
       "\t479 & 44 & Married   & 139 & College degree            & 70.3 & Luxury   & Male & No \\\\\n",
       "\t481 & 29 & Unmarried &  30 & Some college              & 14.9 & Economy  & Male & No \\\\\n",
       "\t482 & 60 & Married   & 114 & College degree            & 57.2 & Luxury   & Male & No \\\\\n",
       "\t484 & 21 & Unmarried &  28 & Some college              & 13.6 & Economy  & Male & No \\\\\n",
       "\t486 & 20 & Unmarried &  18 & Some college              &  9.1 & Economy  & Male & No \\\\\n",
       "\t490 & 35 & Unmarried &  47 & Some college              & 23.9 & Standard & Male & No \\\\\n",
       "\t501 & 31 & Married   &  25 & Post-undergraduate degree & 12.4 & Economy  & Male & No \\\\\n",
       "\t507 & 55 & Unmarried &  89 & College degree            & 43.8 & Luxury   & Male & No \\\\\n",
       "\\end{tabular}\n"
      ],
      "text/markdown": [
       "\n",
       "A data.frame: 128 × 8\n",
       "\n",
       "| <!--/--> | age &lt;int&gt; | marital &lt;chr&gt; | income &lt;int&gt; | educ &lt;chr&gt; | carpr &lt;dbl&gt; | carcat &lt;chr&gt; | gender &lt;chr&gt; | retired &lt;chr&gt; |\n",
       "|---|---|---|---|---|---|---|---|---|\n",
       "| 4 | 24 | Married   |   26 | College degree            | 12.5 | Economy  | Male | No |\n",
       "| 6 | 45 | Married   |   76 | Some college              | 37.2 | Luxury   | Male | No |\n",
       "| 7 | 42 | Unmarried |   40 | Some college              | 19.8 | Standard | Male | No |\n",
       "| 10 | 34 | Married   |   89 | Some college              | 46.1 | Luxury   | Male | No |\n",
       "| 12 | 28 | Unmarried |   24 | College degree            | 11.8 | Economy  | Male | No |\n",
       "| 15 | 35 | Unmarried |   70 | Some college              | 34.1 | Luxury   | Male | No |\n",
       "| 16 | 52 | Married   |  159 | College degree            | 78.9 | Luxury   | Male | No |\n",
       "| 17 | 21 | Married   |   37 | Some college              | 18.6 | Standard | Male | No |\n",
       "| 22 | 48 | Unmarried |   21 | Some college              |  9.5 | Economy  | Male | No |\n",
       "| 23 | 39 | Married   |   17 | College degree            |  8.5 | Economy  | Male | No |\n",
       "| 27 | 39 | Married   |   33 | Some college              | 16.3 | Standard | Male | No |\n",
       "| 32 | 47 | Married   |   22 | Some college              | 11.4 | Economy  | Male | No |\n",
       "| 33 | 58 | Unmarried |   60 | College degree            | 29.7 | Standard | Male | No |\n",
       "| 36 | 30 | Married   |   21 | College degree            | 10.5 | Economy  | Male | No |\n",
       "| 41 | 41 | Unmarried |   59 | Some college              | 28.6 | Standard | Male | No |\n",
       "| 44 | 24 | Unmarried |   35 | College degree            | 17.4 | Standard | Male | No |\n",
       "| 58 | 28 | Married   |   31 | Some college              | 15.6 | Standard | Male | No |\n",
       "| 61 | 46 | Married   |  133 | Post-undergraduate degree | 66.6 | Luxury   | Male | No |\n",
       "| 63 | 28 | Unmarried |   24 | Some college              | 12.5 | Economy  | Male | No |\n",
       "| 65 | 37 | Unmarried |   24 | Some college              | 11.3 | Economy  | Male | No |\n",
       "| 68 | 51 | Married   |   70 | Some college              | 35.6 | Luxury   | Male | No |\n",
       "| 69 | 48 | Married   |  321 | Post-undergraduate degree | 65.9 | Luxury   | Male | No |\n",
       "| 70 | 40 | Unmarried |   71 | Some college              | 35.1 | Luxury   | Male | No |\n",
       "| 77 | 48 | Married   | 1116 | College degree            | 74.1 | Luxury   | Male | No |\n",
       "| 83 | 37 | Unmarried |   29 | Post-undergraduate degree | 14.5 | Economy  | Male | No |\n",
       "| 86 | 48 | Unmarried |  129 | Some college              | 65.5 | Luxury   | Male | No |\n",
       "| 88 | 40 | Married   |   57 | College degree            | 29.5 | Standard | Male | No |\n",
       "| 92 | 32 | Married   |   26 | Some college              | 12.2 | Economy  | Male | No |\n",
       "| 94 | 47 | Unmarried |   28 | Some college              | 13.7 | Economy  | Male | No |\n",
       "| 98 | 41 | Unmarried |   49 | College degree            | 23.9 | Standard | Male | No |\n",
       "| ⋮ | ⋮ | ⋮ | ⋮ | ⋮ | ⋮ | ⋮ | ⋮ | ⋮ |\n",
       "| 374 | 38 | Married   |  78 | Some college              | 39.0 | Luxury   | Male | No  |\n",
       "| 375 | 31 | Unmarried |  28 | Some college              | 13.9 | Economy  | Male | No  |\n",
       "| 377 | 58 | Unmarried |  17 | Post-undergraduate degree |  8.4 | Economy  | Male | Yes |\n",
       "| 383 | 30 | Unmarried |  25 | College degree            | 12.6 | Economy  | Male | No  |\n",
       "| 386 | 71 | Unmarried | 147 | College degree            | 74.2 | Luxury   | Male | Yes |\n",
       "| 389 | 46 | Unmarried | 114 | College degree            | 57.1 | Luxury   | Male | No  |\n",
       "| 396 | 50 | Married   |  86 | Some college              | 42.1 | Luxury   | Male | No  |\n",
       "| 404 | 51 | Unmarried |  51 | Some college              | 26.1 | Standard | Male | No  |\n",
       "| 408 | 40 | Married   |  29 | Some college              | 14.2 | Economy  | Male | No  |\n",
       "| 414 | 27 | Unmarried | 102 | College degree            | 49.2 | Luxury   | Male | No  |\n",
       "| 423 | 36 | Unmarried |  87 | College degree            | 43.8 | Luxury   | Male | No  |\n",
       "| 429 | 31 | Married   |  45 | Some college              | 22.1 | Standard | Male | No  |\n",
       "| 431 | 54 | Unmarried | 151 | College degree            | 77.5 | Luxury   | Male | No  |\n",
       "| 435 | 53 | Married   | 111 | College degree            | 54.6 | Luxury   | Male | No  |\n",
       "| 436 | 60 | Married   |   9 | Some college              |  4.4 | Economy  | Male | Yes |\n",
       "| 444 | 40 | Unmarried |  86 | College degree            | 42.2 | Luxury   | Male | No  |\n",
       "| 453 | 35 | Unmarried | 152 | College degree            | 75.2 | Luxury   | Male | No  |\n",
       "| 455 | 42 | Married   |  61 | Post-undergraduate degree | 30.3 | Luxury   | Male | No  |\n",
       "| 461 | 41 | Unmarried | 198 | College degree            | 98.6 | Luxury   | Male | No  |\n",
       "| 462 | 62 | Married   |  63 | College degree            | 31.6 | Luxury   | Male | No  |\n",
       "| 470 | 44 | Married   |  48 | Some college              | 23.2 | Standard | Male | No  |\n",
       "| 476 | 29 | Married   |  29 | Some college              | 14.3 | Economy  | Male | No  |\n",
       "| 479 | 44 | Married   | 139 | College degree            | 70.3 | Luxury   | Male | No  |\n",
       "| 481 | 29 | Unmarried |  30 | Some college              | 14.9 | Economy  | Male | No  |\n",
       "| 482 | 60 | Married   | 114 | College degree            | 57.2 | Luxury   | Male | No  |\n",
       "| 484 | 21 | Unmarried |  28 | Some college              | 13.6 | Economy  | Male | No  |\n",
       "| 486 | 20 | Unmarried |  18 | Some college              |  9.1 | Economy  | Male | No  |\n",
       "| 490 | 35 | Unmarried |  47 | Some college              | 23.9 | Standard | Male | No  |\n",
       "| 501 | 31 | Married   |  25 | Post-undergraduate degree | 12.4 | Economy  | Male | No  |\n",
       "| 507 | 55 | Unmarried |  89 | College degree            | 43.8 | Luxury   | Male | No  |\n",
       "\n"
      ],
      "text/plain": [
       "    age marital   income educ                      carpr carcat   gender\n",
       "4   24  Married     26   College degree            12.5  Economy  Male  \n",
       "6   45  Married     76   Some college              37.2  Luxury   Male  \n",
       "7   42  Unmarried   40   Some college              19.8  Standard Male  \n",
       "10  34  Married     89   Some college              46.1  Luxury   Male  \n",
       "12  28  Unmarried   24   College degree            11.8  Economy  Male  \n",
       "15  35  Unmarried   70   Some college              34.1  Luxury   Male  \n",
       "16  52  Married    159   College degree            78.9  Luxury   Male  \n",
       "17  21  Married     37   Some college              18.6  Standard Male  \n",
       "22  48  Unmarried   21   Some college               9.5  Economy  Male  \n",
       "23  39  Married     17   College degree             8.5  Economy  Male  \n",
       "27  39  Married     33   Some college              16.3  Standard Male  \n",
       "32  47  Married     22   Some college              11.4  Economy  Male  \n",
       "33  58  Unmarried   60   College degree            29.7  Standard Male  \n",
       "36  30  Married     21   College degree            10.5  Economy  Male  \n",
       "41  41  Unmarried   59   Some college              28.6  Standard Male  \n",
       "44  24  Unmarried   35   College degree            17.4  Standard Male  \n",
       "58  28  Married     31   Some college              15.6  Standard Male  \n",
       "61  46  Married    133   Post-undergraduate degree 66.6  Luxury   Male  \n",
       "63  28  Unmarried   24   Some college              12.5  Economy  Male  \n",
       "65  37  Unmarried   24   Some college              11.3  Economy  Male  \n",
       "68  51  Married     70   Some college              35.6  Luxury   Male  \n",
       "69  48  Married    321   Post-undergraduate degree 65.9  Luxury   Male  \n",
       "70  40  Unmarried   71   Some college              35.1  Luxury   Male  \n",
       "77  48  Married   1116   College degree            74.1  Luxury   Male  \n",
       "83  37  Unmarried   29   Post-undergraduate degree 14.5  Economy  Male  \n",
       "86  48  Unmarried  129   Some college              65.5  Luxury   Male  \n",
       "88  40  Married     57   College degree            29.5  Standard Male  \n",
       "92  32  Married     26   Some college              12.2  Economy  Male  \n",
       "94  47  Unmarried   28   Some college              13.7  Economy  Male  \n",
       "98  41  Unmarried   49   College degree            23.9  Standard Male  \n",
       "⋮   ⋮   ⋮         ⋮      ⋮                         ⋮     ⋮        ⋮     \n",
       "374 38  Married    78    Some college              39.0  Luxury   Male  \n",
       "375 31  Unmarried  28    Some college              13.9  Economy  Male  \n",
       "377 58  Unmarried  17    Post-undergraduate degree  8.4  Economy  Male  \n",
       "383 30  Unmarried  25    College degree            12.6  Economy  Male  \n",
       "386 71  Unmarried 147    College degree            74.2  Luxury   Male  \n",
       "389 46  Unmarried 114    College degree            57.1  Luxury   Male  \n",
       "396 50  Married    86    Some college              42.1  Luxury   Male  \n",
       "404 51  Unmarried  51    Some college              26.1  Standard Male  \n",
       "408 40  Married    29    Some college              14.2  Economy  Male  \n",
       "414 27  Unmarried 102    College degree            49.2  Luxury   Male  \n",
       "423 36  Unmarried  87    College degree            43.8  Luxury   Male  \n",
       "429 31  Married    45    Some college              22.1  Standard Male  \n",
       "431 54  Unmarried 151    College degree            77.5  Luxury   Male  \n",
       "435 53  Married   111    College degree            54.6  Luxury   Male  \n",
       "436 60  Married     9    Some college               4.4  Economy  Male  \n",
       "444 40  Unmarried  86    College degree            42.2  Luxury   Male  \n",
       "453 35  Unmarried 152    College degree            75.2  Luxury   Male  \n",
       "455 42  Married    61    Post-undergraduate degree 30.3  Luxury   Male  \n",
       "461 41  Unmarried 198    College degree            98.6  Luxury   Male  \n",
       "462 62  Married    63    College degree            31.6  Luxury   Male  \n",
       "470 44  Married    48    Some college              23.2  Standard Male  \n",
       "476 29  Married    29    Some college              14.3  Economy  Male  \n",
       "479 44  Married   139    College degree            70.3  Luxury   Male  \n",
       "481 29  Unmarried  30    Some college              14.9  Economy  Male  \n",
       "482 60  Married   114    College degree            57.2  Luxury   Male  \n",
       "484 21  Unmarried  28    Some college              13.6  Economy  Male  \n",
       "486 20  Unmarried  18    Some college               9.1  Economy  Male  \n",
       "490 35  Unmarried  47    Some college              23.9  Standard Male  \n",
       "501 31  Married    25    Post-undergraduate degree 12.4  Economy  Male  \n",
       "507 55  Unmarried  89    College degree            43.8  Luxury   Male  \n",
       "    retired\n",
       "4   No     \n",
       "6   No     \n",
       "7   No     \n",
       "10  No     \n",
       "12  No     \n",
       "15  No     \n",
       "16  No     \n",
       "17  No     \n",
       "22  No     \n",
       "23  No     \n",
       "27  No     \n",
       "32  No     \n",
       "33  No     \n",
       "36  No     \n",
       "41  No     \n",
       "44  No     \n",
       "58  No     \n",
       "61  No     \n",
       "63  No     \n",
       "65  No     \n",
       "68  No     \n",
       "69  No     \n",
       "70  No     \n",
       "77  No     \n",
       "83  No     \n",
       "86  No     \n",
       "88  No     \n",
       "92  No     \n",
       "94  No     \n",
       "98  No     \n",
       "⋮   ⋮      \n",
       "374 No     \n",
       "375 No     \n",
       "377 Yes    \n",
       "383 No     \n",
       "386 Yes    \n",
       "389 No     \n",
       "396 No     \n",
       "404 No     \n",
       "408 No     \n",
       "414 No     \n",
       "423 No     \n",
       "429 No     \n",
       "431 No     \n",
       "435 No     \n",
       "436 Yes    \n",
       "444 No     \n",
       "453 No     \n",
       "455 No     \n",
       "461 No     \n",
       "462 No     \n",
       "470 No     \n",
       "476 No     \n",
       "479 No     \n",
       "481 No     \n",
       "482 No     \n",
       "484 No     \n",
       "486 No     \n",
       "490 No     \n",
       "501 No     \n",
       "507 No     "
      ]
     },
     "metadata": {},
     "output_type": "display_data"
    }
   ],
   "source": [
    "demodf[demodf$gender == 'Male' & demodf$educ %in% c('College degree', 'Post-undergraduate degree', 'Some college'),]"
   ]
  },
  {
   "cell_type": "code",
   "execution_count": 101,
   "id": "7e9fc129",
   "metadata": {
    "vscode": {
     "languageId": "r"
    }
   },
   "outputs": [
    {
     "data": {
      "text/html": [
       "<table class=\"dataframe\">\n",
       "<caption>A data.frame: 250 × 8</caption>\n",
       "<thead>\n",
       "\t<tr><th></th><th scope=col>age</th><th scope=col>marital</th><th scope=col>income</th><th scope=col>educ</th><th scope=col>carpr</th><th scope=col>carcat</th><th scope=col>gender</th><th scope=col>retired</th></tr>\n",
       "\t<tr><th></th><th scope=col>&lt;int&gt;</th><th scope=col>&lt;chr&gt;</th><th scope=col>&lt;int&gt;</th><th scope=col>&lt;chr&gt;</th><th scope=col>&lt;dbl&gt;</th><th scope=col>&lt;chr&gt;</th><th scope=col>&lt;chr&gt;</th><th scope=col>&lt;chr&gt;</th></tr>\n",
       "</thead>\n",
       "<tbody>\n",
       "\t<tr><th scope=row>1</th><td>55</td><td>Married  </td><td> 72</td><td>Did not complete high school</td><td>36.2</td><td>Luxury  </td><td>Female</td><td>No</td></tr>\n",
       "\t<tr><th scope=row>3</th><td>28</td><td>Married  </td><td> 28</td><td>Some college                </td><td>13.7</td><td>Economy </td><td>Female</td><td>No</td></tr>\n",
       "\t<tr><th scope=row>8</th><td>35</td><td>Unmarried</td><td> 57</td><td>High school degree          </td><td>28.2</td><td>Standard</td><td>Female</td><td>No</td></tr>\n",
       "\t<tr><th scope=row>9</th><td>46</td><td>Unmarried</td><td> 24</td><td>Did not complete high school</td><td>12.2</td><td>Economy </td><td>Female</td><td>No</td></tr>\n",
       "\t<tr><th scope=row>11</th><td>55</td><td>Married  </td><td> 72</td><td>Some college                </td><td>35.5</td><td>Luxury  </td><td>Female</td><td>No</td></tr>\n",
       "\t<tr><th scope=row>13</th><td>31</td><td>Married  </td><td> 40</td><td>College degree              </td><td>21.3</td><td>Standard</td><td>Female</td><td>No</td></tr>\n",
       "\t<tr><th scope=row>14</th><td>42</td><td>Unmarried</td><td>137</td><td>Some college                </td><td>68.9</td><td>Luxury  </td><td>Female</td><td>No</td></tr>\n",
       "\t<tr><th scope=row>18</th><td>32</td><td>Unmarried</td><td> 28</td><td>Did not complete high school</td><td>13.7</td><td>Economy </td><td>Female</td><td>No</td></tr>\n",
       "\t<tr><th scope=row>19</th><td>42</td><td>Unmarried</td><td>109</td><td>Some college                </td><td>54.7</td><td>Luxury  </td><td>Female</td><td>No</td></tr>\n",
       "\t<tr><th scope=row>20</th><td>40</td><td>Married  </td><td>117</td><td>High school degree          </td><td>58.3</td><td>Luxury  </td><td>Female</td><td>No</td></tr>\n",
       "\t<tr><th scope=row>24</th><td>42</td><td>Married  </td><td> 34</td><td>High school degree          </td><td>16.6</td><td>Standard</td><td>Female</td><td>No</td></tr>\n",
       "\t<tr><th scope=row>25</th><td>45</td><td>Married  </td><td>115</td><td>Did not complete high school</td><td>57.4</td><td>Luxury  </td><td>Female</td><td>No</td></tr>\n",
       "\t<tr><th scope=row>28</th><td>49</td><td>Unmarried</td><td>135</td><td>High school degree          </td><td>68.4</td><td>Luxury  </td><td>Female</td><td>No</td></tr>\n",
       "\t<tr><th scope=row>31</th><td>34</td><td>Unmarried</td><td> 20</td><td>Some college                </td><td>10.0</td><td>Economy </td><td>Female</td><td>No</td></tr>\n",
       "\t<tr><th scope=row>34</th><td>25</td><td>Married  </td><td> 58</td><td>Some college                </td><td>28.4</td><td>Standard</td><td>Female</td><td>No</td></tr>\n",
       "\t<tr><th scope=row>35</th><td>57</td><td>Married  </td><td> 92</td><td>High school degree          </td><td>45.5</td><td>Luxury  </td><td>Female</td><td>No</td></tr>\n",
       "\t<tr><th scope=row>37</th><td>21</td><td>Unmarried</td><td> 13</td><td>Some college                </td><td> 6.3</td><td>Economy </td><td>Female</td><td>No</td></tr>\n",
       "\t<tr><th scope=row>38</th><td>24</td><td>Unmarried</td><td> 24</td><td>High school degree          </td><td>11.8</td><td>Economy </td><td>Female</td><td>No</td></tr>\n",
       "\t<tr><th scope=row>39</th><td>56</td><td>Unmarried</td><td>213</td><td>College degree              </td><td>81.7</td><td>Luxury  </td><td>Female</td><td>No</td></tr>\n",
       "\t<tr><th scope=row>42</th><td>57</td><td>Married  </td><td>544</td><td>High school degree          </td><td>82.8</td><td>Luxury  </td><td>Female</td><td>No</td></tr>\n",
       "\t<tr><th scope=row>46</th><td>21</td><td>Unmarried</td><td> 22</td><td>Some college                </td><td>11.0</td><td>Economy </td><td>Female</td><td>No</td></tr>\n",
       "\t<tr><th scope=row>47</th><td>33</td><td>Married  </td><td> 39</td><td>High school degree          </td><td>19.4</td><td>Standard</td><td>Female</td><td>No</td></tr>\n",
       "\t<tr><th scope=row>50</th><td>44</td><td>Married  </td><td>240</td><td>College degree              </td><td>75.2</td><td>Luxury  </td><td>Female</td><td>No</td></tr>\n",
       "\t<tr><th scope=row>53</th><td>48</td><td>Unmarried</td><td> 78</td><td>College degree              </td><td>38.0</td><td>Luxury  </td><td>Female</td><td>No</td></tr>\n",
       "\t<tr><th scope=row>54</th><td>25</td><td>Unmarried</td><td> 68</td><td>College degree              </td><td>33.5</td><td>Luxury  </td><td>Female</td><td>No</td></tr>\n",
       "\t<tr><th scope=row>56</th><td>38</td><td>Married  </td><td> 19</td><td>Did not complete high school</td><td> 9.2</td><td>Economy </td><td>Female</td><td>No</td></tr>\n",
       "\t<tr><th scope=row>62</th><td>43</td><td>Married  </td><td>109</td><td>High school degree          </td><td>54.6</td><td>Luxury  </td><td>Female</td><td>No</td></tr>\n",
       "\t<tr><th scope=row>64</th><td>39</td><td>Unmarried</td><td> 57</td><td>Some college                </td><td>28.6</td><td>Standard</td><td>Female</td><td>No</td></tr>\n",
       "\t<tr><th scope=row>67</th><td>55</td><td>Unmarried</td><td> 65</td><td>College degree              </td><td>31.5</td><td>Luxury  </td><td>Female</td><td>No</td></tr>\n",
       "\t<tr><th scope=row>71</th><td>28</td><td>Unmarried</td><td> 35</td><td>Some college                </td><td>17.3</td><td>Standard</td><td>Female</td><td>No</td></tr>\n",
       "\t<tr><th scope=row>⋮</th><td>⋮</td><td>⋮</td><td>⋮</td><td>⋮</td><td>⋮</td><td>⋮</td><td>⋮</td><td>⋮</td></tr>\n",
       "\t<tr><th scope=row>458</th><td>31</td><td>Married  </td><td> 95</td><td>Some college                </td><td>47.0</td><td>Luxury  </td><td>Female</td><td>No </td></tr>\n",
       "\t<tr><th scope=row>463</th><td>37</td><td>Unmarried</td><td> 28</td><td>Did not complete high school</td><td>13.9</td><td>Economy </td><td>Female</td><td>No </td></tr>\n",
       "\t<tr><th scope=row>464</th><td>37</td><td>Unmarried</td><td> 46</td><td>College degree              </td><td>24.1</td><td>Standard</td><td>Female</td><td>No </td></tr>\n",
       "\t<tr><th scope=row>465</th><td>19</td><td>Married  </td><td> 20</td><td>High school degree          </td><td>10.3</td><td>Economy </td><td>Female</td><td>No </td></tr>\n",
       "\t<tr><th scope=row>467</th><td>41</td><td>Unmarried</td><td> 69</td><td>Some college                </td><td>34.5</td><td>Luxury  </td><td>Female</td><td>No </td></tr>\n",
       "\t<tr><th scope=row>468</th><td>59</td><td>Married  </td><td> 57</td><td>Did not complete high school</td><td>29.3</td><td>Standard</td><td>Female</td><td>No </td></tr>\n",
       "\t<tr><th scope=row>471</th><td>53</td><td>Unmarried</td><td>129</td><td>Did not complete high school</td><td>64.7</td><td>Luxury  </td><td>Female</td><td>No </td></tr>\n",
       "\t<tr><th scope=row>472</th><td>37</td><td>Married  </td><td> 40</td><td>Did not complete high school</td><td>19.6</td><td>Standard</td><td>Female</td><td>No </td></tr>\n",
       "\t<tr><th scope=row>473</th><td>64</td><td>Married  </td><td> 15</td><td>High school degree          </td><td> 7.4</td><td>Economy </td><td>Female</td><td>Yes</td></tr>\n",
       "\t<tr><th scope=row>477</th><td>51</td><td>Married  </td><td> 77</td><td>Some college                </td><td>38.5</td><td>Luxury  </td><td>Female</td><td>No </td></tr>\n",
       "\t<tr><th scope=row>478</th><td>25</td><td>Married  </td><td> 22</td><td>Did not complete high school</td><td>11.2</td><td>Economy </td><td>Female</td><td>No </td></tr>\n",
       "\t<tr><th scope=row>480</th><td>35</td><td>Unmarried</td><td> 35</td><td>High school degree          </td><td>17.4</td><td>Standard</td><td>Female</td><td>No </td></tr>\n",
       "\t<tr><th scope=row>483</th><td>49</td><td>Married  </td><td> 38</td><td>College degree              </td><td>18.7</td><td>Standard</td><td>Female</td><td>No </td></tr>\n",
       "\t<tr><th scope=row>485</th><td>63</td><td>Unmarried</td><td> 11</td><td>High school degree          </td><td> 5.4</td><td>Economy </td><td>Female</td><td>Yes</td></tr>\n",
       "\t<tr><th scope=row>487</th><td>33</td><td>Unmarried</td><td> 36</td><td>Did not complete high school</td><td>17.3</td><td>Standard</td><td>Female</td><td>No </td></tr>\n",
       "\t<tr><th scope=row>489</th><td>53</td><td>Married  </td><td> 34</td><td>Some college                </td><td>16.5</td><td>Standard</td><td>Female</td><td>No </td></tr>\n",
       "\t<tr><th scope=row>491</th><td>46</td><td>Unmarried</td><td> 49</td><td>Did not complete high school</td><td>23.9</td><td>Standard</td><td>Female</td><td>No </td></tr>\n",
       "\t<tr><th scope=row>492</th><td>23</td><td>Unmarried</td><td> 19</td><td>Did not complete high school</td><td> 9.3</td><td>Economy </td><td>Female</td><td>No </td></tr>\n",
       "\t<tr><th scope=row>493</th><td>47</td><td>Unmarried</td><td> 57</td><td>High school degree          </td><td>29.5</td><td>Standard</td><td>Female</td><td>No </td></tr>\n",
       "\t<tr><th scope=row>494</th><td>49</td><td>Married  </td><td> 86</td><td>High school degree          </td><td>43.3</td><td>Luxury  </td><td>Female</td><td>No </td></tr>\n",
       "\t<tr><th scope=row>495</th><td>43</td><td>Unmarried</td><td>101</td><td>College degree              </td><td>49.4</td><td>Luxury  </td><td>Female</td><td>No </td></tr>\n",
       "\t<tr><th scope=row>496</th><td>64</td><td>Unmarried</td><td> 11</td><td>College degree              </td><td> 5.6</td><td>Economy </td><td>Female</td><td>Yes</td></tr>\n",
       "\t<tr><th scope=row>498</th><td>32</td><td>Married  </td><td> 18</td><td>High school degree          </td><td> 9.0</td><td>Economy </td><td>Female</td><td>No </td></tr>\n",
       "\t<tr><th scope=row>499</th><td>28</td><td>Married  </td><td> 43</td><td>College degree              </td><td>21.0</td><td>Standard</td><td>Female</td><td>No </td></tr>\n",
       "\t<tr><th scope=row>500</th><td>25</td><td>Married  </td><td> 26</td><td>College degree              </td><td>12.9</td><td>Economy </td><td>Female</td><td>No </td></tr>\n",
       "\t<tr><th scope=row>502</th><td>46</td><td>Unmarried</td><td> 77</td><td>Some college                </td><td>37.6</td><td>Luxury  </td><td>Female</td><td>No </td></tr>\n",
       "\t<tr><th scope=row>503</th><td>34</td><td>Married  </td><td> 31</td><td>Did not complete high school</td><td>15.8</td><td>Standard</td><td>Female</td><td>No </td></tr>\n",
       "\t<tr><th scope=row>504</th><td>26</td><td>Married  </td><td> 23</td><td>Did not complete high school</td><td>11.7</td><td>Economy </td><td>Female</td><td>No </td></tr>\n",
       "\t<tr><th scope=row>506</th><td>58</td><td>Married  </td><td>496</td><td>Some college                </td><td>78.6</td><td>Luxury  </td><td>Female</td><td>No </td></tr>\n",
       "\t<tr><th scope=row>508</th><td>63</td><td>Married  </td><td> 91</td><td>High school degree          </td><td>45.0</td><td>Luxury  </td><td>Female</td><td>No </td></tr>\n",
       "</tbody>\n",
       "</table>\n"
      ],
      "text/latex": [
       "A data.frame: 250 × 8\n",
       "\\begin{tabular}{r|llllllll}\n",
       "  & age & marital & income & educ & carpr & carcat & gender & retired\\\\\n",
       "  & <int> & <chr> & <int> & <chr> & <dbl> & <chr> & <chr> & <chr>\\\\\n",
       "\\hline\n",
       "\t1 & 55 & Married   &  72 & Did not complete high school & 36.2 & Luxury   & Female & No\\\\\n",
       "\t3 & 28 & Married   &  28 & Some college                 & 13.7 & Economy  & Female & No\\\\\n",
       "\t8 & 35 & Unmarried &  57 & High school degree           & 28.2 & Standard & Female & No\\\\\n",
       "\t9 & 46 & Unmarried &  24 & Did not complete high school & 12.2 & Economy  & Female & No\\\\\n",
       "\t11 & 55 & Married   &  72 & Some college                 & 35.5 & Luxury   & Female & No\\\\\n",
       "\t13 & 31 & Married   &  40 & College degree               & 21.3 & Standard & Female & No\\\\\n",
       "\t14 & 42 & Unmarried & 137 & Some college                 & 68.9 & Luxury   & Female & No\\\\\n",
       "\t18 & 32 & Unmarried &  28 & Did not complete high school & 13.7 & Economy  & Female & No\\\\\n",
       "\t19 & 42 & Unmarried & 109 & Some college                 & 54.7 & Luxury   & Female & No\\\\\n",
       "\t20 & 40 & Married   & 117 & High school degree           & 58.3 & Luxury   & Female & No\\\\\n",
       "\t24 & 42 & Married   &  34 & High school degree           & 16.6 & Standard & Female & No\\\\\n",
       "\t25 & 45 & Married   & 115 & Did not complete high school & 57.4 & Luxury   & Female & No\\\\\n",
       "\t28 & 49 & Unmarried & 135 & High school degree           & 68.4 & Luxury   & Female & No\\\\\n",
       "\t31 & 34 & Unmarried &  20 & Some college                 & 10.0 & Economy  & Female & No\\\\\n",
       "\t34 & 25 & Married   &  58 & Some college                 & 28.4 & Standard & Female & No\\\\\n",
       "\t35 & 57 & Married   &  92 & High school degree           & 45.5 & Luxury   & Female & No\\\\\n",
       "\t37 & 21 & Unmarried &  13 & Some college                 &  6.3 & Economy  & Female & No\\\\\n",
       "\t38 & 24 & Unmarried &  24 & High school degree           & 11.8 & Economy  & Female & No\\\\\n",
       "\t39 & 56 & Unmarried & 213 & College degree               & 81.7 & Luxury   & Female & No\\\\\n",
       "\t42 & 57 & Married   & 544 & High school degree           & 82.8 & Luxury   & Female & No\\\\\n",
       "\t46 & 21 & Unmarried &  22 & Some college                 & 11.0 & Economy  & Female & No\\\\\n",
       "\t47 & 33 & Married   &  39 & High school degree           & 19.4 & Standard & Female & No\\\\\n",
       "\t50 & 44 & Married   & 240 & College degree               & 75.2 & Luxury   & Female & No\\\\\n",
       "\t53 & 48 & Unmarried &  78 & College degree               & 38.0 & Luxury   & Female & No\\\\\n",
       "\t54 & 25 & Unmarried &  68 & College degree               & 33.5 & Luxury   & Female & No\\\\\n",
       "\t56 & 38 & Married   &  19 & Did not complete high school &  9.2 & Economy  & Female & No\\\\\n",
       "\t62 & 43 & Married   & 109 & High school degree           & 54.6 & Luxury   & Female & No\\\\\n",
       "\t64 & 39 & Unmarried &  57 & Some college                 & 28.6 & Standard & Female & No\\\\\n",
       "\t67 & 55 & Unmarried &  65 & College degree               & 31.5 & Luxury   & Female & No\\\\\n",
       "\t71 & 28 & Unmarried &  35 & Some college                 & 17.3 & Standard & Female & No\\\\\n",
       "\t⋮ & ⋮ & ⋮ & ⋮ & ⋮ & ⋮ & ⋮ & ⋮ & ⋮\\\\\n",
       "\t458 & 31 & Married   &  95 & Some college                 & 47.0 & Luxury   & Female & No \\\\\n",
       "\t463 & 37 & Unmarried &  28 & Did not complete high school & 13.9 & Economy  & Female & No \\\\\n",
       "\t464 & 37 & Unmarried &  46 & College degree               & 24.1 & Standard & Female & No \\\\\n",
       "\t465 & 19 & Married   &  20 & High school degree           & 10.3 & Economy  & Female & No \\\\\n",
       "\t467 & 41 & Unmarried &  69 & Some college                 & 34.5 & Luxury   & Female & No \\\\\n",
       "\t468 & 59 & Married   &  57 & Did not complete high school & 29.3 & Standard & Female & No \\\\\n",
       "\t471 & 53 & Unmarried & 129 & Did not complete high school & 64.7 & Luxury   & Female & No \\\\\n",
       "\t472 & 37 & Married   &  40 & Did not complete high school & 19.6 & Standard & Female & No \\\\\n",
       "\t473 & 64 & Married   &  15 & High school degree           &  7.4 & Economy  & Female & Yes\\\\\n",
       "\t477 & 51 & Married   &  77 & Some college                 & 38.5 & Luxury   & Female & No \\\\\n",
       "\t478 & 25 & Married   &  22 & Did not complete high school & 11.2 & Economy  & Female & No \\\\\n",
       "\t480 & 35 & Unmarried &  35 & High school degree           & 17.4 & Standard & Female & No \\\\\n",
       "\t483 & 49 & Married   &  38 & College degree               & 18.7 & Standard & Female & No \\\\\n",
       "\t485 & 63 & Unmarried &  11 & High school degree           &  5.4 & Economy  & Female & Yes\\\\\n",
       "\t487 & 33 & Unmarried &  36 & Did not complete high school & 17.3 & Standard & Female & No \\\\\n",
       "\t489 & 53 & Married   &  34 & Some college                 & 16.5 & Standard & Female & No \\\\\n",
       "\t491 & 46 & Unmarried &  49 & Did not complete high school & 23.9 & Standard & Female & No \\\\\n",
       "\t492 & 23 & Unmarried &  19 & Did not complete high school &  9.3 & Economy  & Female & No \\\\\n",
       "\t493 & 47 & Unmarried &  57 & High school degree           & 29.5 & Standard & Female & No \\\\\n",
       "\t494 & 49 & Married   &  86 & High school degree           & 43.3 & Luxury   & Female & No \\\\\n",
       "\t495 & 43 & Unmarried & 101 & College degree               & 49.4 & Luxury   & Female & No \\\\\n",
       "\t496 & 64 & Unmarried &  11 & College degree               &  5.6 & Economy  & Female & Yes\\\\\n",
       "\t498 & 32 & Married   &  18 & High school degree           &  9.0 & Economy  & Female & No \\\\\n",
       "\t499 & 28 & Married   &  43 & College degree               & 21.0 & Standard & Female & No \\\\\n",
       "\t500 & 25 & Married   &  26 & College degree               & 12.9 & Economy  & Female & No \\\\\n",
       "\t502 & 46 & Unmarried &  77 & Some college                 & 37.6 & Luxury   & Female & No \\\\\n",
       "\t503 & 34 & Married   &  31 & Did not complete high school & 15.8 & Standard & Female & No \\\\\n",
       "\t504 & 26 & Married   &  23 & Did not complete high school & 11.7 & Economy  & Female & No \\\\\n",
       "\t506 & 58 & Married   & 496 & Some college                 & 78.6 & Luxury   & Female & No \\\\\n",
       "\t508 & 63 & Married   &  91 & High school degree           & 45.0 & Luxury   & Female & No \\\\\n",
       "\\end{tabular}\n"
      ],
      "text/markdown": [
       "\n",
       "A data.frame: 250 × 8\n",
       "\n",
       "| <!--/--> | age &lt;int&gt; | marital &lt;chr&gt; | income &lt;int&gt; | educ &lt;chr&gt; | carpr &lt;dbl&gt; | carcat &lt;chr&gt; | gender &lt;chr&gt; | retired &lt;chr&gt; |\n",
       "|---|---|---|---|---|---|---|---|---|\n",
       "| 1 | 55 | Married   |  72 | Did not complete high school | 36.2 | Luxury   | Female | No |\n",
       "| 3 | 28 | Married   |  28 | Some college                 | 13.7 | Economy  | Female | No |\n",
       "| 8 | 35 | Unmarried |  57 | High school degree           | 28.2 | Standard | Female | No |\n",
       "| 9 | 46 | Unmarried |  24 | Did not complete high school | 12.2 | Economy  | Female | No |\n",
       "| 11 | 55 | Married   |  72 | Some college                 | 35.5 | Luxury   | Female | No |\n",
       "| 13 | 31 | Married   |  40 | College degree               | 21.3 | Standard | Female | No |\n",
       "| 14 | 42 | Unmarried | 137 | Some college                 | 68.9 | Luxury   | Female | No |\n",
       "| 18 | 32 | Unmarried |  28 | Did not complete high school | 13.7 | Economy  | Female | No |\n",
       "| 19 | 42 | Unmarried | 109 | Some college                 | 54.7 | Luxury   | Female | No |\n",
       "| 20 | 40 | Married   | 117 | High school degree           | 58.3 | Luxury   | Female | No |\n",
       "| 24 | 42 | Married   |  34 | High school degree           | 16.6 | Standard | Female | No |\n",
       "| 25 | 45 | Married   | 115 | Did not complete high school | 57.4 | Luxury   | Female | No |\n",
       "| 28 | 49 | Unmarried | 135 | High school degree           | 68.4 | Luxury   | Female | No |\n",
       "| 31 | 34 | Unmarried |  20 | Some college                 | 10.0 | Economy  | Female | No |\n",
       "| 34 | 25 | Married   |  58 | Some college                 | 28.4 | Standard | Female | No |\n",
       "| 35 | 57 | Married   |  92 | High school degree           | 45.5 | Luxury   | Female | No |\n",
       "| 37 | 21 | Unmarried |  13 | Some college                 |  6.3 | Economy  | Female | No |\n",
       "| 38 | 24 | Unmarried |  24 | High school degree           | 11.8 | Economy  | Female | No |\n",
       "| 39 | 56 | Unmarried | 213 | College degree               | 81.7 | Luxury   | Female | No |\n",
       "| 42 | 57 | Married   | 544 | High school degree           | 82.8 | Luxury   | Female | No |\n",
       "| 46 | 21 | Unmarried |  22 | Some college                 | 11.0 | Economy  | Female | No |\n",
       "| 47 | 33 | Married   |  39 | High school degree           | 19.4 | Standard | Female | No |\n",
       "| 50 | 44 | Married   | 240 | College degree               | 75.2 | Luxury   | Female | No |\n",
       "| 53 | 48 | Unmarried |  78 | College degree               | 38.0 | Luxury   | Female | No |\n",
       "| 54 | 25 | Unmarried |  68 | College degree               | 33.5 | Luxury   | Female | No |\n",
       "| 56 | 38 | Married   |  19 | Did not complete high school |  9.2 | Economy  | Female | No |\n",
       "| 62 | 43 | Married   | 109 | High school degree           | 54.6 | Luxury   | Female | No |\n",
       "| 64 | 39 | Unmarried |  57 | Some college                 | 28.6 | Standard | Female | No |\n",
       "| 67 | 55 | Unmarried |  65 | College degree               | 31.5 | Luxury   | Female | No |\n",
       "| 71 | 28 | Unmarried |  35 | Some college                 | 17.3 | Standard | Female | No |\n",
       "| ⋮ | ⋮ | ⋮ | ⋮ | ⋮ | ⋮ | ⋮ | ⋮ | ⋮ |\n",
       "| 458 | 31 | Married   |  95 | Some college                 | 47.0 | Luxury   | Female | No  |\n",
       "| 463 | 37 | Unmarried |  28 | Did not complete high school | 13.9 | Economy  | Female | No  |\n",
       "| 464 | 37 | Unmarried |  46 | College degree               | 24.1 | Standard | Female | No  |\n",
       "| 465 | 19 | Married   |  20 | High school degree           | 10.3 | Economy  | Female | No  |\n",
       "| 467 | 41 | Unmarried |  69 | Some college                 | 34.5 | Luxury   | Female | No  |\n",
       "| 468 | 59 | Married   |  57 | Did not complete high school | 29.3 | Standard | Female | No  |\n",
       "| 471 | 53 | Unmarried | 129 | Did not complete high school | 64.7 | Luxury   | Female | No  |\n",
       "| 472 | 37 | Married   |  40 | Did not complete high school | 19.6 | Standard | Female | No  |\n",
       "| 473 | 64 | Married   |  15 | High school degree           |  7.4 | Economy  | Female | Yes |\n",
       "| 477 | 51 | Married   |  77 | Some college                 | 38.5 | Luxury   | Female | No  |\n",
       "| 478 | 25 | Married   |  22 | Did not complete high school | 11.2 | Economy  | Female | No  |\n",
       "| 480 | 35 | Unmarried |  35 | High school degree           | 17.4 | Standard | Female | No  |\n",
       "| 483 | 49 | Married   |  38 | College degree               | 18.7 | Standard | Female | No  |\n",
       "| 485 | 63 | Unmarried |  11 | High school degree           |  5.4 | Economy  | Female | Yes |\n",
       "| 487 | 33 | Unmarried |  36 | Did not complete high school | 17.3 | Standard | Female | No  |\n",
       "| 489 | 53 | Married   |  34 | Some college                 | 16.5 | Standard | Female | No  |\n",
       "| 491 | 46 | Unmarried |  49 | Did not complete high school | 23.9 | Standard | Female | No  |\n",
       "| 492 | 23 | Unmarried |  19 | Did not complete high school |  9.3 | Economy  | Female | No  |\n",
       "| 493 | 47 | Unmarried |  57 | High school degree           | 29.5 | Standard | Female | No  |\n",
       "| 494 | 49 | Married   |  86 | High school degree           | 43.3 | Luxury   | Female | No  |\n",
       "| 495 | 43 | Unmarried | 101 | College degree               | 49.4 | Luxury   | Female | No  |\n",
       "| 496 | 64 | Unmarried |  11 | College degree               |  5.6 | Economy  | Female | Yes |\n",
       "| 498 | 32 | Married   |  18 | High school degree           |  9.0 | Economy  | Female | No  |\n",
       "| 499 | 28 | Married   |  43 | College degree               | 21.0 | Standard | Female | No  |\n",
       "| 500 | 25 | Married   |  26 | College degree               | 12.9 | Economy  | Female | No  |\n",
       "| 502 | 46 | Unmarried |  77 | Some college                 | 37.6 | Luxury   | Female | No  |\n",
       "| 503 | 34 | Married   |  31 | Did not complete high school | 15.8 | Standard | Female | No  |\n",
       "| 504 | 26 | Married   |  23 | Did not complete high school | 11.7 | Economy  | Female | No  |\n",
       "| 506 | 58 | Married   | 496 | Some college                 | 78.6 | Luxury   | Female | No  |\n",
       "| 508 | 63 | Married   |  91 | High school degree           | 45.0 | Luxury   | Female | No  |\n",
       "\n"
      ],
      "text/plain": [
       "    age marital   income educ                         carpr carcat   gender\n",
       "1   55  Married    72    Did not complete high school 36.2  Luxury   Female\n",
       "3   28  Married    28    Some college                 13.7  Economy  Female\n",
       "8   35  Unmarried  57    High school degree           28.2  Standard Female\n",
       "9   46  Unmarried  24    Did not complete high school 12.2  Economy  Female\n",
       "11  55  Married    72    Some college                 35.5  Luxury   Female\n",
       "13  31  Married    40    College degree               21.3  Standard Female\n",
       "14  42  Unmarried 137    Some college                 68.9  Luxury   Female\n",
       "18  32  Unmarried  28    Did not complete high school 13.7  Economy  Female\n",
       "19  42  Unmarried 109    Some college                 54.7  Luxury   Female\n",
       "20  40  Married   117    High school degree           58.3  Luxury   Female\n",
       "24  42  Married    34    High school degree           16.6  Standard Female\n",
       "25  45  Married   115    Did not complete high school 57.4  Luxury   Female\n",
       "28  49  Unmarried 135    High school degree           68.4  Luxury   Female\n",
       "31  34  Unmarried  20    Some college                 10.0  Economy  Female\n",
       "34  25  Married    58    Some college                 28.4  Standard Female\n",
       "35  57  Married    92    High school degree           45.5  Luxury   Female\n",
       "37  21  Unmarried  13    Some college                  6.3  Economy  Female\n",
       "38  24  Unmarried  24    High school degree           11.8  Economy  Female\n",
       "39  56  Unmarried 213    College degree               81.7  Luxury   Female\n",
       "42  57  Married   544    High school degree           82.8  Luxury   Female\n",
       "46  21  Unmarried  22    Some college                 11.0  Economy  Female\n",
       "47  33  Married    39    High school degree           19.4  Standard Female\n",
       "50  44  Married   240    College degree               75.2  Luxury   Female\n",
       "53  48  Unmarried  78    College degree               38.0  Luxury   Female\n",
       "54  25  Unmarried  68    College degree               33.5  Luxury   Female\n",
       "56  38  Married    19    Did not complete high school  9.2  Economy  Female\n",
       "62  43  Married   109    High school degree           54.6  Luxury   Female\n",
       "64  39  Unmarried  57    Some college                 28.6  Standard Female\n",
       "67  55  Unmarried  65    College degree               31.5  Luxury   Female\n",
       "71  28  Unmarried  35    Some college                 17.3  Standard Female\n",
       "⋮   ⋮   ⋮         ⋮      ⋮                            ⋮     ⋮        ⋮     \n",
       "458 31  Married    95    Some college                 47.0  Luxury   Female\n",
       "463 37  Unmarried  28    Did not complete high school 13.9  Economy  Female\n",
       "464 37  Unmarried  46    College degree               24.1  Standard Female\n",
       "465 19  Married    20    High school degree           10.3  Economy  Female\n",
       "467 41  Unmarried  69    Some college                 34.5  Luxury   Female\n",
       "468 59  Married    57    Did not complete high school 29.3  Standard Female\n",
       "471 53  Unmarried 129    Did not complete high school 64.7  Luxury   Female\n",
       "472 37  Married    40    Did not complete high school 19.6  Standard Female\n",
       "473 64  Married    15    High school degree            7.4  Economy  Female\n",
       "477 51  Married    77    Some college                 38.5  Luxury   Female\n",
       "478 25  Married    22    Did not complete high school 11.2  Economy  Female\n",
       "480 35  Unmarried  35    High school degree           17.4  Standard Female\n",
       "483 49  Married    38    College degree               18.7  Standard Female\n",
       "485 63  Unmarried  11    High school degree            5.4  Economy  Female\n",
       "487 33  Unmarried  36    Did not complete high school 17.3  Standard Female\n",
       "489 53  Married    34    Some college                 16.5  Standard Female\n",
       "491 46  Unmarried  49    Did not complete high school 23.9  Standard Female\n",
       "492 23  Unmarried  19    Did not complete high school  9.3  Economy  Female\n",
       "493 47  Unmarried  57    High school degree           29.5  Standard Female\n",
       "494 49  Married    86    High school degree           43.3  Luxury   Female\n",
       "495 43  Unmarried 101    College degree               49.4  Luxury   Female\n",
       "496 64  Unmarried  11    College degree                5.6  Economy  Female\n",
       "498 32  Married    18    High school degree            9.0  Economy  Female\n",
       "499 28  Married    43    College degree               21.0  Standard Female\n",
       "500 25  Married    26    College degree               12.9  Economy  Female\n",
       "502 46  Unmarried  77    Some college                 37.6  Luxury   Female\n",
       "503 34  Married    31    Did not complete high school 15.8  Standard Female\n",
       "504 26  Married    23    Did not complete high school 11.7  Economy  Female\n",
       "506 58  Married   496    Some college                 78.6  Luxury   Female\n",
       "508 63  Married    91    High school degree           45.0  Luxury   Female\n",
       "    retired\n",
       "1   No     \n",
       "3   No     \n",
       "8   No     \n",
       "9   No     \n",
       "11  No     \n",
       "13  No     \n",
       "14  No     \n",
       "18  No     \n",
       "19  No     \n",
       "20  No     \n",
       "24  No     \n",
       "25  No     \n",
       "28  No     \n",
       "31  No     \n",
       "34  No     \n",
       "35  No     \n",
       "37  No     \n",
       "38  No     \n",
       "39  No     \n",
       "42  No     \n",
       "46  No     \n",
       "47  No     \n",
       "50  No     \n",
       "53  No     \n",
       "54  No     \n",
       "56  No     \n",
       "62  No     \n",
       "64  No     \n",
       "67  No     \n",
       "71  No     \n",
       "⋮   ⋮      \n",
       "458 No     \n",
       "463 No     \n",
       "464 No     \n",
       "465 No     \n",
       "467 No     \n",
       "468 No     \n",
       "471 No     \n",
       "472 No     \n",
       "473 Yes    \n",
       "477 No     \n",
       "478 No     \n",
       "480 No     \n",
       "483 No     \n",
       "485 Yes    \n",
       "487 No     \n",
       "489 No     \n",
       "491 No     \n",
       "492 No     \n",
       "493 No     \n",
       "494 No     \n",
       "495 No     \n",
       "496 Yes    \n",
       "498 No     \n",
       "499 No     \n",
       "500 No     \n",
       "502 No     \n",
       "503 No     \n",
       "504 No     \n",
       "506 No     \n",
       "508 No     "
      ]
     },
     "metadata": {},
     "output_type": "display_data"
    }
   ],
   "source": [
    "# Get all retired females.\n",
    "demodf[demodf$gender == 'Female',]"
   ]
  },
  {
   "cell_type": "code",
   "execution_count": 110,
   "id": "6d488025",
   "metadata": {
    "vscode": {
     "languageId": "r"
    }
   },
   "outputs": [
    {
     "name": "stdout",
     "output_type": "stream",
     "text": [
      "    age   marital income                         educ carpr   carcat gender\n",
      "1    55   Married     72 Did not complete high school  36.2   Luxury Female\n",
      "2    56 Unmarried    153 Did not complete high school  76.9   Luxury   Male\n",
      "3    28   Married     28                 Some college  13.7  Economy Female\n",
      "4    24   Married     26               College degree  12.5  Economy   Male\n",
      "5    25 Unmarried     23           High school degree  11.3  Economy   Male\n",
      "6    45   Married     76                 Some college  37.2   Luxury   Male\n",
      "7    42 Unmarried     40                 Some college  19.8 Standard   Male\n",
      "8    35 Unmarried     57           High school degree  28.2 Standard Female\n",
      "9    46 Unmarried     24 Did not complete high school  12.2  Economy Female\n",
      "10   34   Married     89                 Some college  46.1   Luxury   Male\n",
      "11   55   Married     72                 Some college  35.5   Luxury Female\n",
      "12   28 Unmarried     24               College degree  11.8  Economy   Male\n",
      "13   31   Married     40               College degree  21.3 Standard Female\n",
      "14   42 Unmarried    137                 Some college  68.9   Luxury Female\n",
      "15   35 Unmarried     70                 Some college  34.1   Luxury   Male\n",
      "16   52   Married    159               College degree  78.9   Luxury   Male\n",
      "17   21   Married     37                 Some college  18.6 Standard   Male\n",
      "18   32 Unmarried     28 Did not complete high school  13.7  Economy Female\n",
      "19   42 Unmarried    109                 Some college  54.7   Luxury Female\n",
      "20   40   Married    117           High school degree  58.3   Luxury Female\n",
      "21   30 Unmarried     23 Did not complete high school  11.8  Economy   Male\n",
      "22   48 Unmarried     21                 Some college   9.5  Economy   Male\n",
      "23   39   Married     17               College degree   8.5  Economy   Male\n",
      "24   42   Married     34           High school degree  16.6 Standard Female\n",
      "25   45   Married    115 Did not complete high school  57.4   Luxury Female\n",
      "26   51   Married     47 Did not complete high school  23.0 Standard   Male\n",
      "27   39   Married     33                 Some college  16.3 Standard   Male\n",
      "28   49 Unmarried    135           High school degree  68.4   Luxury Female\n",
      "29   52 Unmarried    272 Did not complete high school  74.9   Luxury   Male\n",
      "30   53   Married     41 Did not complete high school  19.9 Standard   Male\n",
      "31   34 Unmarried     20                 Some college  10.0  Economy Female\n",
      "32   47   Married     22                 Some college  11.4  Economy   Male\n",
      "33   58 Unmarried     60               College degree  29.7 Standard   Male\n",
      "34   25   Married     58                 Some college  28.4 Standard Female\n",
      "35   57   Married     92           High school degree  45.5   Luxury Female\n",
      "36   30   Married     21               College degree  10.5  Economy   Male\n",
      "37   21 Unmarried     13                 Some college   6.3  Economy Female\n",
      "38   24 Unmarried     24           High school degree  11.8  Economy Female\n",
      "39   56 Unmarried    213               College degree  81.7   Luxury Female\n",
      "40   24 Unmarried     19           High school degree   9.6  Economy   Male\n",
      "41   41 Unmarried     59                 Some college  28.6 Standard   Male\n",
      "42   57   Married    544           High school degree  82.8   Luxury Female\n",
      "43   32 Unmarried     32           High school degree  15.7 Standard   Male\n",
      "44   24 Unmarried     35               College degree  17.4 Standard   Male\n",
      "45   49   Married     35 Did not complete high school  17.3 Standard   Male\n",
      "46   21 Unmarried     22                 Some college  11.0  Economy Female\n",
      "47   33   Married     39           High school degree  19.4 Standard Female\n",
      "48   56 Unmarried    134           High school degree  67.2   Luxury   Male\n",
      "49   54   Married    103 Did not complete high school  51.2   Luxury   Male\n",
      "50   44   Married    240               College degree  75.2   Luxury Female\n",
      "51   20 Unmarried     20           High school degree   9.5  Economy   Male\n",
      "52   47 Unmarried    118           High school degree  59.8   Luxury   Male\n",
      "53   48 Unmarried     78               College degree  38.0   Luxury Female\n",
      "54   25 Unmarried     68               College degree  33.5   Luxury Female\n",
      "55   52 Unmarried     27 Did not complete high school  13.4  Economy   Male\n",
      "56   38   Married     19 Did not complete high school   9.2  Economy Female\n",
      "57   65   Married     20           High school degree  10.1  Economy   Male\n",
      "58   28   Married     31                 Some college  15.6 Standard   Male\n",
      "59   51   Married     51           High school degree  25.5 Standard   Male\n",
      "60   61   Married     84           High school degree  41.5   Luxury   Male\n",
      "61   46   Married    133    Post-undergraduate degree  66.6   Luxury   Male\n",
      "62   43   Married    109           High school degree  54.6   Luxury Female\n",
      "63   28 Unmarried     24                 Some college  12.5  Economy   Male\n",
      "64   39 Unmarried     57                 Some college  28.6 Standard Female\n",
      "65   37 Unmarried     24                 Some college  11.3  Economy   Male\n",
      "66   59   Married     32           High school degree  15.9 Standard   Male\n",
      "67   55 Unmarried     65               College degree  31.5   Luxury Female\n",
      "68   51   Married     70                 Some college  35.6   Luxury   Male\n",
      "69   48   Married    321    Post-undergraduate degree  65.9   Luxury   Male\n",
      "70   40 Unmarried     71                 Some college  35.1   Luxury   Male\n",
      "71   28 Unmarried     35                 Some college  17.3 Standard Female\n",
      "72   39   Married     85           High school degree  44.0   Luxury   Male\n",
      "73   30   Married     20                 Some college   9.7  Economy Female\n",
      "74   40   Married     33                 Some college  16.4 Standard Female\n",
      "75   55 Unmarried     35               College degree  17.2 Standard Female\n",
      "76   48   Married     50           High school degree  25.2 Standard Female\n",
      "77   48   Married   1116               College degree  74.1   Luxury   Male\n",
      "78   49   Married     89           High school degree  44.7   Luxury Female\n",
      "79   56 Unmarried    376 Did not complete high school  64.9   Luxury Female\n",
      "80   44 Unmarried     54 Did not complete high school  27.3 Standard   Male\n",
      "81   43 Unmarried     68           High school degree  32.9   Luxury   Male\n",
      "82   61   Married    117               College degree  60.4   Luxury Female\n",
      "83   37 Unmarried     29    Post-undergraduate degree  14.5  Economy   Male\n",
      "84   29   Married     25           High school degree  12.5  Economy   Male\n",
      "85   30   Married     27 Did not complete high school  13.1  Economy Female\n",
      "86   48 Unmarried    129                 Some college  65.5   Luxury   Male\n",
      "87   51   Married    140 Did not complete high school  70.6   Luxury   Male\n",
      "88   40   Married     57               College degree  29.5 Standard   Male\n",
      "89   66   Married     30 Did not complete high school  15.5 Standard Female\n",
      "90   61   Married     23           High school degree  11.3  Economy   Male\n",
      "91   61   Married     64                 Some college  32.0   Luxury Female\n",
      "92   32   Married     26                 Some college  12.2  Economy   Male\n",
      "93   25 Unmarried     27           High school degree  13.4  Economy   Male\n",
      "94   47 Unmarried     28                 Some college  13.7  Economy   Male\n",
      "95   59   Married    209           High school degree  76.8   Luxury Female\n",
      "96   25   Married     27           High school degree  13.8  Economy Female\n",
      "97   63   Married    478 Did not complete high school  73.0   Luxury   Male\n",
      "98   41 Unmarried     49               College degree  23.9 Standard   Male\n",
      "99   66 Unmarried     30           High school degree  14.3  Economy   Male\n",
      "100  20 Unmarried     36                 Some college  17.5 Standard   Male\n",
      "101  47   Married     62                 Some college  31.2   Luxury   Male\n",
      "102  42 Unmarried     49 Did not complete high school  24.5 Standard Female\n",
      "103  35   Married     49               College degree  24.3 Standard Female\n",
      "104  24 Unmarried     23               College degree  11.9  Economy   Male\n",
      "105  22 Unmarried     23               College degree  11.5  Economy Female\n",
      "106  32   Married     59    Post-undergraduate degree  29.8 Standard   Male\n",
      "107  50   Married     58 Did not complete high school  29.2 Standard   Male\n",
      "108  44   Married     46 Did not complete high school  23.2 Standard   Male\n",
      "109  32 Unmarried     31               College degree  15.4 Standard   Male\n",
      "110  65 Unmarried     40 Did not complete high school  20.9 Standard Female\n",
      "111  47   Married    181           High school degree  90.4   Luxury Female\n",
      "112  42 Unmarried     53               College degree  25.4 Standard Female\n",
      "113  48 Unmarried    144           High school degree  72.7   Luxury Female\n",
      "114  29 Unmarried     22               College degree  10.9  Economy   Male\n",
      "115  36 Unmarried     43           High school degree  20.2 Standard   Male\n",
      "116  34 Unmarried     23           High school degree  11.4  Economy Female\n",
      "117  41 Unmarried     68               College degree  34.3   Luxury Female\n",
      "118  26 Unmarried     41           High school degree  20.9 Standard   Male\n",
      "119  25 Unmarried     23               College degree  11.5  Economy   Male\n",
      "120  53 Unmarried    145           High school degree  70.9   Luxury   Male\n",
      "121  32   Married     33           High school degree  16.8 Standard Female\n",
      "122  46 Unmarried     83           High school degree  40.5   Luxury Female\n",
      "123  44   Married     39 Did not complete high school  19.2 Standard Female\n",
      "124  39 Unmarried     42               College degree  20.6 Standard Female\n",
      "125  39   Married     43 Did not complete high school  22.3 Standard Female\n",
      "126  40 Unmarried     38               College degree  18.9 Standard Female\n",
      "127  25 Unmarried     59               College degree  28.4 Standard Female\n",
      "128  29   Married     57           High school degree  28.7 Standard   Male\n",
      "129  23 Unmarried     24               College degree  11.8  Economy   Male\n",
      "130  48 Unmarried     45 Did not complete high school  22.7 Standard   Male\n",
      "131  24 Unmarried     22           High school degree  10.6  Economy   Male\n",
      "132  59 Unmarried     30                 Some college  14.5  Economy   Male\n",
      "133  31   Married     30           High school degree  15.1 Standard Female\n",
      "134  70 Unmarried     21           High school degree  10.3  Economy Female\n",
      "135  37 Unmarried     51               College degree  24.7 Standard   Male\n",
      "136  59   Married     43                 Some college  21.0 Standard Female\n",
      "137  38 Unmarried     30               College degree  15.2 Standard Female\n",
      "138  56 Unmarried     37                 Some college  18.1 Standard   Male\n",
      "139  48   Married     23 Did not complete high school  11.4  Economy Female\n",
      "140  28   Married     16               College degree   7.9  Economy   Male\n",
      "141  20   Married     19           High school degree   9.6  Economy   Male\n",
      "142  68 Unmarried     22           High school degree  10.7  Economy   Male\n",
      "143  26 Unmarried     38               College degree  18.6 Standard   Male\n",
      "144  29   Married     74               College degree  37.3   Luxury Female\n",
      "145  23   Married     13           High school degree   6.4  Economy   Male\n",
      "146  61 Unmarried     41                 Some college  20.2 Standard   Male\n",
      "147  39 Unmarried     48 Did not complete high school  25.6 Standard Female\n",
      "148  47   Married    176               College degree  88.9   Luxury Female\n",
      "149  36 Unmarried     40               College degree  20.4 Standard   Male\n",
      "150  61 Unmarried    837           High school degree  73.4   Luxury   Male\n",
      "151  32   Married     71               College degree  35.4   Luxury   Male\n",
      "152  28   Married     30               College degree  14.4  Economy   Male\n",
      "153  66   Married     42           High school degree  19.9 Standard Female\n",
      "154  35   Married     51 Did not complete high school  25.4 Standard   Male\n",
      "155  55   Married    352               College degree  67.7   Luxury   Male\n",
      "156  47 Unmarried    122               College degree  60.4   Luxury Female\n",
      "157  34   Married     38                 Some college  19.6 Standard   Male\n",
      "158  29 Unmarried     67           High school degree  34.2   Luxury   Male\n",
      "159  36 Unmarried     31                 Some college  15.6 Standard   Male\n",
      "160  38   Married     51                 Some college  25.9 Standard   Male\n",
      "161  33   Married     35               College degree  17.3 Standard   Male\n",
      "162  46   Married     88           High school degree  42.7   Luxury Female\n",
      "163  29 Unmarried     60               College degree  30.4   Luxury Female\n",
      "164  38   Married     53                 Some college  25.0 Standard Female\n",
      "165  38 Unmarried     42           High school degree  20.5 Standard   Male\n",
      "166  39   Married     29 Did not complete high school  14.3  Economy Female\n",
      "167  34   Married     62    Post-undergraduate degree  31.0   Luxury   Male\n",
      "168  58   Married     46           High school degree  22.2 Standard   Male\n",
      "169  29 Unmarried     31 Did not complete high school  15.4 Standard Female\n",
      "170  64 Unmarried     16               College degree   8.1  Economy   Male\n",
      "171  41 Unmarried     36                 Some college  18.2 Standard   Male\n",
      "172  44 Unmarried     25 Did not complete high school  11.9  Economy Female\n",
      "173  60   Married     82 Did not complete high school  40.3   Luxury Female\n",
      "174  32 Unmarried     25               College degree  12.7  Economy Female\n",
      "175  35 Unmarried     37                 Some college  18.6 Standard   Male\n",
      "176  58   Married     19           High school degree   9.6  Economy   Male\n",
      "177  37 Unmarried     30           High school degree  15.0 Standard Female\n",
      "178  63   Married    208           High school degree  83.1   Luxury Female\n",
      "179  22   Married     25                 Some college  12.1  Economy Female\n",
      "180  66   Married     72           High school degree  34.8   Luxury Female\n",
      "181  26 Unmarried     19 Did not complete high school   9.4  Economy   Male\n",
      "182  44 Unmarried    104           High school degree  51.0   Luxury Female\n",
      "183  41 Unmarried     25           High school degree  12.4  Economy Female\n",
      "184  26   Married     15 Did not complete high school   7.6  Economy   Male\n",
      "185  48 Unmarried    371               College degree  74.6   Luxury Female\n",
      "186  45 Unmarried    135 Did not complete high school  67.6   Luxury Female\n",
      "187  26   Married     50           High school degree  25.3 Standard   Male\n",
      "188  31 Unmarried     22 Did not complete high school  11.2  Economy Female\n",
      "189  54   Married    354           High school degree  70.7   Luxury   Male\n",
      "190  34   Married     38               College degree  18.3 Standard   Male\n",
      "191  32   Married     45 Did not complete high school  22.1 Standard   Male\n",
      "192  35 Unmarried     32           High school degree  15.7 Standard Female\n",
      "193  22   Married     32           High school degree  16.2 Standard   Male\n",
      "194  25 Unmarried     30                 Some college  14.6  Economy   Male\n",
      "195  59   Married    103           High school degree  51.2   Luxury Female\n",
      "196  28   Married     15    Post-undergraduate degree   7.5  Economy Female\n",
      "197  37   Married     52           High school degree  25.4 Standard Female\n",
      "198  43 Unmarried     29 Did not complete high school  14.0  Economy   Male\n",
      "199  42   Married     69           High school degree  34.1   Luxury Female\n",
      "200  35 Unmarried     38           High school degree  19.0 Standard Female\n",
      "201  22 Unmarried     32 Did not complete high school  15.7 Standard   Male\n",
      "202  55 Unmarried    298               College degree  80.5   Luxury   Male\n",
      "203  63 Unmarried     11 Did not complete high school   5.6  Economy   Male\n",
      "204  40   Married     61                 Some college  31.7   Luxury   Male\n",
      "205  29 Unmarried     59 Did not complete high school  29.4 Standard   Male\n",
      "206  32   Married     52 Did not complete high school  25.6 Standard Female\n",
      "207  47 Unmarried    138               College degree  69.2   Luxury   Male\n",
      "208  42 Unmarried     28                 Some college  13.9  Economy Female\n",
      "209  50 Unmarried     23 Did not complete high school  11.7  Economy Female\n",
      "210  52   Married     34                 Some college  16.9 Standard Female\n",
      "211  33   Married     26 Did not complete high school  13.1  Economy Female\n",
      "212  54 Unmarried    286               College degree  73.6   Luxury   Male\n",
      "213  37   Married     32 Did not complete high school  15.9 Standard Female\n",
      "214  57   Married    307               College degree  73.5   Luxury Female\n",
      "215  70   Married     11           High school degree   5.5  Economy   Male\n",
      "216  23   Married     14               College degree   6.9  Economy Female\n",
      "217  55 Unmarried    196                 Some college  98.2   Luxury Female\n",
      "218  48 Unmarried     81           High school degree  41.1   Luxury   Male\n",
      "219  38 Unmarried     40           High school degree  20.1 Standard   Male\n",
      "220  47   Married     65 Did not complete high school  32.5   Luxury   Male\n",
      "221  29 Unmarried     21               College degree  10.5  Economy   Male\n",
      "222  27   Married     26                 Some college  13.1  Economy   Male\n",
      "223  29   Married     40                 Some college  19.8 Standard Female\n",
      "224  28 Unmarried     26 Did not complete high school  12.6  Economy   Male\n",
      "225  47   Married     55                 Some college  27.2 Standard Female\n",
      "226  45   Married     22                 Some college  11.1  Economy Female\n",
      "227  24 Unmarried     19                 Some college   9.6  Economy   Male\n",
      "228  41   Married    204           High school degree  67.9   Luxury Female\n",
      "229  18 Unmarried     13           High school degree   6.6  Economy   Male\n",
      "230  42 Unmarried    140                 Some college  69.9   Luxury Female\n",
      "231  45   Married     46               College degree  23.1 Standard   Male\n",
      "232  34   Married     40    Post-undergraduate degree  19.8 Standard Female\n",
      "233  38   Married    105                 Some college  53.5   Luxury Female\n",
      "234  36 Unmarried    137               College degree  67.5   Luxury   Male\n",
      "235  19   Married     16           High school degree   7.9  Economy Female\n",
      "236  28 Unmarried     24 Did not complete high school  11.9  Economy Female\n",
      "237  41   Married     32           High school degree  15.7 Standard   Male\n",
      "238  54 Unmarried     47               College degree  23.9 Standard Female\n",
      "239  42 Unmarried    207                 Some college  70.5   Luxury Female\n",
      "240  47   Married    118               College degree  58.9   Luxury   Male\n",
      "241  61 Unmarried    288               College degree  70.9   Luxury Female\n",
      "242  66   Married     13 Did not complete high school   6.5  Economy   Male\n",
      "243  51   Married     73                 Some college  36.7   Luxury   Male\n",
      "244  55 Unmarried     33 Did not complete high school  16.6 Standard Female\n",
      "245  36   Married     28                 Some college  13.3  Economy   Male\n",
      "246  39   Married     63                 Some college  30.7   Luxury   Male\n",
      "247  38 Unmarried     30               College degree  14.5  Economy   Male\n",
      "248  44   Married     89                 Some college  44.3   Luxury Female\n",
      "249  52   Married     78 Did not complete high school  38.7   Luxury Female\n",
      "250  55 Unmarried   1045    Post-undergraduate degree  70.9   Luxury Female\n",
      "251  58   Married     97 Did not complete high school  49.1   Luxury   Male\n",
      "252  61 Unmarried    119           High school degree  58.7   Luxury   Male\n",
      "253  64 Unmarried     10 Did not complete high school   4.9  Economy Female\n",
      "254  45   Married    242                 Some college  76.1   Luxury Female\n",
      "255  66 Unmarried    333 Did not complete high school  63.2   Luxury   Male\n",
      "256  31 Unmarried     29           High school degree  15.2 Standard Female\n",
      "257  31 Unmarried     26           High school degree  12.6  Economy   Male\n",
      "258  36   Married     56               College degree  29.4 Standard   Male\n",
      "259  20 Unmarried     21                 Some college  10.6  Economy Female\n",
      "260  40   Married     35                 Some college  17.3 Standard Female\n",
      "261  38   Married     40           High school degree  19.3 Standard   Male\n",
      "262  51 Unmarried     89           High school degree  43.0   Luxury   Male\n",
      "263  47 Unmarried     36 Did not complete high school  18.3 Standard Female\n",
      "264  31   Married     32                 Some college  15.4 Standard Female\n",
      "265  34 Unmarried     44               College degree  22.1 Standard Female\n",
      "266  35   Married     41           High school degree  20.2 Standard   Male\n",
      "267  66 Unmarried     45 Did not complete high school  23.7 Standard   Male\n",
      "268  63 Unmarried    118 Did not complete high school  60.2   Luxury Female\n",
      "269  34   Married    102               College degree  51.0   Luxury Female\n",
      "270  37   Married     31                 Some college  15.4 Standard Female\n",
      "271  34   Married     37 Did not complete high school  18.4 Standard   Male\n",
      "272  36   Married    109               College degree  56.0   Luxury   Male\n",
      "273  42 Unmarried     42               College degree  21.6 Standard   Male\n",
      "274  63 Unmarried    143 Did not complete high school  72.2   Luxury Female\n",
      "275  30   Married     50               College degree  24.1 Standard Female\n",
      "276  58   Married    280 Did not complete high school  68.5   Luxury Female\n",
      "277  36 Unmarried     37           High school degree  18.7 Standard Female\n",
      "278  53   Married    393                 Some college  75.0   Luxury Female\n",
      "279  43 Unmarried     86               College degree  43.2   Luxury Female\n",
      "280  33 Unmarried     24               College degree  12.0  Economy Female\n",
      "281  37   Married     88               College degree  43.3   Luxury Female\n",
      "282  43   Married     66                 Some college  33.7   Luxury Female\n",
      "283  45 Unmarried    196                 Some college  96.3   Luxury Female\n",
      "284  37 Unmarried     27                 Some college  13.8  Economy Female\n",
      "285  19 Unmarried     15           High school degree   7.4  Economy   Male\n",
      "286  55 Unmarried     66           High school degree  33.1   Luxury   Male\n",
      "287  40 Unmarried     94           High school degree  47.8   Luxury   Male\n",
      "288  61 Unmarried     11                 Some college   5.2  Economy Female\n",
      "289  25   Married     20 Did not complete high school   9.6  Economy Female\n",
      "290  35 Unmarried    116    Post-undergraduate degree  58.6   Luxury   Male\n",
      "291  60 Unmarried     43 Did not complete high school  21.4 Standard   Male\n",
      "292  37 Unmarried     54    Post-undergraduate degree  26.4 Standard   Male\n",
      "293  38 Unmarried     76                 Some college  37.1   Luxury Female\n",
      "294  46 Unmarried     36           High school degree  18.0 Standard Female\n",
      "295  43 Unmarried     56               College degree  28.4 Standard   Male\n",
      "296  40   Married     50               College degree  24.0 Standard   Male\n",
      "297  34 Unmarried     22                 Some college  11.0  Economy Female\n",
      "298  40   Married     33    Post-undergraduate degree  16.7 Standard   Male\n",
      "299  44   Married     41    Post-undergraduate degree  20.0 Standard Female\n",
      "300  28   Married     41           High school degree  21.5 Standard   Male\n",
      "301  47   Married     65               College degree  31.9   Luxury   Male\n",
      "302  23   Married     25                 Some college  12.3  Economy   Male\n",
      "303  51   Married     33           High school degree  16.3 Standard   Male\n",
      "304  39   Married     23 Did not complete high school  11.8  Economy   Male\n",
      "305  54   Married     61 Did not complete high school  30.1   Luxury Female\n",
      "306  54 Unmarried    314                 Some college  76.2   Luxury Female\n",
      "307  28 Unmarried     42           High school degree  20.8 Standard   Male\n",
      "308  26   Married     26    Post-undergraduate degree  12.9  Economy Female\n",
      "309  42   Married     58    Post-undergraduate degree  28.9 Standard Female\n",
      "310  44   Married     40 Did not complete high school  19.3 Standard Female\n",
      "311  41   Married     43                 Some college  20.0 Standard Female\n",
      "312  40   Married     33 Did not complete high school  16.5 Standard   Male\n",
      "313  39   Married     52           High school degree  26.7 Standard Female\n",
      "314  35 Unmarried     57                 Some college  27.5 Standard   Male\n",
      "315  45   Married    143                 Some college  70.7   Luxury Female\n",
      "316  48   Married     56               College degree  27.8 Standard Female\n",
      "317  71 Unmarried     69 Did not complete high school  34.8   Luxury Female\n",
      "318  31 Unmarried     34           High school degree  17.2 Standard   Male\n",
      "319  50   Married    346    Post-undergraduate degree  78.0   Luxury   Male\n",
      "320  55 Unmarried    167    Post-undergraduate degree  83.2   Luxury   Male\n",
      "321  32   Married     27           High school degree  12.8  Economy   Male\n",
      "322  51 Unmarried    126           High school degree  62.6   Luxury Female\n",
      "323  52 Unmarried     46           High school degree  23.4 Standard   Male\n",
      "324  46 Unmarried     33                 Some college  15.9 Standard Female\n",
      "325  49 Unmarried    349                 Some college  77.8   Luxury   Male\n",
      "326  48 Unmarried     40 Did not complete high school  19.4 Standard   Male\n",
      "327  23 Unmarried     20               College degree  10.5  Economy Female\n",
      "328  52   Married     73 Did not complete high school  37.1   Luxury Female\n",
      "329  50 Unmarried     66                 Some college  33.9   Luxury   Male\n",
      "330  60   Married    102           High school degree  49.8   Luxury Female\n",
      "331  21 Unmarried     14           High school degree   7.0  Economy   Male\n",
      "332  36   Married     45    Post-undergraduate degree  21.9 Standard   Male\n",
      "333  49 Unmarried     50 Did not complete high school  25.9 Standard   Male\n",
      "334  48   Married    123               College degree  60.9   Luxury   Male\n",
      "335  25 Unmarried     64                 Some college  32.4   Luxury Female\n",
      "336  35   Married     28           High school degree  13.5  Economy Female\n",
      "337  49 Unmarried    102    Post-undergraduate degree  51.6   Luxury Female\n",
      "338  47   Married    107               College degree  53.6   Luxury   Male\n",
      "339  27 Unmarried     26           High school degree  12.9  Economy Female\n",
      "340  34   Married     24           High school degree  11.9  Economy Female\n",
      "341  36   Married     30 Did not complete high school  15.2 Standard Female\n",
      "342  50   Married     37 Did not complete high school  18.3 Standard   Male\n",
      "343  29 Unmarried     28    Post-undergraduate degree  13.5  Economy Female\n",
      "344  33   Married     21 Did not complete high school  10.5  Economy   Male\n",
      "345  42 Unmarried     26 Did not complete high school  13.1  Economy   Male\n",
      "346  33   Married     23 Did not complete high school  11.9  Economy   Male\n",
      "347  30   Married     32                 Some college  16.0 Standard   Male\n",
      "348  51 Unmarried    146 Did not complete high school  73.9   Luxury   Male\n",
      "349  27 Unmarried     28                 Some college  14.0  Economy   Male\n",
      "350  29 Unmarried     16                 Some college   8.1  Economy   Male\n",
      "351  32 Unmarried     37               College degree  18.9 Standard   Male\n",
      "352  44   Married     31 Did not complete high school  15.3 Standard   Male\n",
      "353  34   Married    112               College degree  56.9   Luxury   Male\n",
      "354  20   Married     32                 Some college  16.2 Standard Female\n",
      "355  49 Unmarried     78 Did not complete high school  39.6   Luxury   Male\n",
      "356  34 Unmarried    100               College degree  50.0   Luxury Female\n",
      "357  34   Married     30           High school degree  14.9  Economy   Male\n",
      "358  31 Unmarried     51           High school degree  24.7 Standard Female\n",
      "359  39   Married    238               College degree  73.6   Luxury Female\n",
      "360  33   Married     42               College degree  20.8 Standard   Male\n",
      "361  54   Married     69 Did not complete high school  35.2   Luxury Female\n",
      "362  31 Unmarried     60               College degree  29.3 Standard Female\n",
      "363  34 Unmarried     71 Did not complete high school  35.3   Luxury Female\n",
      "364  29   Married     28               College degree  14.3  Economy Female\n",
      "365  24 Unmarried     15 Did not complete high school   7.2  Economy   Male\n",
      "366  49   Married    154           High school degree  76.1   Luxury Female\n",
      "367  19   Married     14 Did not complete high school   7.1  Economy Female\n",
      "368  49 Unmarried     35 Did not complete high school  17.7 Standard Female\n",
      "369  40 Unmarried     50               College degree  24.8 Standard   Male\n",
      "370  28 Unmarried     74    Post-undergraduate degree  37.4   Luxury Female\n",
      "371  36   Married    130                 Some college  63.8   Luxury Female\n",
      "372  46 Unmarried     46               College degree  22.8 Standard   Male\n",
      "373  24   Married     25                 Some college  12.6  Economy Female\n",
      "374  38   Married     78                 Some college  39.0   Luxury   Male\n",
      "375  31 Unmarried     28                 Some college  13.9  Economy   Male\n",
      "376  37 Unmarried     58           High school degree  29.4 Standard   Male\n",
      "377  58 Unmarried     17    Post-undergraduate degree   8.4  Economy   Male\n",
      "378  37 Unmarried     31    Post-undergraduate degree  15.4 Standard Female\n",
      "379  73 Unmarried     11 Did not complete high school   5.3  Economy   Male\n",
      "380  44 Unmarried     27           High school degree  13.3  Economy Female\n",
      "381  66 Unmarried     68           High school degree  34.7   Luxury Female\n",
      "382  50 Unmarried     70           High school degree  34.6   Luxury Female\n",
      "383  30 Unmarried     25               College degree  12.6  Economy   Male\n",
      "384  41 Unmarried     28                 Some college  13.6  Economy Female\n",
      "385  57 Unmarried    143 Did not complete high school  72.0   Luxury   Male\n",
      "386  71 Unmarried    147               College degree  74.2   Luxury   Male\n",
      "387  53   Married     81           High school degree  39.5   Luxury   Male\n",
      "388  38 Unmarried     56           High school degree  27.1 Standard Female\n",
      "389  46 Unmarried    114               College degree  57.1   Luxury   Male\n",
      "390  61 Unmarried     29           High school degree  14.8  Economy Female\n",
      "391  48   Married     28 Did not complete high school  13.8  Economy Female\n",
      "392  35   Married     19    Post-undergraduate degree   9.3  Economy Female\n",
      "393  55   Married    345               College degree  77.6   Luxury Female\n",
      "394  51 Unmarried    143           High school degree  72.7   Luxury   Male\n",
      "395  45 Unmarried     61           High school degree  30.8   Luxury Female\n",
      "396  50   Married     86                 Some college  42.1   Luxury   Male\n",
      "397  36 Unmarried     49 Did not complete high school  24.3 Standard Female\n",
      "398  44   Married     49 Did not complete high school  24.4 Standard Female\n",
      "399  38 Unmarried     25           High school degree  12.5  Economy   Male\n",
      "400  50 Unmarried     61               College degree  30.7   Luxury Female\n",
      "401  37 Unmarried     57           High school degree  28.0 Standard   Male\n",
      "402  48 Unmarried    201               College degree  73.7   Luxury Female\n",
      "403  46   Married     35 Did not complete high school  17.7 Standard   Male\n",
      "404  51 Unmarried     51                 Some college  26.1 Standard   Male\n",
      "405  22   Married     21               College degree  10.7  Economy Female\n",
      "406  72 Unmarried     17 Did not complete high school   8.5  Economy   Male\n",
      "407  61 Unmarried     23                 Some college  11.7  Economy Female\n",
      "408  40   Married     29                 Some college  14.2  Economy   Male\n",
      "409  49 Unmarried     39 Did not complete high school  20.0 Standard   Male\n",
      "410  43   Married     91           High school degree  46.5   Luxury   Male\n",
      "411  26 Unmarried     31 Did not complete high school  15.7 Standard Female\n",
      "412  41   Married    152 Did not complete high school  75.7   Luxury Female\n",
      "413  44   Married     40 Did not complete high school  19.5 Standard   Male\n",
      "414  27 Unmarried    102               College degree  49.2   Luxury   Male\n",
      "415  48 Unmarried     98               College degree  48.6   Luxury Female\n",
      "416  44   Married     39                 Some college  19.7 Standard Female\n",
      "417  53 Unmarried    254               College degree  79.4   Luxury Female\n",
      "418  41 Unmarried     71               College degree  34.6   Luxury Female\n",
      "419  63 Unmarried    118           High school degree  58.1   Luxury   Male\n",
      "420  29   Married     42 Did not complete high school  19.8 Standard   Male\n",
      "421  39 Unmarried     81           High school degree  39.8   Luxury Female\n",
      "422  39   Married     26                 Some college  13.1  Economy Female\n",
      "423  36 Unmarried     87               College degree  43.8   Luxury   Male\n",
      "424  28   Married     68 Did not complete high school  34.2   Luxury   Male\n",
      "425  54 Unmarried    130 Did not complete high school  65.6   Luxury   Male\n",
      "426  36   Married     78           High school degree  39.1   Luxury Female\n",
      "427  57 Unmarried   1070                 Some college  79.6   Luxury Female\n",
      "428  41 Unmarried     42 Did not complete high school  21.5 Standard   Male\n",
      "429  31   Married     45                 Some college  22.1 Standard   Male\n",
      "430  39   Married     93               College degree  46.4   Luxury Female\n",
      "431  54 Unmarried    151               College degree  77.5   Luxury   Male\n",
      "432  49 Unmarried    104                 Some college  50.4   Luxury Female\n",
      "433  54   Married    120 Did not complete high school  60.1   Luxury   Male\n",
      "434  36   Married     33                 Some college  16.3 Standard Female\n",
      "435  53   Married    111               College degree  54.6   Luxury   Male\n",
      "436  60   Married      9                 Some college   4.4  Economy   Male\n",
      "437  29   Married     29 Did not complete high school  14.5  Economy Female\n",
      "438  50   Married     24 Did not complete high school  12.4  Economy Female\n",
      "439  62   Married     50           High school degree  23.6 Standard   Male\n",
      "440  44 Unmarried    100 Did not complete high school  48.7   Luxury   Male\n",
      "441  65   Married    235 Did not complete high school  77.1   Luxury Female\n",
      "442  56 Unmarried    210 Did not complete high school  75.8   Luxury Female\n",
      "443  32   Married     40               College degree  20.5 Standard Female\n",
      "444  40 Unmarried     86               College degree  42.2   Luxury   Male\n",
      "445  20   Married     19           High school degree   9.5  Economy Female\n",
      "446  59   Married     16           High school degree   8.1  Economy   Male\n",
      "447  58 Unmarried     10           High school degree   5.0  Economy   Male\n",
      "448  37   Married     75    Post-undergraduate degree  38.1   Luxury Female\n",
      "449  52 Unmarried    123           High school degree  60.8   Luxury Female\n",
      "450  29   Married     43           High school degree  22.2 Standard   Male\n",
      "451  48   Married     27           High school degree  13.1  Economy   Male\n",
      "452  25 Unmarried     21 Did not complete high school  10.8  Economy Female\n",
      "453  35 Unmarried    152               College degree  75.2   Luxury   Male\n",
      "454  28   Married     91    Post-undergraduate degree  46.3   Luxury Female\n",
      "455  42   Married     61    Post-undergraduate degree  30.3   Luxury   Male\n",
      "456  53   Married    117 Did not complete high school  58.5   Luxury   Male\n",
      "457  67   Married     10 Did not complete high school   5.0  Economy   Male\n",
      "458  31   Married     95                 Some college  47.0   Luxury Female\n",
      "459  43 Unmarried     67 Did not complete high school  33.2   Luxury   Male\n",
      "460  60   Married     60           High school degree  29.3 Standard   Male\n",
      "461  41 Unmarried    198               College degree  98.6   Luxury   Male\n",
      "462  62   Married     63               College degree  31.6   Luxury   Male\n",
      "463  37 Unmarried     28 Did not complete high school  13.9  Economy Female\n",
      "464  37 Unmarried     46               College degree  24.1 Standard Female\n",
      "465  19   Married     20           High school degree  10.3  Economy Female\n",
      "466  63   Married     69 Did not complete high school  34.4   Luxury   Male\n",
      "467  41 Unmarried     69                 Some college  34.5   Luxury Female\n",
      "468  59   Married     57 Did not complete high school  29.3 Standard Female\n",
      "469  70 Unmarried      9           High school degree   4.6  Economy   Male\n",
      "470  44   Married     48                 Some college  23.2 Standard   Male\n",
      "471  53 Unmarried    129 Did not complete high school  64.7   Luxury Female\n",
      "472  37   Married     40 Did not complete high school  19.6 Standard Female\n",
      "473  64   Married     15           High school degree   7.4  Economy Female\n",
      "474  56   Married     86 Did not complete high school  42.5   Luxury   Male\n",
      "475  31   Married     42 Did not complete high school  20.6 Standard   Male\n",
      "476  29   Married     29                 Some college  14.3  Economy   Male\n",
      "477  51   Married     77                 Some college  38.5   Luxury Female\n",
      "478  25   Married     22 Did not complete high school  11.2  Economy Female\n",
      "479  44   Married    139               College degree  70.3   Luxury   Male\n",
      "480  35 Unmarried     35           High school degree  17.4 Standard Female\n",
      "481  29 Unmarried     30                 Some college  14.9  Economy   Male\n",
      "482  60   Married    114               College degree  57.2   Luxury   Male\n",
      "483  49   Married     38               College degree  18.7 Standard Female\n",
      "484  21 Unmarried     28                 Some college  13.6  Economy   Male\n",
      "485  63 Unmarried     11           High school degree   5.4  Economy Female\n",
      "486  20 Unmarried     18                 Some college   9.1  Economy   Male\n",
      "487  33 Unmarried     36 Did not complete high school  17.3 Standard Female\n",
      "488  61 Unmarried     24 Did not complete high school  11.8  Economy   Male\n",
      "489  53   Married     34                 Some college  16.5 Standard Female\n",
      "490  35 Unmarried     47                 Some college  23.9 Standard   Male\n",
      "491  46 Unmarried     49 Did not complete high school  23.9 Standard Female\n",
      "492  23 Unmarried     19 Did not complete high school   9.3  Economy Female\n",
      "493  47 Unmarried     57           High school degree  29.5 Standard Female\n",
      "494  49   Married     86           High school degree  43.3   Luxury Female\n",
      "495  43 Unmarried    101               College degree  49.4   Luxury Female\n",
      "496  64 Unmarried     11               College degree   5.6  Economy Female\n",
      "497  53   Married    227           High school degree  76.3   Luxury   Male\n",
      "498  32   Married     18           High school degree   9.0  Economy Female\n",
      "499  28   Married     43               College degree  21.0 Standard Female\n",
      "500  25   Married     26               College degree  12.9  Economy Female\n",
      "501  31   Married     25    Post-undergraduate degree  12.4  Economy   Male\n",
      "502  46 Unmarried     77                 Some college  37.6   Luxury Female\n",
      "503  34   Married     31 Did not complete high school  15.8 Standard Female\n",
      "504  26   Married     23 Did not complete high school  11.7  Economy Female\n",
      "505  42   Married     41 Did not complete high school  21.2 Standard   Male\n",
      "506  58   Married    496                 Some college  78.6   Luxury Female\n",
      "507  55 Unmarried     89               College degree  43.8   Luxury   Male\n",
      "508  63   Married     91           High school degree  45.0   Luxury Female\n",
      "509  59   Married    141 Did not complete high school  70.0   Luxury   Male\n",
      "510  43   Married     54           High school degree  27.0 Standard   Male\n",
      "    retired EducationLevel\n",
      "1        No              0\n",
      "2        No              0\n",
      "3        No              4\n",
      "4        No              5\n",
      "5        No              1\n",
      "6        No              4\n",
      "7        No              4\n",
      "8        No              1\n",
      "9        No              0\n",
      "10       No              4\n",
      "11       No              4\n",
      "12       No              5\n",
      "13       No              5\n",
      "14       No              4\n",
      "15       No              4\n",
      "16       No              5\n",
      "17       No              4\n",
      "18       No              0\n",
      "19       No              4\n",
      "20       No              1\n",
      "21       No              0\n",
      "22       No              4\n",
      "23       No              5\n",
      "24       No              1\n",
      "25       No              0\n",
      "26       No              0\n",
      "27       No              4\n",
      "28       No              1\n",
      "29       No              0\n",
      "30       No              0\n",
      "31       No              4\n",
      "32       No              4\n",
      "33       No              5\n",
      "34       No              4\n",
      "35       No              1\n",
      "36       No              5\n",
      "37       No              4\n",
      "38       No              1\n",
      "39       No              5\n",
      "40       No              1\n",
      "41       No              4\n",
      "42       No              1\n",
      "43       No              1\n",
      "44       No              5\n",
      "45       No              0\n",
      "46       No              4\n",
      "47       No              1\n",
      "48       No              1\n",
      "49       No              0\n",
      "50       No              5\n",
      "51       No              1\n",
      "52       No              1\n",
      "53       No              5\n",
      "54       No              5\n",
      "55       No              0\n",
      "56       No              0\n",
      "57      Yes              1\n",
      "58       No              4\n",
      "59       No              1\n",
      "60       No              1\n",
      "61       No              3\n",
      "62       No              1\n",
      "63       No              4\n",
      "64       No              4\n",
      "65       No              4\n",
      "66       No              1\n",
      "67       No              5\n",
      "68       No              4\n",
      "69       No              3\n",
      "70       No              4\n",
      "71       No              4\n",
      "72       No              1\n",
      "73       No              4\n",
      "74       No              4\n",
      "75       No              5\n",
      "76       No              1\n",
      "77       No              5\n",
      "78       No              1\n",
      "79       No              0\n",
      "80       No              0\n",
      "81       No              1\n",
      "82       No              5\n",
      "83       No              3\n",
      "84       No              1\n",
      "85       No              0\n",
      "86       No              4\n",
      "87       No              0\n",
      "88       No              5\n",
      "89       No              0\n",
      "90      Yes              1\n",
      "91       No              4\n",
      "92       No              4\n",
      "93       No              1\n",
      "94       No              4\n",
      "95       No              1\n",
      "96       No              1\n",
      "97       No              0\n",
      "98       No              5\n",
      "99       No              1\n",
      "100      No              4\n",
      "101      No              4\n",
      "102      No              0\n",
      "103      No              5\n",
      "104      No              5\n",
      "105      No              5\n",
      "106      No              3\n",
      "107      No              0\n",
      "108      No              0\n",
      "109      No              5\n",
      "110      No              0\n",
      "111      No              1\n",
      "112      No              5\n",
      "113      No              1\n",
      "114      No              5\n",
      "115      No              1\n",
      "116      No              1\n",
      "117      No              5\n",
      "118      No              1\n",
      "119      No              5\n",
      "120      No              1\n",
      "121      No              1\n",
      "122      No              1\n",
      "123      No              0\n",
      "124      No              5\n",
      "125      No              0\n",
      "126      No              5\n",
      "127      No              5\n",
      "128      No              1\n",
      "129      No              5\n",
      "130      No              0\n",
      "131      No              1\n",
      "132      No              4\n",
      "133      No              1\n",
      "134     Yes              1\n",
      "135      No              5\n",
      "136      No              4\n",
      "137      No              5\n",
      "138      No              4\n",
      "139      No              0\n",
      "140      No              5\n",
      "141      No              1\n",
      "142     Yes              1\n",
      "143      No              5\n",
      "144      No              5\n",
      "145      No              1\n",
      "146     Yes              4\n",
      "147      No              0\n",
      "148      No              5\n",
      "149      No              5\n",
      "150      No              1\n",
      "151      No              5\n",
      "152      No              5\n",
      "153      No              1\n",
      "154      No              0\n",
      "155      No              5\n",
      "156      No              5\n",
      "157      No              4\n",
      "158      No              1\n",
      "159      No              4\n",
      "160      No              4\n",
      "161      No              5\n",
      "162      No              1\n",
      "163      No              5\n",
      "164      No              4\n",
      "165      No              1\n",
      "166      No              0\n",
      "167      No              3\n",
      "168      No              1\n",
      "169      No              0\n",
      "170     Yes              5\n",
      "171      No              4\n",
      "172      No              0\n",
      "173      No              0\n",
      "174      No              5\n",
      "175      No              4\n",
      "176      No              1\n",
      "177      No              1\n",
      "178      No              1\n",
      "179      No              4\n",
      "180      No              1\n",
      "181      No              0\n",
      "182      No              1\n",
      "183      No              1\n",
      "184      No              0\n",
      "185      No              5\n",
      "186      No              0\n",
      "187      No              1\n",
      "188      No              0\n",
      "189      No              1\n",
      "190      No              5\n",
      "191      No              0\n",
      "192      No              1\n",
      "193      No              1\n",
      "194      No              4\n",
      "195      No              1\n",
      "196      No              3\n",
      "197      No              1\n",
      "198      No              0\n",
      "199      No              1\n",
      "200      No              1\n",
      "201      No              0\n",
      "202      No              5\n",
      "203     Yes              0\n",
      "204      No              4\n",
      "205      No              0\n",
      "206      No              0\n",
      "207      No              5\n",
      "208      No              4\n",
      "209      No              0\n",
      "210      No              4\n",
      "211      No              0\n",
      "212      No              5\n",
      "213      No              0\n",
      "214      No              5\n",
      "215     Yes              1\n",
      "216      No              5\n",
      "217      No              4\n",
      "218      No              1\n",
      "219      No              1\n",
      "220      No              0\n",
      "221      No              5\n",
      "222      No              4\n",
      "223      No              4\n",
      "224      No              0\n",
      "225      No              4\n",
      "226      No              4\n",
      "227      No              4\n",
      "228      No              1\n",
      "229      No              1\n",
      "230      No              4\n",
      "231      No              5\n",
      "232      No              3\n",
      "233      No              4\n",
      "234      No              5\n",
      "235      No              1\n",
      "236      No              0\n",
      "237      No              1\n",
      "238      No              5\n",
      "239      No              4\n",
      "240      No              5\n",
      "241      No              5\n",
      "242     Yes              0\n",
      "243      No              4\n",
      "244      No              0\n",
      "245      No              4\n",
      "246      No              4\n",
      "247      No              5\n",
      "248      No              4\n",
      "249      No              0\n",
      "250      No              3\n",
      "251      No              0\n",
      "252      No              1\n",
      "253     Yes              0\n",
      "254      No              4\n",
      "255      No              0\n",
      "256      No              1\n",
      "257      No              1\n",
      "258      No              5\n",
      "259      No              4\n",
      "260      No              4\n",
      "261      No              1\n",
      "262      No              1\n",
      "263      No              0\n",
      "264      No              4\n",
      "265      No              5\n",
      "266      No              1\n",
      "267      No              0\n",
      "268      No              0\n",
      "269      No              5\n",
      "270      No              4\n",
      "271      No              0\n",
      "272      No              5\n",
      "273      No              5\n",
      "274      No              0\n",
      "275      No              5\n",
      "276      No              0\n",
      "277      No              1\n",
      "278      No              4\n",
      "279      No              5\n",
      "280      No              5\n",
      "281      No              5\n",
      "282      No              4\n",
      "283      No              4\n",
      "284      No              4\n",
      "285      No              1\n",
      "286      No              1\n",
      "287      No              1\n",
      "288     Yes              4\n",
      "289      No              0\n",
      "290      No              3\n",
      "291      No              0\n",
      "292      No              3\n",
      "293      No              4\n",
      "294      No              1\n",
      "295      No              5\n",
      "296      No              5\n",
      "297      No              4\n",
      "298      No              3\n",
      "299      No              3\n",
      "300      No              1\n",
      "301      No              5\n",
      "302      No              4\n",
      "303      No              1\n",
      "304      No              0\n",
      "305      No              0\n",
      "306      No              4\n",
      "307      No              1\n",
      "308      No              3\n",
      "309      No              3\n",
      "310      No              0\n",
      "311      No              4\n",
      "312      No              0\n",
      "313      No              1\n",
      "314      No              4\n",
      "315      No              4\n",
      "316      No              5\n",
      "317      No              0\n",
      "318      No              1\n",
      "319      No              3\n",
      "320      No              3\n",
      "321      No              1\n",
      "322      No              1\n",
      "323      No              1\n",
      "324      No              4\n",
      "325      No              4\n",
      "326      No              0\n",
      "327      No              5\n",
      "328      No              0\n",
      "329      No              4\n",
      "330      No              1\n",
      "331      No              1\n",
      "332      No              3\n",
      "333      No              0\n",
      "334      No              5\n",
      "335      No              4\n",
      "336      No              1\n",
      "337      No              3\n",
      "338      No              5\n",
      "339      No              1\n",
      "340      No              1\n",
      "341      No              0\n",
      "342      No              0\n",
      "343      No              3\n",
      "344      No              0\n",
      "345      No              0\n",
      "346      No              0\n",
      "347      No              4\n",
      "348      No              0\n",
      "349      No              4\n",
      "350      No              4\n",
      "351      No              5\n",
      "352      No              0\n",
      "353      No              5\n",
      "354      No              4\n",
      "355      No              0\n",
      "356      No              5\n",
      "357      No              1\n",
      "358      No              1\n",
      "359      No              5\n",
      "360      No              5\n",
      "361      No              0\n",
      "362      No              5\n",
      "363      No              0\n",
      "364      No              5\n",
      "365      No              0\n",
      "366      No              1\n",
      "367      No              0\n",
      "368      No              0\n",
      "369      No              5\n",
      "370      No              3\n",
      "371      No              4\n",
      "372      No              5\n",
      "373      No              4\n",
      "374      No              4\n",
      "375      No              4\n",
      "376      No              1\n",
      "377     Yes              3\n",
      "378      No              3\n",
      "379     Yes              0\n",
      "380      No              1\n",
      "381      No              1\n",
      "382      No              1\n",
      "383      No              5\n",
      "384      No              4\n",
      "385      No              0\n",
      "386     Yes              5\n",
      "387      No              1\n",
      "388      No              1\n",
      "389      No              5\n",
      "390      No              1\n",
      "391      No              0\n",
      "392      No              3\n",
      "393      No              5\n",
      "394      No              1\n",
      "395      No              1\n",
      "396      No              4\n",
      "397      No              0\n",
      "398      No              0\n",
      "399      No              1\n",
      "400      No              5\n",
      "401      No              1\n",
      "402      No              5\n",
      "403      No              0\n",
      "404      No              4\n",
      "405      No              5\n",
      "406     Yes              0\n",
      "407     Yes              4\n",
      "408      No              4\n",
      "409      No              0\n",
      "410      No              1\n",
      "411      No              0\n",
      "412      No              0\n",
      "413      No              0\n",
      "414      No              5\n",
      "415      No              5\n",
      "416      No              4\n",
      "417      No              5\n",
      "418      No              5\n",
      "419     Yes              1\n",
      "420      No              0\n",
      "421      No              1\n",
      "422      No              4\n",
      "423      No              5\n",
      "424      No              0\n",
      "425      No              0\n",
      "426      No              1\n",
      "427      No              4\n",
      "428      No              0\n",
      "429      No              4\n",
      "430      No              5\n",
      "431      No              5\n",
      "432      No              4\n",
      "433      No              0\n",
      "434      No              4\n",
      "435      No              5\n",
      "436     Yes              4\n",
      "437      No              0\n",
      "438      No              0\n",
      "439      No              1\n",
      "440      No              0\n",
      "441      No              0\n",
      "442      No              0\n",
      "443      No              5\n",
      "444      No              5\n",
      "445      No              1\n",
      "446     Yes              1\n",
      "447     Yes              1\n",
      "448      No              3\n",
      "449      No              1\n",
      "450      No              1\n",
      "451      No              1\n",
      "452      No              0\n",
      "453      No              5\n",
      "454      No              3\n",
      "455      No              3\n",
      "456      No              0\n",
      "457     Yes              0\n",
      "458      No              4\n",
      "459      No              0\n",
      "460      No              1\n",
      "461      No              5\n",
      "462      No              5\n",
      "463      No              0\n",
      "464      No              5\n",
      "465      No              1\n",
      "466      No              0\n",
      "467      No              4\n",
      "468      No              0\n",
      "469     Yes              1\n",
      "470      No              4\n",
      "471      No              0\n",
      "472      No              0\n",
      "473     Yes              1\n",
      "474      No              0\n",
      "475      No              0\n",
      "476      No              4\n",
      "477      No              4\n",
      "478      No              0\n",
      "479      No              5\n",
      "480      No              1\n",
      "481      No              4\n",
      "482      No              5\n",
      "483      No              5\n",
      "484      No              4\n",
      "485     Yes              1\n",
      "486      No              4\n",
      "487      No              0\n",
      "488      No              0\n",
      "489      No              4\n",
      "490      No              4\n",
      "491      No              0\n",
      "492      No              0\n",
      "493      No              1\n",
      "494      No              1\n",
      "495      No              5\n",
      "496     Yes              5\n",
      "497      No              1\n",
      "498      No              1\n",
      "499      No              5\n",
      "500      No              5\n",
      "501      No              3\n",
      "502      No              4\n",
      "503      No              0\n",
      "504      No              0\n",
      "505      No              0\n",
      "506      No              4\n",
      "507      No              5\n",
      "508      No              1\n",
      "509      No              0\n",
      "510      No              1\n"
     ]
    }
   ],
   "source": [
    "# create a new variable 'EducationLevel'\n",
    "demodf$EducationLevel <- ifelse(demodf$educ == 'Did not complete high school', 0 , \n",
    "                                ifelse(demodf$educ == 'High school degree', 1,\n",
    "                                       ifelse(demodf$educ == 'Post-undergraduate degree', 3,\n",
    "                                              ifelse(demodf$educ == 'Some college', 4, 5))))\n",
    "\n",
    "# print the updated data frame\n",
    "print(demodf)\n"
   ]
  },
  {
   "cell_type": "code",
   "execution_count": null,
   "id": "a07e299d",
   "metadata": {
    "vscode": {
     "languageId": "r"
    }
   },
   "outputs": [],
   "source": []
  }
 ],
 "metadata": {
  "kernelspec": {
   "display_name": "R",
   "language": "R",
   "name": "ir"
  },
  "language_info": {
   "codemirror_mode": "r",
   "file_extension": ".r",
   "mimetype": "text/x-r-source",
   "name": "R",
   "pygments_lexer": "r",
   "version": "4.2.2"
  }
 },
 "nbformat": 4,
 "nbformat_minor": 5
}
